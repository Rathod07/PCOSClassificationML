{
  "cells": [
    {
      "cell_type": "markdown",
      "metadata": {
        "id": "view-in-github",
        "colab_type": "text"
      },
      "source": [
        "<a href=\"https://colab.research.google.com/github/Rathod07/PCOSClassificationML/blob/main/Copy_of_PCOS_prediction_using_different_classifiers_.ipynb\" target=\"_parent\"><img src=\"https://colab.research.google.com/assets/colab-badge.svg\" alt=\"Open In Colab\"/></a>"
      ]
    },
    {
      "cell_type": "code",
      "execution_count": null,
      "metadata": {
        "colab": {
          "base_uri": "https://localhost:8080/"
        },
        "id": "7A-CoDVcyIx2",
        "outputId": "f58e99ef-93db-4c07-d818-cc972619d6f8"
      },
      "outputs": [
        {
          "output_type": "stream",
          "name": "stdout",
          "text": [
            "Requirement already satisfied: openpyxl==3.0.9 in /usr/local/lib/python3.7/dist-packages (3.0.9)\n",
            "Requirement already satisfied: et-xmlfile in /usr/local/lib/python3.7/dist-packages (from openpyxl==3.0.9) (1.1.0)\n"
          ]
        }
      ],
      "source": [
        "!pip install openpyxl==3.0.9"
      ]
    },
    {
      "cell_type": "code",
      "execution_count": null,
      "metadata": {
        "colab": {
          "base_uri": "https://localhost:8080/"
        },
        "id": "cwNDsiD0YjqI",
        "outputId": "e72328e4-de95-4d67-9652-62e47be067b1"
      },
      "outputs": [
        {
          "output_type": "stream",
          "name": "stdout",
          "text": [
            "Collecting catboost\n",
            "  Downloading catboost-1.0.4-cp37-none-manylinux1_x86_64.whl (76.1 MB)\n",
            "\u001b[K     |████████████████████████████████| 76.1 MB 1.3 MB/s \n",
            "\u001b[?25hRequirement already satisfied: numpy>=1.16.0 in /usr/local/lib/python3.7/dist-packages (from catboost) (1.19.5)\n",
            "Requirement already satisfied: scipy in /usr/local/lib/python3.7/dist-packages (from catboost) (1.4.1)\n",
            "Requirement already satisfied: matplotlib in /usr/local/lib/python3.7/dist-packages (from catboost) (3.2.2)\n",
            "Requirement already satisfied: graphviz in /usr/local/lib/python3.7/dist-packages (from catboost) (0.10.1)\n",
            "Requirement already satisfied: pandas>=0.24.0 in /usr/local/lib/python3.7/dist-packages (from catboost) (1.3.5)\n",
            "Requirement already satisfied: six in /usr/local/lib/python3.7/dist-packages (from catboost) (1.15.0)\n",
            "Requirement already satisfied: plotly in /usr/local/lib/python3.7/dist-packages (from catboost) (5.5.0)\n",
            "Requirement already satisfied: pytz>=2017.3 in /usr/local/lib/python3.7/dist-packages (from pandas>=0.24.0->catboost) (2018.9)\n",
            "Requirement already satisfied: python-dateutil>=2.7.3 in /usr/local/lib/python3.7/dist-packages (from pandas>=0.24.0->catboost) (2.8.2)\n",
            "Requirement already satisfied: cycler>=0.10 in /usr/local/lib/python3.7/dist-packages (from matplotlib->catboost) (0.11.0)\n",
            "Requirement already satisfied: pyparsing!=2.0.4,!=2.1.2,!=2.1.6,>=2.0.1 in /usr/local/lib/python3.7/dist-packages (from matplotlib->catboost) (3.0.7)\n",
            "Requirement already satisfied: kiwisolver>=1.0.1 in /usr/local/lib/python3.7/dist-packages (from matplotlib->catboost) (1.3.2)\n",
            "Requirement already satisfied: tenacity>=6.2.0 in /usr/local/lib/python3.7/dist-packages (from plotly->catboost) (8.0.1)\n",
            "Installing collected packages: catboost\n",
            "Successfully installed catboost-1.0.4\n"
          ]
        }
      ],
      "source": [
        "!pip install catboost"
      ]
    },
    {
      "cell_type": "code",
      "execution_count": null,
      "metadata": {
        "id": "iK7tidVDF82Q",
        "colab": {
          "base_uri": "https://localhost:8080/"
        },
        "outputId": "d98d47f4-7530-408b-c14e-43b374b07bd4"
      },
      "outputs": [
        {
          "output_type": "stream",
          "name": "stderr",
          "text": [
            "/usr/local/lib/python3.7/dist-packages/statsmodels/tools/_testing.py:19: FutureWarning: pandas.util.testing is deprecated. Use the functions in the public API at pandas.testing instead.\n",
            "  import pandas.util.testing as tm\n"
          ]
        }
      ],
      "source": [
        "import pandas as pd\n",
        "import numpy as np\n",
        "import matplotlib.pyplot as plt\n",
        "import seaborn as sns\n",
        "from sklearn.model_selection import train_test_split\n",
        "from sklearn.linear_model import LogisticRegression\n",
        "from sklearn.feature_selection import RFE\n",
        "from sklearn.metrics import accuracy_score\n",
        "from sklearn.metrics import precision_score\n",
        "from sklearn.metrics import recall_score\n",
        "from sklearn.metrics import f1_score\n",
        "from sklearn.metrics import confusion_matrix\n",
        "from sklearn import metrics\n",
        "from sklearn.neighbors import KNeighborsClassifier\n",
        "from sklearn.tree import DecisionTreeClassifier\n",
        "from sklearn import svm\n",
        "from sklearn.ensemble import RandomForestClassifier\n",
        "from sklearn.naive_bayes import BernoulliNB\n",
        "from sklearn.preprocessing import StandardScaler\n",
        "import statsmodels.api as sm\n",
        "from catboost import CatBoostClassifier"
      ]
    },
    {
      "cell_type": "markdown",
      "metadata": {
        "id": "vFAUH3OYvD2v"
      },
      "source": [
        "Reading the data using pandas"
      ]
    },
    {
      "cell_type": "code",
      "execution_count": null,
      "metadata": {
        "id": "GETT6BNsGHvZ",
        "colab": {
          "base_uri": "https://localhost:8080/",
          "height": 165
        },
        "outputId": "3a823b43-5f57-4ca3-8357-5cf0e54f1b5c"
      },
      "outputs": [
        {
          "output_type": "error",
          "ename": "NameError",
          "evalue": "ignored",
          "traceback": [
            "\u001b[0;31m---------------------------------------------------------------------------\u001b[0m",
            "\u001b[0;31mNameError\u001b[0m                                 Traceback (most recent call last)",
            "\u001b[0;32m<ipython-input-5-bbbb772463b7>\u001b[0m in \u001b[0;36m<module>\u001b[0;34m()\u001b[0m\n\u001b[0;32m----> 1\u001b[0;31m \u001b[0mdf\u001b[0m\u001b[0;34m=\u001b[0m\u001b[0mpd\u001b[0m\u001b[0;34m.\u001b[0m\u001b[0mread_excel\u001b[0m\u001b[0;34m(\u001b[0m\u001b[0;34m'sample data/PCOS_data_without_infertility.xlsx'\u001b[0m\u001b[0;34m,\u001b[0m\u001b[0msheet_name\u001b[0m\u001b[0;34m=\u001b[0m\u001b[0;34m'Full_new'\u001b[0m\u001b[0;34m)\u001b[0m\u001b[0;34m\u001b[0m\u001b[0;34m\u001b[0m\u001b[0m\n\u001b[0m",
            "\u001b[0;31mNameError\u001b[0m: name 'pd' is not defined"
          ]
        }
      ],
      "source": [
        "df=pd.read_excel('sample data/PCOS_data_without_infertility.xlsx',sheet_name='Full_new')"
      ]
    },
    {
      "cell_type": "markdown",
      "metadata": {
        "id": "fE37lWwfvIgd"
      },
      "source": [
        "'sheet_name' used because the data is on 'full new 'shee\n",
        "\n"
      ]
    },
    {
      "cell_type": "markdown",
      "metadata": {
        "id": "YpSfvyJtvG50"
      },
      "source": [
        "\n",
        "displaying first 5 values"
      ]
    },
    {
      "cell_type": "code",
      "execution_count": null,
      "metadata": {
        "colab": {
          "base_uri": "https://localhost:8080/",
          "height": 340
        },
        "id": "75DXxC7AV-MP",
        "outputId": "89eb67fc-d633-4e7c-e588-7d4df95409c4"
      },
      "outputs": [
        {
          "data": {
            "text/html": [
              "\n",
              "  <div id=\"df-7a0c929f-a5e3-42c4-9d88-c5bc61915c20\">\n",
              "    <div class=\"colab-df-container\">\n",
              "      <div>\n",
              "<style scoped>\n",
              "    .dataframe tbody tr th:only-of-type {\n",
              "        vertical-align: middle;\n",
              "    }\n",
              "\n",
              "    .dataframe tbody tr th {\n",
              "        vertical-align: top;\n",
              "    }\n",
              "\n",
              "    .dataframe thead th {\n",
              "        text-align: right;\n",
              "    }\n",
              "</style>\n",
              "<table border=\"1\" class=\"dataframe\">\n",
              "  <thead>\n",
              "    <tr style=\"text-align: right;\">\n",
              "      <th></th>\n",
              "      <th>Sl. No</th>\n",
              "      <th>Patient File No.</th>\n",
              "      <th>PCOS (Y/N)</th>\n",
              "      <th>Age (yrs)</th>\n",
              "      <th>Weight (Kg)</th>\n",
              "      <th>Height(Cm)</th>\n",
              "      <th>BMI</th>\n",
              "      <th>Blood Group</th>\n",
              "      <th>Pulse rate(bpm)</th>\n",
              "      <th>RR (breaths/min)</th>\n",
              "      <th>Hb(g/dl)</th>\n",
              "      <th>Cycle(R/I)</th>\n",
              "      <th>Cycle length(days)</th>\n",
              "      <th>Marraige Status (Yrs)</th>\n",
              "      <th>Pregnant(Y/N)</th>\n",
              "      <th>No. of aborptions</th>\n",
              "      <th>I   beta-HCG(mIU/mL)</th>\n",
              "      <th>II    beta-HCG(mIU/mL)</th>\n",
              "      <th>FSH(mIU/mL)</th>\n",
              "      <th>LH(mIU/mL)</th>\n",
              "      <th>FSH/LH</th>\n",
              "      <th>Hip(inch)</th>\n",
              "      <th>Waist(inch)</th>\n",
              "      <th>Waist:Hip Ratio</th>\n",
              "      <th>TSH (mIU/L)</th>\n",
              "      <th>AMH(ng/mL)</th>\n",
              "      <th>PRL(ng/mL)</th>\n",
              "      <th>Vit D3 (ng/mL)</th>\n",
              "      <th>PRG(ng/mL)</th>\n",
              "      <th>RBS(mg/dl)</th>\n",
              "      <th>Weight gain(Y/N)</th>\n",
              "      <th>hair growth(Y/N)</th>\n",
              "      <th>Skin darkening (Y/N)</th>\n",
              "      <th>Hair loss(Y/N)</th>\n",
              "      <th>Pimples(Y/N)</th>\n",
              "      <th>Fast food (Y/N)</th>\n",
              "      <th>Reg.Exercise(Y/N)</th>\n",
              "      <th>BP _Systolic (mmHg)</th>\n",
              "      <th>BP _Diastolic (mmHg)</th>\n",
              "      <th>Follicle No. (L)</th>\n",
              "      <th>Follicle No. (R)</th>\n",
              "      <th>Avg. F size (L) (mm)</th>\n",
              "      <th>Avg. F size (R) (mm)</th>\n",
              "      <th>Endometrium (mm)</th>\n",
              "      <th>Unnamed: 44</th>\n",
              "    </tr>\n",
              "  </thead>\n",
              "  <tbody>\n",
              "    <tr>\n",
              "      <th>0</th>\n",
              "      <td>1.0</td>\n",
              "      <td>1.0</td>\n",
              "      <td>0.0</td>\n",
              "      <td>28.0</td>\n",
              "      <td>44.6</td>\n",
              "      <td>152.0</td>\n",
              "      <td>19.300000</td>\n",
              "      <td>15.0</td>\n",
              "      <td>78.0</td>\n",
              "      <td>22.0</td>\n",
              "      <td>10.48</td>\n",
              "      <td>2.0</td>\n",
              "      <td>5.0</td>\n",
              "      <td>7.0</td>\n",
              "      <td>0.0</td>\n",
              "      <td>0.0</td>\n",
              "      <td>1.99</td>\n",
              "      <td>1.99</td>\n",
              "      <td>7.95</td>\n",
              "      <td>3.68</td>\n",
              "      <td>2.160326</td>\n",
              "      <td>36.0</td>\n",
              "      <td>30.0</td>\n",
              "      <td>0.833333</td>\n",
              "      <td>0.68</td>\n",
              "      <td>2.07</td>\n",
              "      <td>45.16</td>\n",
              "      <td>17.1</td>\n",
              "      <td>0.57</td>\n",
              "      <td>92.0</td>\n",
              "      <td>0.0</td>\n",
              "      <td>0.0</td>\n",
              "      <td>0.0</td>\n",
              "      <td>0.0</td>\n",
              "      <td>0.0</td>\n",
              "      <td>1.0</td>\n",
              "      <td>0.0</td>\n",
              "      <td>110.0</td>\n",
              "      <td>80.0</td>\n",
              "      <td>3.0</td>\n",
              "      <td>3.0</td>\n",
              "      <td>18.0</td>\n",
              "      <td>18.0</td>\n",
              "      <td>8.5</td>\n",
              "      <td>NaN</td>\n",
              "    </tr>\n",
              "    <tr>\n",
              "      <th>1</th>\n",
              "      <td>2.0</td>\n",
              "      <td>2.0</td>\n",
              "      <td>0.0</td>\n",
              "      <td>36.0</td>\n",
              "      <td>65.0</td>\n",
              "      <td>161.5</td>\n",
              "      <td>24.921163</td>\n",
              "      <td>15.0</td>\n",
              "      <td>74.0</td>\n",
              "      <td>20.0</td>\n",
              "      <td>11.70</td>\n",
              "      <td>2.0</td>\n",
              "      <td>5.0</td>\n",
              "      <td>11.0</td>\n",
              "      <td>1.0</td>\n",
              "      <td>0.0</td>\n",
              "      <td>60.80</td>\n",
              "      <td>1.99</td>\n",
              "      <td>6.73</td>\n",
              "      <td>1.09</td>\n",
              "      <td>6.174312</td>\n",
              "      <td>38.0</td>\n",
              "      <td>32.0</td>\n",
              "      <td>0.842105</td>\n",
              "      <td>3.16</td>\n",
              "      <td>1.53</td>\n",
              "      <td>20.09</td>\n",
              "      <td>61.3</td>\n",
              "      <td>0.97</td>\n",
              "      <td>92.0</td>\n",
              "      <td>0.0</td>\n",
              "      <td>0.0</td>\n",
              "      <td>0.0</td>\n",
              "      <td>0.0</td>\n",
              "      <td>0.0</td>\n",
              "      <td>0.0</td>\n",
              "      <td>0.0</td>\n",
              "      <td>120.0</td>\n",
              "      <td>70.0</td>\n",
              "      <td>3.0</td>\n",
              "      <td>5.0</td>\n",
              "      <td>15.0</td>\n",
              "      <td>14.0</td>\n",
              "      <td>3.7</td>\n",
              "      <td>NaN</td>\n",
              "    </tr>\n",
              "    <tr>\n",
              "      <th>2</th>\n",
              "      <td>3.0</td>\n",
              "      <td>3.0</td>\n",
              "      <td>1.0</td>\n",
              "      <td>33.0</td>\n",
              "      <td>68.8</td>\n",
              "      <td>165.0</td>\n",
              "      <td>25.270891</td>\n",
              "      <td>11.0</td>\n",
              "      <td>72.0</td>\n",
              "      <td>18.0</td>\n",
              "      <td>11.80</td>\n",
              "      <td>2.0</td>\n",
              "      <td>5.0</td>\n",
              "      <td>10.0</td>\n",
              "      <td>1.0</td>\n",
              "      <td>0.0</td>\n",
              "      <td>494.08</td>\n",
              "      <td>494.08</td>\n",
              "      <td>5.54</td>\n",
              "      <td>0.88</td>\n",
              "      <td>6.295455</td>\n",
              "      <td>40.0</td>\n",
              "      <td>36.0</td>\n",
              "      <td>0.900000</td>\n",
              "      <td>2.54</td>\n",
              "      <td>6.63</td>\n",
              "      <td>10.52</td>\n",
              "      <td>49.7</td>\n",
              "      <td>0.36</td>\n",
              "      <td>84.0</td>\n",
              "      <td>0.0</td>\n",
              "      <td>0.0</td>\n",
              "      <td>0.0</td>\n",
              "      <td>1.0</td>\n",
              "      <td>1.0</td>\n",
              "      <td>1.0</td>\n",
              "      <td>0.0</td>\n",
              "      <td>120.0</td>\n",
              "      <td>80.0</td>\n",
              "      <td>13.0</td>\n",
              "      <td>15.0</td>\n",
              "      <td>18.0</td>\n",
              "      <td>20.0</td>\n",
              "      <td>10.0</td>\n",
              "      <td>NaN</td>\n",
              "    </tr>\n",
              "    <tr>\n",
              "      <th>3</th>\n",
              "      <td>4.0</td>\n",
              "      <td>4.0</td>\n",
              "      <td>0.0</td>\n",
              "      <td>37.0</td>\n",
              "      <td>65.0</td>\n",
              "      <td>148.0</td>\n",
              "      <td>29.674945</td>\n",
              "      <td>13.0</td>\n",
              "      <td>72.0</td>\n",
              "      <td>20.0</td>\n",
              "      <td>12.00</td>\n",
              "      <td>2.0</td>\n",
              "      <td>5.0</td>\n",
              "      <td>4.0</td>\n",
              "      <td>0.0</td>\n",
              "      <td>0.0</td>\n",
              "      <td>1.99</td>\n",
              "      <td>1.99</td>\n",
              "      <td>8.06</td>\n",
              "      <td>2.36</td>\n",
              "      <td>3.415254</td>\n",
              "      <td>42.0</td>\n",
              "      <td>36.0</td>\n",
              "      <td>0.857143</td>\n",
              "      <td>16.41</td>\n",
              "      <td>1.22</td>\n",
              "      <td>36.90</td>\n",
              "      <td>33.4</td>\n",
              "      <td>0.36</td>\n",
              "      <td>76.0</td>\n",
              "      <td>0.0</td>\n",
              "      <td>0.0</td>\n",
              "      <td>0.0</td>\n",
              "      <td>0.0</td>\n",
              "      <td>0.0</td>\n",
              "      <td>0.0</td>\n",
              "      <td>0.0</td>\n",
              "      <td>120.0</td>\n",
              "      <td>70.0</td>\n",
              "      <td>2.0</td>\n",
              "      <td>2.0</td>\n",
              "      <td>15.0</td>\n",
              "      <td>14.0</td>\n",
              "      <td>7.5</td>\n",
              "      <td>NaN</td>\n",
              "    </tr>\n",
              "    <tr>\n",
              "      <th>4</th>\n",
              "      <td>5.0</td>\n",
              "      <td>5.0</td>\n",
              "      <td>0.0</td>\n",
              "      <td>25.0</td>\n",
              "      <td>52.0</td>\n",
              "      <td>161.0</td>\n",
              "      <td>20.060954</td>\n",
              "      <td>11.0</td>\n",
              "      <td>72.0</td>\n",
              "      <td>18.0</td>\n",
              "      <td>10.00</td>\n",
              "      <td>2.0</td>\n",
              "      <td>5.0</td>\n",
              "      <td>1.0</td>\n",
              "      <td>1.0</td>\n",
              "      <td>0.0</td>\n",
              "      <td>801.45</td>\n",
              "      <td>801.45</td>\n",
              "      <td>3.98</td>\n",
              "      <td>0.90</td>\n",
              "      <td>4.422222</td>\n",
              "      <td>37.0</td>\n",
              "      <td>30.0</td>\n",
              "      <td>0.810811</td>\n",
              "      <td>3.57</td>\n",
              "      <td>2.26</td>\n",
              "      <td>30.09</td>\n",
              "      <td>43.8</td>\n",
              "      <td>0.38</td>\n",
              "      <td>84.0</td>\n",
              "      <td>0.0</td>\n",
              "      <td>0.0</td>\n",
              "      <td>0.0</td>\n",
              "      <td>1.0</td>\n",
              "      <td>0.0</td>\n",
              "      <td>0.0</td>\n",
              "      <td>0.0</td>\n",
              "      <td>120.0</td>\n",
              "      <td>80.0</td>\n",
              "      <td>3.0</td>\n",
              "      <td>4.0</td>\n",
              "      <td>16.0</td>\n",
              "      <td>14.0</td>\n",
              "      <td>7.0</td>\n",
              "      <td>NaN</td>\n",
              "    </tr>\n",
              "  </tbody>\n",
              "</table>\n",
              "</div>\n",
              "      <button class=\"colab-df-convert\" onclick=\"convertToInteractive('df-7a0c929f-a5e3-42c4-9d88-c5bc61915c20')\"\n",
              "              title=\"Convert this dataframe to an interactive table.\"\n",
              "              style=\"display:none;\">\n",
              "        \n",
              "  <svg xmlns=\"http://www.w3.org/2000/svg\" height=\"24px\"viewBox=\"0 0 24 24\"\n",
              "       width=\"24px\">\n",
              "    <path d=\"M0 0h24v24H0V0z\" fill=\"none\"/>\n",
              "    <path d=\"M18.56 5.44l.94 2.06.94-2.06 2.06-.94-2.06-.94-.94-2.06-.94 2.06-2.06.94zm-11 1L8.5 8.5l.94-2.06 2.06-.94-2.06-.94L8.5 2.5l-.94 2.06-2.06.94zm10 10l.94 2.06.94-2.06 2.06-.94-2.06-.94-.94-2.06-.94 2.06-2.06.94z\"/><path d=\"M17.41 7.96l-1.37-1.37c-.4-.4-.92-.59-1.43-.59-.52 0-1.04.2-1.43.59L10.3 9.45l-7.72 7.72c-.78.78-.78 2.05 0 2.83L4 21.41c.39.39.9.59 1.41.59.51 0 1.02-.2 1.41-.59l7.78-7.78 2.81-2.81c.8-.78.8-2.07 0-2.86zM5.41 20L4 18.59l7.72-7.72 1.47 1.35L5.41 20z\"/>\n",
              "  </svg>\n",
              "      </button>\n",
              "      \n",
              "  <style>\n",
              "    .colab-df-container {\n",
              "      display:flex;\n",
              "      flex-wrap:wrap;\n",
              "      gap: 12px;\n",
              "    }\n",
              "\n",
              "    .colab-df-convert {\n",
              "      background-color: #E8F0FE;\n",
              "      border: none;\n",
              "      border-radius: 50%;\n",
              "      cursor: pointer;\n",
              "      display: none;\n",
              "      fill: #1967D2;\n",
              "      height: 32px;\n",
              "      padding: 0 0 0 0;\n",
              "      width: 32px;\n",
              "    }\n",
              "\n",
              "    .colab-df-convert:hover {\n",
              "      background-color: #E2EBFA;\n",
              "      box-shadow: 0px 1px 2px rgba(60, 64, 67, 0.3), 0px 1px 3px 1px rgba(60, 64, 67, 0.15);\n",
              "      fill: #174EA6;\n",
              "    }\n",
              "\n",
              "    [theme=dark] .colab-df-convert {\n",
              "      background-color: #3B4455;\n",
              "      fill: #D2E3FC;\n",
              "    }\n",
              "\n",
              "    [theme=dark] .colab-df-convert:hover {\n",
              "      background-color: #434B5C;\n",
              "      box-shadow: 0px 1px 3px 1px rgba(0, 0, 0, 0.15);\n",
              "      filter: drop-shadow(0px 1px 2px rgba(0, 0, 0, 0.3));\n",
              "      fill: #FFFFFF;\n",
              "    }\n",
              "  </style>\n",
              "\n",
              "      <script>\n",
              "        const buttonEl =\n",
              "          document.querySelector('#df-7a0c929f-a5e3-42c4-9d88-c5bc61915c20 button.colab-df-convert');\n",
              "        buttonEl.style.display =\n",
              "          google.colab.kernel.accessAllowed ? 'block' : 'none';\n",
              "\n",
              "        async function convertToInteractive(key) {\n",
              "          const element = document.querySelector('#df-7a0c929f-a5e3-42c4-9d88-c5bc61915c20');\n",
              "          const dataTable =\n",
              "            await google.colab.kernel.invokeFunction('convertToInteractive',\n",
              "                                                     [key], {});\n",
              "          if (!dataTable) return;\n",
              "\n",
              "          const docLinkHtml = 'Like what you see? Visit the ' +\n",
              "            '<a target=\"_blank\" href=https://colab.research.google.com/notebooks/data_table.ipynb>data table notebook</a>'\n",
              "            + ' to learn more about interactive tables.';\n",
              "          element.innerHTML = '';\n",
              "          dataTable['output_type'] = 'display_data';\n",
              "          await google.colab.output.renderOutput(dataTable, element);\n",
              "          const docLink = document.createElement('div');\n",
              "          docLink.innerHTML = docLinkHtml;\n",
              "          element.appendChild(docLink);\n",
              "        }\n",
              "      </script>\n",
              "    </div>\n",
              "  </div>\n",
              "  "
            ],
            "text/plain": [
              "   Sl. No  Patient File No.  ...  Endometrium (mm)  Unnamed: 44\n",
              "0     1.0               1.0  ...               8.5          NaN\n",
              "1     2.0               2.0  ...               3.7          NaN\n",
              "2     3.0               3.0  ...              10.0          NaN\n",
              "3     4.0               4.0  ...               7.5          NaN\n",
              "4     5.0               5.0  ...               7.0          NaN\n",
              "\n",
              "[5 rows x 45 columns]"
            ]
          },
          "execution_count": 442,
          "metadata": {},
          "output_type": "execute_result"
        }
      ],
      "source": [
        "df.head(5)"
      ]
    },
    {
      "cell_type": "code",
      "execution_count": null,
      "metadata": {
        "colab": {
          "base_uri": "https://localhost:8080/",
          "height": 340
        },
        "id": "xniq9rQ8Wd4J",
        "outputId": "5383ddd0-b354-4eca-87f8-39d325a41d5a"
      },
      "outputs": [
        {
          "data": {
            "text/html": [
              "\n",
              "  <div id=\"df-58ce6bcd-7617-4e8f-95fd-aa82cc79fe87\">\n",
              "    <div class=\"colab-df-container\">\n",
              "      <div>\n",
              "<style scoped>\n",
              "    .dataframe tbody tr th:only-of-type {\n",
              "        vertical-align: middle;\n",
              "    }\n",
              "\n",
              "    .dataframe tbody tr th {\n",
              "        vertical-align: top;\n",
              "    }\n",
              "\n",
              "    .dataframe thead th {\n",
              "        text-align: right;\n",
              "    }\n",
              "</style>\n",
              "<table border=\"1\" class=\"dataframe\">\n",
              "  <thead>\n",
              "    <tr style=\"text-align: right;\">\n",
              "      <th></th>\n",
              "      <th>Sl. No</th>\n",
              "      <th>Patient File No.</th>\n",
              "      <th>PCOS (Y/N)</th>\n",
              "      <th>Age (yrs)</th>\n",
              "      <th>Weight (Kg)</th>\n",
              "      <th>Height(Cm)</th>\n",
              "      <th>BMI</th>\n",
              "      <th>Blood Group</th>\n",
              "      <th>Pulse rate(bpm)</th>\n",
              "      <th>RR (breaths/min)</th>\n",
              "      <th>Hb(g/dl)</th>\n",
              "      <th>Cycle(R/I)</th>\n",
              "      <th>Cycle length(days)</th>\n",
              "      <th>Marraige Status (Yrs)</th>\n",
              "      <th>Pregnant(Y/N)</th>\n",
              "      <th>No. of aborptions</th>\n",
              "      <th>I   beta-HCG(mIU/mL)</th>\n",
              "      <th>II    beta-HCG(mIU/mL)</th>\n",
              "      <th>FSH(mIU/mL)</th>\n",
              "      <th>LH(mIU/mL)</th>\n",
              "      <th>FSH/LH</th>\n",
              "      <th>Hip(inch)</th>\n",
              "      <th>Waist(inch)</th>\n",
              "      <th>Waist:Hip Ratio</th>\n",
              "      <th>TSH (mIU/L)</th>\n",
              "      <th>AMH(ng/mL)</th>\n",
              "      <th>PRL(ng/mL)</th>\n",
              "      <th>Vit D3 (ng/mL)</th>\n",
              "      <th>PRG(ng/mL)</th>\n",
              "      <th>RBS(mg/dl)</th>\n",
              "      <th>Weight gain(Y/N)</th>\n",
              "      <th>hair growth(Y/N)</th>\n",
              "      <th>Skin darkening (Y/N)</th>\n",
              "      <th>Hair loss(Y/N)</th>\n",
              "      <th>Pimples(Y/N)</th>\n",
              "      <th>Fast food (Y/N)</th>\n",
              "      <th>Reg.Exercise(Y/N)</th>\n",
              "      <th>BP _Systolic (mmHg)</th>\n",
              "      <th>BP _Diastolic (mmHg)</th>\n",
              "      <th>Follicle No. (L)</th>\n",
              "      <th>Follicle No. (R)</th>\n",
              "      <th>Avg. F size (L) (mm)</th>\n",
              "      <th>Avg. F size (R) (mm)</th>\n",
              "      <th>Endometrium (mm)</th>\n",
              "      <th>Unnamed: 44</th>\n",
              "    </tr>\n",
              "  </thead>\n",
              "  <tbody>\n",
              "    <tr>\n",
              "      <th>536</th>\n",
              "      <td>537.0</td>\n",
              "      <td>537.0</td>\n",
              "      <td>0.0</td>\n",
              "      <td>35.0</td>\n",
              "      <td>50.0</td>\n",
              "      <td>164.592</td>\n",
              "      <td>18.5</td>\n",
              "      <td>17.0</td>\n",
              "      <td>72.0</td>\n",
              "      <td>16.0</td>\n",
              "      <td>11.0</td>\n",
              "      <td>2.0</td>\n",
              "      <td>5.0</td>\n",
              "      <td>8.0</td>\n",
              "      <td>0.0</td>\n",
              "      <td>1.0</td>\n",
              "      <td>1.99</td>\n",
              "      <td>1.99</td>\n",
              "      <td>10.06</td>\n",
              "      <td>1.81</td>\n",
              "      <td>5.558011</td>\n",
              "      <td>28.0</td>\n",
              "      <td>26.0</td>\n",
              "      <td>0.928571</td>\n",
              "      <td>1.11</td>\n",
              "      <td>1.7</td>\n",
              "      <td>5.30</td>\n",
              "      <td>36.6</td>\n",
              "      <td>0.25</td>\n",
              "      <td>92.0</td>\n",
              "      <td>0.0</td>\n",
              "      <td>0.0</td>\n",
              "      <td>0.0</td>\n",
              "      <td>0.0</td>\n",
              "      <td>0.0</td>\n",
              "      <td>0.0</td>\n",
              "      <td>0.0</td>\n",
              "      <td>110.0</td>\n",
              "      <td>70.0</td>\n",
              "      <td>1.0</td>\n",
              "      <td>0.0</td>\n",
              "      <td>17.5</td>\n",
              "      <td>10.0</td>\n",
              "      <td>6.7</td>\n",
              "      <td>NaN</td>\n",
              "    </tr>\n",
              "    <tr>\n",
              "      <th>537</th>\n",
              "      <td>538.0</td>\n",
              "      <td>538.0</td>\n",
              "      <td>0.0</td>\n",
              "      <td>30.0</td>\n",
              "      <td>63.2</td>\n",
              "      <td>158.000</td>\n",
              "      <td>25.3</td>\n",
              "      <td>15.0</td>\n",
              "      <td>72.0</td>\n",
              "      <td>18.0</td>\n",
              "      <td>10.8</td>\n",
              "      <td>2.0</td>\n",
              "      <td>5.0</td>\n",
              "      <td>4.0</td>\n",
              "      <td>1.0</td>\n",
              "      <td>1.0</td>\n",
              "      <td>80.13</td>\n",
              "      <td>1.99</td>\n",
              "      <td>5.07</td>\n",
              "      <td>2.84</td>\n",
              "      <td>1.785211</td>\n",
              "      <td>34.0</td>\n",
              "      <td>32.0</td>\n",
              "      <td>0.941176</td>\n",
              "      <td>2.05</td>\n",
              "      <td>5.6</td>\n",
              "      <td>21.09</td>\n",
              "      <td>23.0</td>\n",
              "      <td>0.25</td>\n",
              "      <td>108.0</td>\n",
              "      <td>1.0</td>\n",
              "      <td>0.0</td>\n",
              "      <td>0.0</td>\n",
              "      <td>0.0</td>\n",
              "      <td>0.0</td>\n",
              "      <td>0.0</td>\n",
              "      <td>0.0</td>\n",
              "      <td>110.0</td>\n",
              "      <td>70.0</td>\n",
              "      <td>9.0</td>\n",
              "      <td>7.0</td>\n",
              "      <td>19.0</td>\n",
              "      <td>18.0</td>\n",
              "      <td>8.2</td>\n",
              "      <td>NaN</td>\n",
              "    </tr>\n",
              "    <tr>\n",
              "      <th>538</th>\n",
              "      <td>539.0</td>\n",
              "      <td>539.0</td>\n",
              "      <td>0.0</td>\n",
              "      <td>36.0</td>\n",
              "      <td>54.0</td>\n",
              "      <td>152.000</td>\n",
              "      <td>23.4</td>\n",
              "      <td>13.0</td>\n",
              "      <td>74.0</td>\n",
              "      <td>20.0</td>\n",
              "      <td>10.8</td>\n",
              "      <td>2.0</td>\n",
              "      <td>6.0</td>\n",
              "      <td>8.0</td>\n",
              "      <td>0.0</td>\n",
              "      <td>0.0</td>\n",
              "      <td>1.99</td>\n",
              "      <td>1.99</td>\n",
              "      <td>11.96</td>\n",
              "      <td>2.78</td>\n",
              "      <td>4.302158</td>\n",
              "      <td>30.0</td>\n",
              "      <td>28.0</td>\n",
              "      <td>0.933333</td>\n",
              "      <td>2.87</td>\n",
              "      <td>3.7</td>\n",
              "      <td>96.41</td>\n",
              "      <td>22.5</td>\n",
              "      <td>0.25</td>\n",
              "      <td>92.0</td>\n",
              "      <td>0.0</td>\n",
              "      <td>0.0</td>\n",
              "      <td>0.0</td>\n",
              "      <td>0.0</td>\n",
              "      <td>0.0</td>\n",
              "      <td>0.0</td>\n",
              "      <td>0.0</td>\n",
              "      <td>110.0</td>\n",
              "      <td>80.0</td>\n",
              "      <td>1.0</td>\n",
              "      <td>0.0</td>\n",
              "      <td>18.0</td>\n",
              "      <td>9.0</td>\n",
              "      <td>7.3</td>\n",
              "      <td>NaN</td>\n",
              "    </tr>\n",
              "    <tr>\n",
              "      <th>539</th>\n",
              "      <td>540.0</td>\n",
              "      <td>540.0</td>\n",
              "      <td>0.0</td>\n",
              "      <td>27.0</td>\n",
              "      <td>50.0</td>\n",
              "      <td>150.000</td>\n",
              "      <td>22.2</td>\n",
              "      <td>15.0</td>\n",
              "      <td>74.0</td>\n",
              "      <td>20.0</td>\n",
              "      <td>12.0</td>\n",
              "      <td>4.0</td>\n",
              "      <td>2.0</td>\n",
              "      <td>2.0</td>\n",
              "      <td>0.0</td>\n",
              "      <td>0.0</td>\n",
              "      <td>292.92</td>\n",
              "      <td>1.99</td>\n",
              "      <td>4.40</td>\n",
              "      <td>4.33</td>\n",
              "      <td>1.016166</td>\n",
              "      <td>28.0</td>\n",
              "      <td>26.0</td>\n",
              "      <td>0.928571</td>\n",
              "      <td>2.50</td>\n",
              "      <td>5.2</td>\n",
              "      <td>38.89</td>\n",
              "      <td>22.4</td>\n",
              "      <td>0.25</td>\n",
              "      <td>115.0</td>\n",
              "      <td>0.0</td>\n",
              "      <td>0.0</td>\n",
              "      <td>0.0</td>\n",
              "      <td>0.0</td>\n",
              "      <td>1.0</td>\n",
              "      <td>0.0</td>\n",
              "      <td>0.0</td>\n",
              "      <td>110.0</td>\n",
              "      <td>70.0</td>\n",
              "      <td>7.0</td>\n",
              "      <td>6.0</td>\n",
              "      <td>18.0</td>\n",
              "      <td>16.0</td>\n",
              "      <td>11.5</td>\n",
              "      <td>NaN</td>\n",
              "    </tr>\n",
              "    <tr>\n",
              "      <th>540</th>\n",
              "      <td>541.0</td>\n",
              "      <td>541.0</td>\n",
              "      <td>1.0</td>\n",
              "      <td>23.0</td>\n",
              "      <td>82.0</td>\n",
              "      <td>165.000</td>\n",
              "      <td>30.1</td>\n",
              "      <td>13.0</td>\n",
              "      <td>80.0</td>\n",
              "      <td>20.0</td>\n",
              "      <td>10.2</td>\n",
              "      <td>4.0</td>\n",
              "      <td>7.0</td>\n",
              "      <td>2.0</td>\n",
              "      <td>0.0</td>\n",
              "      <td>0.0</td>\n",
              "      <td>1.99</td>\n",
              "      <td>1.99</td>\n",
              "      <td>3.99</td>\n",
              "      <td>4.30</td>\n",
              "      <td>0.927907</td>\n",
              "      <td>48.0</td>\n",
              "      <td>46.0</td>\n",
              "      <td>0.958333</td>\n",
              "      <td>1.66</td>\n",
              "      <td>20.0</td>\n",
              "      <td>20.74</td>\n",
              "      <td>17.4</td>\n",
              "      <td>0.37</td>\n",
              "      <td>108.0</td>\n",
              "      <td>1.0</td>\n",
              "      <td>1.0</td>\n",
              "      <td>1.0</td>\n",
              "      <td>1.0</td>\n",
              "      <td>1.0</td>\n",
              "      <td>1.0</td>\n",
              "      <td>0.0</td>\n",
              "      <td>120.0</td>\n",
              "      <td>70.0</td>\n",
              "      <td>9.0</td>\n",
              "      <td>10.0</td>\n",
              "      <td>19.0</td>\n",
              "      <td>18.0</td>\n",
              "      <td>6.9</td>\n",
              "      <td>NaN</td>\n",
              "    </tr>\n",
              "  </tbody>\n",
              "</table>\n",
              "</div>\n",
              "      <button class=\"colab-df-convert\" onclick=\"convertToInteractive('df-58ce6bcd-7617-4e8f-95fd-aa82cc79fe87')\"\n",
              "              title=\"Convert this dataframe to an interactive table.\"\n",
              "              style=\"display:none;\">\n",
              "        \n",
              "  <svg xmlns=\"http://www.w3.org/2000/svg\" height=\"24px\"viewBox=\"0 0 24 24\"\n",
              "       width=\"24px\">\n",
              "    <path d=\"M0 0h24v24H0V0z\" fill=\"none\"/>\n",
              "    <path d=\"M18.56 5.44l.94 2.06.94-2.06 2.06-.94-2.06-.94-.94-2.06-.94 2.06-2.06.94zm-11 1L8.5 8.5l.94-2.06 2.06-.94-2.06-.94L8.5 2.5l-.94 2.06-2.06.94zm10 10l.94 2.06.94-2.06 2.06-.94-2.06-.94-.94-2.06-.94 2.06-2.06.94z\"/><path d=\"M17.41 7.96l-1.37-1.37c-.4-.4-.92-.59-1.43-.59-.52 0-1.04.2-1.43.59L10.3 9.45l-7.72 7.72c-.78.78-.78 2.05 0 2.83L4 21.41c.39.39.9.59 1.41.59.51 0 1.02-.2 1.41-.59l7.78-7.78 2.81-2.81c.8-.78.8-2.07 0-2.86zM5.41 20L4 18.59l7.72-7.72 1.47 1.35L5.41 20z\"/>\n",
              "  </svg>\n",
              "      </button>\n",
              "      \n",
              "  <style>\n",
              "    .colab-df-container {\n",
              "      display:flex;\n",
              "      flex-wrap:wrap;\n",
              "      gap: 12px;\n",
              "    }\n",
              "\n",
              "    .colab-df-convert {\n",
              "      background-color: #E8F0FE;\n",
              "      border: none;\n",
              "      border-radius: 50%;\n",
              "      cursor: pointer;\n",
              "      display: none;\n",
              "      fill: #1967D2;\n",
              "      height: 32px;\n",
              "      padding: 0 0 0 0;\n",
              "      width: 32px;\n",
              "    }\n",
              "\n",
              "    .colab-df-convert:hover {\n",
              "      background-color: #E2EBFA;\n",
              "      box-shadow: 0px 1px 2px rgba(60, 64, 67, 0.3), 0px 1px 3px 1px rgba(60, 64, 67, 0.15);\n",
              "      fill: #174EA6;\n",
              "    }\n",
              "\n",
              "    [theme=dark] .colab-df-convert {\n",
              "      background-color: #3B4455;\n",
              "      fill: #D2E3FC;\n",
              "    }\n",
              "\n",
              "    [theme=dark] .colab-df-convert:hover {\n",
              "      background-color: #434B5C;\n",
              "      box-shadow: 0px 1px 3px 1px rgba(0, 0, 0, 0.15);\n",
              "      filter: drop-shadow(0px 1px 2px rgba(0, 0, 0, 0.3));\n",
              "      fill: #FFFFFF;\n",
              "    }\n",
              "  </style>\n",
              "\n",
              "      <script>\n",
              "        const buttonEl =\n",
              "          document.querySelector('#df-58ce6bcd-7617-4e8f-95fd-aa82cc79fe87 button.colab-df-convert');\n",
              "        buttonEl.style.display =\n",
              "          google.colab.kernel.accessAllowed ? 'block' : 'none';\n",
              "\n",
              "        async function convertToInteractive(key) {\n",
              "          const element = document.querySelector('#df-58ce6bcd-7617-4e8f-95fd-aa82cc79fe87');\n",
              "          const dataTable =\n",
              "            await google.colab.kernel.invokeFunction('convertToInteractive',\n",
              "                                                     [key], {});\n",
              "          if (!dataTable) return;\n",
              "\n",
              "          const docLinkHtml = 'Like what you see? Visit the ' +\n",
              "            '<a target=\"_blank\" href=https://colab.research.google.com/notebooks/data_table.ipynb>data table notebook</a>'\n",
              "            + ' to learn more about interactive tables.';\n",
              "          element.innerHTML = '';\n",
              "          dataTable['output_type'] = 'display_data';\n",
              "          await google.colab.output.renderOutput(dataTable, element);\n",
              "          const docLink = document.createElement('div');\n",
              "          docLink.innerHTML = docLinkHtml;\n",
              "          element.appendChild(docLink);\n",
              "        }\n",
              "      </script>\n",
              "    </div>\n",
              "  </div>\n",
              "  "
            ],
            "text/plain": [
              "     Sl. No  Patient File No.  ...  Endometrium (mm)  Unnamed: 44\n",
              "536   537.0             537.0  ...               6.7          NaN\n",
              "537   538.0             538.0  ...               8.2          NaN\n",
              "538   539.0             539.0  ...               7.3          NaN\n",
              "539   540.0             540.0  ...              11.5          NaN\n",
              "540   541.0             541.0  ...               6.9          NaN\n",
              "\n",
              "[5 rows x 45 columns]"
            ]
          },
          "execution_count": 443,
          "metadata": {},
          "output_type": "execute_result"
        }
      ],
      "source": [
        "df.tail(5)"
      ]
    },
    {
      "cell_type": "code",
      "execution_count": null,
      "metadata": {
        "colab": {
          "base_uri": "https://localhost:8080/",
          "height": 399
        },
        "id": "yZvfgyZJXrm5",
        "outputId": "fa3109eb-3573-4386-cd7a-7bd0afbc0582"
      },
      "outputs": [
        {
          "data": {
            "text/html": [
              "\n",
              "  <div id=\"df-703c89a5-27c5-47b9-aa78-048ee5630f26\">\n",
              "    <div class=\"colab-df-container\">\n",
              "      <div>\n",
              "<style scoped>\n",
              "    .dataframe tbody tr th:only-of-type {\n",
              "        vertical-align: middle;\n",
              "    }\n",
              "\n",
              "    .dataframe tbody tr th {\n",
              "        vertical-align: top;\n",
              "    }\n",
              "\n",
              "    .dataframe thead th {\n",
              "        text-align: right;\n",
              "    }\n",
              "</style>\n",
              "<table border=\"1\" class=\"dataframe\">\n",
              "  <thead>\n",
              "    <tr style=\"text-align: right;\">\n",
              "      <th></th>\n",
              "      <th>Sl. No</th>\n",
              "      <th>Patient File No.</th>\n",
              "      <th>PCOS (Y/N)</th>\n",
              "      <th>Age (yrs)</th>\n",
              "      <th>Weight (Kg)</th>\n",
              "      <th>Height(Cm)</th>\n",
              "      <th>BMI</th>\n",
              "      <th>Blood Group</th>\n",
              "      <th>Pulse rate(bpm)</th>\n",
              "      <th>RR (breaths/min)</th>\n",
              "      <th>Hb(g/dl)</th>\n",
              "      <th>Cycle(R/I)</th>\n",
              "      <th>Cycle length(days)</th>\n",
              "      <th>Marraige Status (Yrs)</th>\n",
              "      <th>Pregnant(Y/N)</th>\n",
              "      <th>No. of aborptions</th>\n",
              "      <th>I   beta-HCG(mIU/mL)</th>\n",
              "      <th>FSH(mIU/mL)</th>\n",
              "      <th>LH(mIU/mL)</th>\n",
              "      <th>FSH/LH</th>\n",
              "      <th>Hip(inch)</th>\n",
              "      <th>Waist(inch)</th>\n",
              "      <th>Waist:Hip Ratio</th>\n",
              "      <th>TSH (mIU/L)</th>\n",
              "      <th>PRL(ng/mL)</th>\n",
              "      <th>Vit D3 (ng/mL)</th>\n",
              "      <th>PRG(ng/mL)</th>\n",
              "      <th>RBS(mg/dl)</th>\n",
              "      <th>Weight gain(Y/N)</th>\n",
              "      <th>hair growth(Y/N)</th>\n",
              "      <th>Skin darkening (Y/N)</th>\n",
              "      <th>Hair loss(Y/N)</th>\n",
              "      <th>Pimples(Y/N)</th>\n",
              "      <th>Fast food (Y/N)</th>\n",
              "      <th>Reg.Exercise(Y/N)</th>\n",
              "      <th>BP _Systolic (mmHg)</th>\n",
              "      <th>BP _Diastolic (mmHg)</th>\n",
              "      <th>Follicle No. (L)</th>\n",
              "      <th>Follicle No. (R)</th>\n",
              "      <th>Avg. F size (L) (mm)</th>\n",
              "      <th>Avg. F size (R) (mm)</th>\n",
              "      <th>Endometrium (mm)</th>\n",
              "    </tr>\n",
              "  </thead>\n",
              "  <tbody>\n",
              "    <tr>\n",
              "      <th>count</th>\n",
              "      <td>541.000000</td>\n",
              "      <td>541.000000</td>\n",
              "      <td>541.000000</td>\n",
              "      <td>541.000000</td>\n",
              "      <td>541.000000</td>\n",
              "      <td>541.000000</td>\n",
              "      <td>541.000000</td>\n",
              "      <td>541.000000</td>\n",
              "      <td>541.000000</td>\n",
              "      <td>541.000000</td>\n",
              "      <td>541.000000</td>\n",
              "      <td>541.000000</td>\n",
              "      <td>541.00000</td>\n",
              "      <td>540.000000</td>\n",
              "      <td>541.000000</td>\n",
              "      <td>541.000000</td>\n",
              "      <td>541.000000</td>\n",
              "      <td>541.000000</td>\n",
              "      <td>541.000000</td>\n",
              "      <td>541.000000</td>\n",
              "      <td>541.000000</td>\n",
              "      <td>541.000000</td>\n",
              "      <td>541.000000</td>\n",
              "      <td>541.000000</td>\n",
              "      <td>541.000000</td>\n",
              "      <td>541.000000</td>\n",
              "      <td>541.000000</td>\n",
              "      <td>541.000000</td>\n",
              "      <td>541.000000</td>\n",
              "      <td>541.000000</td>\n",
              "      <td>541.000000</td>\n",
              "      <td>541.000000</td>\n",
              "      <td>541.000000</td>\n",
              "      <td>540.000000</td>\n",
              "      <td>541.000000</td>\n",
              "      <td>541.000000</td>\n",
              "      <td>541.000000</td>\n",
              "      <td>541.000000</td>\n",
              "      <td>541.000000</td>\n",
              "      <td>541.000000</td>\n",
              "      <td>541.000000</td>\n",
              "      <td>541.000000</td>\n",
              "    </tr>\n",
              "    <tr>\n",
              "      <th>mean</th>\n",
              "      <td>271.000000</td>\n",
              "      <td>271.000000</td>\n",
              "      <td>0.327172</td>\n",
              "      <td>31.430684</td>\n",
              "      <td>59.637153</td>\n",
              "      <td>156.484835</td>\n",
              "      <td>24.311285</td>\n",
              "      <td>13.802218</td>\n",
              "      <td>73.247689</td>\n",
              "      <td>19.243993</td>\n",
              "      <td>11.160037</td>\n",
              "      <td>2.560074</td>\n",
              "      <td>4.94085</td>\n",
              "      <td>7.680926</td>\n",
              "      <td>0.380776</td>\n",
              "      <td>0.288355</td>\n",
              "      <td>664.549235</td>\n",
              "      <td>14.601832</td>\n",
              "      <td>6.469919</td>\n",
              "      <td>6.904831</td>\n",
              "      <td>37.992606</td>\n",
              "      <td>33.841035</td>\n",
              "      <td>0.891895</td>\n",
              "      <td>2.981281</td>\n",
              "      <td>24.321497</td>\n",
              "      <td>49.915874</td>\n",
              "      <td>0.610945</td>\n",
              "      <td>99.835860</td>\n",
              "      <td>0.377079</td>\n",
              "      <td>0.273567</td>\n",
              "      <td>0.306839</td>\n",
              "      <td>0.452865</td>\n",
              "      <td>0.489834</td>\n",
              "      <td>0.514815</td>\n",
              "      <td>0.247689</td>\n",
              "      <td>114.661738</td>\n",
              "      <td>76.927911</td>\n",
              "      <td>6.129390</td>\n",
              "      <td>6.641405</td>\n",
              "      <td>15.018115</td>\n",
              "      <td>15.451701</td>\n",
              "      <td>8.475915</td>\n",
              "    </tr>\n",
              "    <tr>\n",
              "      <th>std</th>\n",
              "      <td>156.317519</td>\n",
              "      <td>156.317519</td>\n",
              "      <td>0.469615</td>\n",
              "      <td>5.411006</td>\n",
              "      <td>11.028287</td>\n",
              "      <td>6.033545</td>\n",
              "      <td>4.056399</td>\n",
              "      <td>1.840812</td>\n",
              "      <td>4.430285</td>\n",
              "      <td>1.688629</td>\n",
              "      <td>0.866904</td>\n",
              "      <td>0.901950</td>\n",
              "      <td>1.49202</td>\n",
              "      <td>4.803835</td>\n",
              "      <td>0.486027</td>\n",
              "      <td>0.692575</td>\n",
              "      <td>3348.920576</td>\n",
              "      <td>217.022081</td>\n",
              "      <td>86.673255</td>\n",
              "      <td>60.691822</td>\n",
              "      <td>3.967920</td>\n",
              "      <td>3.596894</td>\n",
              "      <td>0.046326</td>\n",
              "      <td>3.755532</td>\n",
              "      <td>14.970391</td>\n",
              "      <td>346.206599</td>\n",
              "      <td>3.808853</td>\n",
              "      <td>18.559298</td>\n",
              "      <td>0.485104</td>\n",
              "      <td>0.446202</td>\n",
              "      <td>0.461609</td>\n",
              "      <td>0.498234</td>\n",
              "      <td>0.500359</td>\n",
              "      <td>0.500244</td>\n",
              "      <td>0.432070</td>\n",
              "      <td>7.384556</td>\n",
              "      <td>5.574112</td>\n",
              "      <td>4.229294</td>\n",
              "      <td>4.436889</td>\n",
              "      <td>3.566839</td>\n",
              "      <td>3.318848</td>\n",
              "      <td>2.165381</td>\n",
              "    </tr>\n",
              "    <tr>\n",
              "      <th>min</th>\n",
              "      <td>1.000000</td>\n",
              "      <td>1.000000</td>\n",
              "      <td>0.000000</td>\n",
              "      <td>20.000000</td>\n",
              "      <td>31.000000</td>\n",
              "      <td>137.000000</td>\n",
              "      <td>12.417882</td>\n",
              "      <td>11.000000</td>\n",
              "      <td>13.000000</td>\n",
              "      <td>16.000000</td>\n",
              "      <td>8.500000</td>\n",
              "      <td>2.000000</td>\n",
              "      <td>0.00000</td>\n",
              "      <td>0.000000</td>\n",
              "      <td>0.000000</td>\n",
              "      <td>0.000000</td>\n",
              "      <td>1.300000</td>\n",
              "      <td>0.210000</td>\n",
              "      <td>0.020000</td>\n",
              "      <td>0.002146</td>\n",
              "      <td>26.000000</td>\n",
              "      <td>24.000000</td>\n",
              "      <td>0.755556</td>\n",
              "      <td>0.040000</td>\n",
              "      <td>0.400000</td>\n",
              "      <td>0.000000</td>\n",
              "      <td>0.047000</td>\n",
              "      <td>60.000000</td>\n",
              "      <td>0.000000</td>\n",
              "      <td>0.000000</td>\n",
              "      <td>0.000000</td>\n",
              "      <td>0.000000</td>\n",
              "      <td>0.000000</td>\n",
              "      <td>0.000000</td>\n",
              "      <td>0.000000</td>\n",
              "      <td>12.000000</td>\n",
              "      <td>8.000000</td>\n",
              "      <td>0.000000</td>\n",
              "      <td>0.000000</td>\n",
              "      <td>0.000000</td>\n",
              "      <td>0.000000</td>\n",
              "      <td>0.000000</td>\n",
              "    </tr>\n",
              "    <tr>\n",
              "      <th>25%</th>\n",
              "      <td>136.000000</td>\n",
              "      <td>136.000000</td>\n",
              "      <td>0.000000</td>\n",
              "      <td>28.000000</td>\n",
              "      <td>52.000000</td>\n",
              "      <td>152.000000</td>\n",
              "      <td>21.641274</td>\n",
              "      <td>13.000000</td>\n",
              "      <td>72.000000</td>\n",
              "      <td>18.000000</td>\n",
              "      <td>10.500000</td>\n",
              "      <td>2.000000</td>\n",
              "      <td>4.00000</td>\n",
              "      <td>4.000000</td>\n",
              "      <td>0.000000</td>\n",
              "      <td>0.000000</td>\n",
              "      <td>1.990000</td>\n",
              "      <td>3.300000</td>\n",
              "      <td>1.020000</td>\n",
              "      <td>1.416244</td>\n",
              "      <td>36.000000</td>\n",
              "      <td>32.000000</td>\n",
              "      <td>0.857143</td>\n",
              "      <td>1.480000</td>\n",
              "      <td>14.520000</td>\n",
              "      <td>20.800000</td>\n",
              "      <td>0.250000</td>\n",
              "      <td>92.000000</td>\n",
              "      <td>0.000000</td>\n",
              "      <td>0.000000</td>\n",
              "      <td>0.000000</td>\n",
              "      <td>0.000000</td>\n",
              "      <td>0.000000</td>\n",
              "      <td>0.000000</td>\n",
              "      <td>0.000000</td>\n",
              "      <td>110.000000</td>\n",
              "      <td>70.000000</td>\n",
              "      <td>3.000000</td>\n",
              "      <td>3.000000</td>\n",
              "      <td>13.000000</td>\n",
              "      <td>13.000000</td>\n",
              "      <td>7.000000</td>\n",
              "    </tr>\n",
              "    <tr>\n",
              "      <th>50%</th>\n",
              "      <td>271.000000</td>\n",
              "      <td>271.000000</td>\n",
              "      <td>0.000000</td>\n",
              "      <td>31.000000</td>\n",
              "      <td>59.000000</td>\n",
              "      <td>156.000000</td>\n",
              "      <td>24.238227</td>\n",
              "      <td>14.000000</td>\n",
              "      <td>72.000000</td>\n",
              "      <td>18.000000</td>\n",
              "      <td>11.000000</td>\n",
              "      <td>2.000000</td>\n",
              "      <td>5.00000</td>\n",
              "      <td>7.000000</td>\n",
              "      <td>0.000000</td>\n",
              "      <td>0.000000</td>\n",
              "      <td>20.000000</td>\n",
              "      <td>4.850000</td>\n",
              "      <td>2.300000</td>\n",
              "      <td>2.169231</td>\n",
              "      <td>38.000000</td>\n",
              "      <td>34.000000</td>\n",
              "      <td>0.894737</td>\n",
              "      <td>2.260000</td>\n",
              "      <td>21.920000</td>\n",
              "      <td>25.900000</td>\n",
              "      <td>0.320000</td>\n",
              "      <td>100.000000</td>\n",
              "      <td>0.000000</td>\n",
              "      <td>0.000000</td>\n",
              "      <td>0.000000</td>\n",
              "      <td>0.000000</td>\n",
              "      <td>0.000000</td>\n",
              "      <td>1.000000</td>\n",
              "      <td>0.000000</td>\n",
              "      <td>110.000000</td>\n",
              "      <td>80.000000</td>\n",
              "      <td>5.000000</td>\n",
              "      <td>6.000000</td>\n",
              "      <td>15.000000</td>\n",
              "      <td>16.000000</td>\n",
              "      <td>8.500000</td>\n",
              "    </tr>\n",
              "    <tr>\n",
              "      <th>75%</th>\n",
              "      <td>406.000000</td>\n",
              "      <td>406.000000</td>\n",
              "      <td>1.000000</td>\n",
              "      <td>35.000000</td>\n",
              "      <td>65.000000</td>\n",
              "      <td>160.000000</td>\n",
              "      <td>26.634958</td>\n",
              "      <td>15.000000</td>\n",
              "      <td>74.000000</td>\n",
              "      <td>20.000000</td>\n",
              "      <td>11.700000</td>\n",
              "      <td>4.000000</td>\n",
              "      <td>5.00000</td>\n",
              "      <td>10.000000</td>\n",
              "      <td>1.000000</td>\n",
              "      <td>0.000000</td>\n",
              "      <td>297.210000</td>\n",
              "      <td>6.410000</td>\n",
              "      <td>3.680000</td>\n",
              "      <td>3.959184</td>\n",
              "      <td>40.000000</td>\n",
              "      <td>36.000000</td>\n",
              "      <td>0.928571</td>\n",
              "      <td>3.570000</td>\n",
              "      <td>29.890000</td>\n",
              "      <td>34.500000</td>\n",
              "      <td>0.450000</td>\n",
              "      <td>107.000000</td>\n",
              "      <td>1.000000</td>\n",
              "      <td>1.000000</td>\n",
              "      <td>1.000000</td>\n",
              "      <td>1.000000</td>\n",
              "      <td>1.000000</td>\n",
              "      <td>1.000000</td>\n",
              "      <td>0.000000</td>\n",
              "      <td>120.000000</td>\n",
              "      <td>80.000000</td>\n",
              "      <td>9.000000</td>\n",
              "      <td>10.000000</td>\n",
              "      <td>18.000000</td>\n",
              "      <td>18.000000</td>\n",
              "      <td>9.800000</td>\n",
              "    </tr>\n",
              "    <tr>\n",
              "      <th>max</th>\n",
              "      <td>541.000000</td>\n",
              "      <td>541.000000</td>\n",
              "      <td>1.000000</td>\n",
              "      <td>48.000000</td>\n",
              "      <td>108.000000</td>\n",
              "      <td>180.000000</td>\n",
              "      <td>38.900000</td>\n",
              "      <td>18.000000</td>\n",
              "      <td>82.000000</td>\n",
              "      <td>28.000000</td>\n",
              "      <td>14.800000</td>\n",
              "      <td>5.000000</td>\n",
              "      <td>12.00000</td>\n",
              "      <td>30.000000</td>\n",
              "      <td>1.000000</td>\n",
              "      <td>5.000000</td>\n",
              "      <td>32460.970000</td>\n",
              "      <td>5052.000000</td>\n",
              "      <td>2018.000000</td>\n",
              "      <td>1372.826087</td>\n",
              "      <td>48.000000</td>\n",
              "      <td>47.000000</td>\n",
              "      <td>0.979167</td>\n",
              "      <td>65.000000</td>\n",
              "      <td>128.240000</td>\n",
              "      <td>6014.660000</td>\n",
              "      <td>85.000000</td>\n",
              "      <td>350.000000</td>\n",
              "      <td>1.000000</td>\n",
              "      <td>1.000000</td>\n",
              "      <td>1.000000</td>\n",
              "      <td>1.000000</td>\n",
              "      <td>1.000000</td>\n",
              "      <td>1.000000</td>\n",
              "      <td>1.000000</td>\n",
              "      <td>140.000000</td>\n",
              "      <td>100.000000</td>\n",
              "      <td>22.000000</td>\n",
              "      <td>20.000000</td>\n",
              "      <td>24.000000</td>\n",
              "      <td>24.000000</td>\n",
              "      <td>18.000000</td>\n",
              "    </tr>\n",
              "  </tbody>\n",
              "</table>\n",
              "</div>\n",
              "      <button class=\"colab-df-convert\" onclick=\"convertToInteractive('df-703c89a5-27c5-47b9-aa78-048ee5630f26')\"\n",
              "              title=\"Convert this dataframe to an interactive table.\"\n",
              "              style=\"display:none;\">\n",
              "        \n",
              "  <svg xmlns=\"http://www.w3.org/2000/svg\" height=\"24px\"viewBox=\"0 0 24 24\"\n",
              "       width=\"24px\">\n",
              "    <path d=\"M0 0h24v24H0V0z\" fill=\"none\"/>\n",
              "    <path d=\"M18.56 5.44l.94 2.06.94-2.06 2.06-.94-2.06-.94-.94-2.06-.94 2.06-2.06.94zm-11 1L8.5 8.5l.94-2.06 2.06-.94-2.06-.94L8.5 2.5l-.94 2.06-2.06.94zm10 10l.94 2.06.94-2.06 2.06-.94-2.06-.94-.94-2.06-.94 2.06-2.06.94z\"/><path d=\"M17.41 7.96l-1.37-1.37c-.4-.4-.92-.59-1.43-.59-.52 0-1.04.2-1.43.59L10.3 9.45l-7.72 7.72c-.78.78-.78 2.05 0 2.83L4 21.41c.39.39.9.59 1.41.59.51 0 1.02-.2 1.41-.59l7.78-7.78 2.81-2.81c.8-.78.8-2.07 0-2.86zM5.41 20L4 18.59l7.72-7.72 1.47 1.35L5.41 20z\"/>\n",
              "  </svg>\n",
              "      </button>\n",
              "      \n",
              "  <style>\n",
              "    .colab-df-container {\n",
              "      display:flex;\n",
              "      flex-wrap:wrap;\n",
              "      gap: 12px;\n",
              "    }\n",
              "\n",
              "    .colab-df-convert {\n",
              "      background-color: #E8F0FE;\n",
              "      border: none;\n",
              "      border-radius: 50%;\n",
              "      cursor: pointer;\n",
              "      display: none;\n",
              "      fill: #1967D2;\n",
              "      height: 32px;\n",
              "      padding: 0 0 0 0;\n",
              "      width: 32px;\n",
              "    }\n",
              "\n",
              "    .colab-df-convert:hover {\n",
              "      background-color: #E2EBFA;\n",
              "      box-shadow: 0px 1px 2px rgba(60, 64, 67, 0.3), 0px 1px 3px 1px rgba(60, 64, 67, 0.15);\n",
              "      fill: #174EA6;\n",
              "    }\n",
              "\n",
              "    [theme=dark] .colab-df-convert {\n",
              "      background-color: #3B4455;\n",
              "      fill: #D2E3FC;\n",
              "    }\n",
              "\n",
              "    [theme=dark] .colab-df-convert:hover {\n",
              "      background-color: #434B5C;\n",
              "      box-shadow: 0px 1px 3px 1px rgba(0, 0, 0, 0.15);\n",
              "      filter: drop-shadow(0px 1px 2px rgba(0, 0, 0, 0.3));\n",
              "      fill: #FFFFFF;\n",
              "    }\n",
              "  </style>\n",
              "\n",
              "      <script>\n",
              "        const buttonEl =\n",
              "          document.querySelector('#df-703c89a5-27c5-47b9-aa78-048ee5630f26 button.colab-df-convert');\n",
              "        buttonEl.style.display =\n",
              "          google.colab.kernel.accessAllowed ? 'block' : 'none';\n",
              "\n",
              "        async function convertToInteractive(key) {\n",
              "          const element = document.querySelector('#df-703c89a5-27c5-47b9-aa78-048ee5630f26');\n",
              "          const dataTable =\n",
              "            await google.colab.kernel.invokeFunction('convertToInteractive',\n",
              "                                                     [key], {});\n",
              "          if (!dataTable) return;\n",
              "\n",
              "          const docLinkHtml = 'Like what you see? Visit the ' +\n",
              "            '<a target=\"_blank\" href=https://colab.research.google.com/notebooks/data_table.ipynb>data table notebook</a>'\n",
              "            + ' to learn more about interactive tables.';\n",
              "          element.innerHTML = '';\n",
              "          dataTable['output_type'] = 'display_data';\n",
              "          await google.colab.output.renderOutput(dataTable, element);\n",
              "          const docLink = document.createElement('div');\n",
              "          docLink.innerHTML = docLinkHtml;\n",
              "          element.appendChild(docLink);\n",
              "        }\n",
              "      </script>\n",
              "    </div>\n",
              "  </div>\n",
              "  "
            ],
            "text/plain": [
              "           Sl. No  Patient File No.  ...  Avg. F size (R) (mm)  Endometrium (mm)\n",
              "count  541.000000        541.000000  ...            541.000000        541.000000\n",
              "mean   271.000000        271.000000  ...             15.451701          8.475915\n",
              "std    156.317519        156.317519  ...              3.318848          2.165381\n",
              "min      1.000000          1.000000  ...              0.000000          0.000000\n",
              "25%    136.000000        136.000000  ...             13.000000          7.000000\n",
              "50%    271.000000        271.000000  ...             16.000000          8.500000\n",
              "75%    406.000000        406.000000  ...             18.000000          9.800000\n",
              "max    541.000000        541.000000  ...             24.000000         18.000000\n",
              "\n",
              "[8 rows x 42 columns]"
            ]
          },
          "execution_count": 444,
          "metadata": {},
          "output_type": "execute_result"
        }
      ],
      "source": [
        "df.describe()"
      ]
    },
    {
      "cell_type": "code",
      "execution_count": null,
      "metadata": {
        "colab": {
          "base_uri": "https://localhost:8080/"
        },
        "id": "U2qxAQ4bbuLl",
        "outputId": "acb9e631-cf74-488f-c379-c096eea8bf90"
      },
      "outputs": [
        {
          "data": {
            "text/plain": [
              "Sl. No                    float64\n",
              "Patient File No.          float64\n",
              "PCOS (Y/N)                float64\n",
              " Age (yrs)                float64\n",
              "Weight (Kg)               float64\n",
              "Height(Cm)                float64\n",
              "BMI                       float64\n",
              "Blood Group               float64\n",
              "Pulse rate(bpm)           float64\n",
              "RR (breaths/min)          float64\n",
              "Hb(g/dl)                  float64\n",
              "Cycle(R/I)                float64\n",
              "Cycle length(days)        float64\n",
              "Marraige Status (Yrs)     float64\n",
              "Pregnant(Y/N)             float64\n",
              "No. of aborptions         float64\n",
              "  I   beta-HCG(mIU/mL)    float64\n",
              "II    beta-HCG(mIU/mL)     object\n",
              "FSH(mIU/mL)               float64\n",
              "LH(mIU/mL)                float64\n",
              "FSH/LH                    float64\n",
              "Hip(inch)                 float64\n",
              "Waist(inch)               float64\n",
              "Waist:Hip Ratio           float64\n",
              "TSH (mIU/L)               float64\n",
              "AMH(ng/mL)                 object\n",
              "PRL(ng/mL)                float64\n",
              "Vit D3 (ng/mL)            float64\n",
              "PRG(ng/mL)                float64\n",
              "RBS(mg/dl)                float64\n",
              "Weight gain(Y/N)          float64\n",
              "hair growth(Y/N)          float64\n",
              "Skin darkening (Y/N)      float64\n",
              "Hair loss(Y/N)            float64\n",
              "Pimples(Y/N)              float64\n",
              "Fast food (Y/N)           float64\n",
              "Reg.Exercise(Y/N)         float64\n",
              "BP _Systolic (mmHg)       float64\n",
              "BP _Diastolic (mmHg)      float64\n",
              "Follicle No. (L)          float64\n",
              "Follicle No. (R)          float64\n",
              "Avg. F size (L) (mm)      float64\n",
              "Avg. F size (R) (mm)      float64\n",
              "Endometrium (mm)          float64\n",
              "Unnamed: 44                object\n",
              "dtype: object"
            ]
          },
          "execution_count": 445,
          "metadata": {},
          "output_type": "execute_result"
        }
      ],
      "source": [
        "df.dtypes"
      ]
    },
    {
      "cell_type": "code",
      "execution_count": null,
      "metadata": {
        "colab": {
          "base_uri": "https://localhost:8080/"
        },
        "id": "9pa-SpO5cqln",
        "outputId": "de27e017-2bea-47fe-ad7d-09a147aeaf34"
      },
      "outputs": [
        {
          "data": {
            "text/plain": [
              "(541, 45)"
            ]
          },
          "execution_count": 446,
          "metadata": {},
          "output_type": "execute_result"
        }
      ],
      "source": [
        "df.shape"
      ]
    },
    {
      "cell_type": "code",
      "execution_count": null,
      "metadata": {
        "colab": {
          "base_uri": "https://localhost:8080/"
        },
        "id": "u--NXWOncquJ",
        "outputId": "a3107939-1f92-40b7-f1fa-309116f152b9"
      },
      "outputs": [
        {
          "name": "stdout",
          "output_type": "stream",
          "text": [
            "<class 'pandas.core.frame.DataFrame'>\n",
            "RangeIndex: 541 entries, 0 to 540\n",
            "Data columns (total 45 columns):\n",
            " #   Column                  Non-Null Count  Dtype  \n",
            "---  ------                  --------------  -----  \n",
            " 0   Sl. No                  541 non-null    float64\n",
            " 1   Patient File No.        541 non-null    float64\n",
            " 2   PCOS (Y/N)              541 non-null    float64\n",
            " 3    Age (yrs)              541 non-null    float64\n",
            " 4   Weight (Kg)             541 non-null    float64\n",
            " 5   Height(Cm)              541 non-null    float64\n",
            " 6   BMI                     541 non-null    float64\n",
            " 7   Blood Group             541 non-null    float64\n",
            " 8   Pulse rate(bpm)         541 non-null    float64\n",
            " 9   RR (breaths/min)        541 non-null    float64\n",
            " 10  Hb(g/dl)                541 non-null    float64\n",
            " 11  Cycle(R/I)              541 non-null    float64\n",
            " 12  Cycle length(days)      541 non-null    float64\n",
            " 13  Marraige Status (Yrs)   540 non-null    float64\n",
            " 14  Pregnant(Y/N)           541 non-null    float64\n",
            " 15  No. of aborptions       541 non-null    float64\n",
            " 16    I   beta-HCG(mIU/mL)  541 non-null    float64\n",
            " 17  II    beta-HCG(mIU/mL)  541 non-null    object \n",
            " 18  FSH(mIU/mL)             541 non-null    float64\n",
            " 19  LH(mIU/mL)              541 non-null    float64\n",
            " 20  FSH/LH                  541 non-null    float64\n",
            " 21  Hip(inch)               541 non-null    float64\n",
            " 22  Waist(inch)             541 non-null    float64\n",
            " 23  Waist:Hip Ratio         541 non-null    float64\n",
            " 24  TSH (mIU/L)             541 non-null    float64\n",
            " 25  AMH(ng/mL)              541 non-null    object \n",
            " 26  PRL(ng/mL)              541 non-null    float64\n",
            " 27  Vit D3 (ng/mL)          541 non-null    float64\n",
            " 28  PRG(ng/mL)              541 non-null    float64\n",
            " 29  RBS(mg/dl)              541 non-null    float64\n",
            " 30  Weight gain(Y/N)        541 non-null    float64\n",
            " 31  hair growth(Y/N)        541 non-null    float64\n",
            " 32  Skin darkening (Y/N)    541 non-null    float64\n",
            " 33  Hair loss(Y/N)          541 non-null    float64\n",
            " 34  Pimples(Y/N)            541 non-null    float64\n",
            " 35  Fast food (Y/N)         540 non-null    float64\n",
            " 36  Reg.Exercise(Y/N)       541 non-null    float64\n",
            " 37  BP _Systolic (mmHg)     541 non-null    float64\n",
            " 38  BP _Diastolic (mmHg)    541 non-null    float64\n",
            " 39  Follicle No. (L)        541 non-null    float64\n",
            " 40  Follicle No. (R)        541 non-null    float64\n",
            " 41  Avg. F size (L) (mm)    541 non-null    float64\n",
            " 42  Avg. F size (R) (mm)    541 non-null    float64\n",
            " 43  Endometrium (mm)        541 non-null    float64\n",
            " 44  Unnamed: 44             2 non-null      object \n",
            "dtypes: float64(42), object(3)\n",
            "memory usage: 190.3+ KB\n"
          ]
        }
      ],
      "source": [
        "df.info()"
      ]
    },
    {
      "cell_type": "code",
      "execution_count": null,
      "metadata": {
        "colab": {
          "base_uri": "https://localhost:8080/"
        },
        "id": "vXuXBIftcq2h",
        "outputId": "4e8a704c-f076-4a21-942f-cd43267d734b"
      },
      "outputs": [
        {
          "data": {
            "text/plain": [
              "Sl. No                      0\n",
              "Patient File No.            0\n",
              "PCOS (Y/N)                  0\n",
              " Age (yrs)                  0\n",
              "Weight (Kg)                 0\n",
              "Height(Cm)                  0\n",
              "BMI                         0\n",
              "Blood Group                 0\n",
              "Pulse rate(bpm)             0\n",
              "RR (breaths/min)            0\n",
              "Hb(g/dl)                    0\n",
              "Cycle(R/I)                  0\n",
              "Cycle length(days)          0\n",
              "Marraige Status (Yrs)       1\n",
              "Pregnant(Y/N)               0\n",
              "No. of aborptions           0\n",
              "  I   beta-HCG(mIU/mL)      0\n",
              "II    beta-HCG(mIU/mL)      0\n",
              "FSH(mIU/mL)                 0\n",
              "LH(mIU/mL)                  0\n",
              "FSH/LH                      0\n",
              "Hip(inch)                   0\n",
              "Waist(inch)                 0\n",
              "Waist:Hip Ratio             0\n",
              "TSH (mIU/L)                 0\n",
              "AMH(ng/mL)                  0\n",
              "PRL(ng/mL)                  0\n",
              "Vit D3 (ng/mL)              0\n",
              "PRG(ng/mL)                  0\n",
              "RBS(mg/dl)                  0\n",
              "Weight gain(Y/N)            0\n",
              "hair growth(Y/N)            0\n",
              "Skin darkening (Y/N)        0\n",
              "Hair loss(Y/N)              0\n",
              "Pimples(Y/N)                0\n",
              "Fast food (Y/N)             1\n",
              "Reg.Exercise(Y/N)           0\n",
              "BP _Systolic (mmHg)         0\n",
              "BP _Diastolic (mmHg)        0\n",
              "Follicle No. (L)            0\n",
              "Follicle No. (R)            0\n",
              "Avg. F size (L) (mm)        0\n",
              "Avg. F size (R) (mm)        0\n",
              "Endometrium (mm)            0\n",
              "Unnamed: 44               539\n",
              "dtype: int64"
            ]
          },
          "execution_count": 448,
          "metadata": {},
          "output_type": "execute_result"
        }
      ],
      "source": [
        "df.isnull().sum()"
      ]
    },
    {
      "cell_type": "markdown",
      "metadata": {
        "id": "uqF6ABvqxcGM"
      },
      "source": [
        "as we can see that we have two rows as strings and two rows have 1 value missing in each lets rectify this"
      ]
    },
    {
      "cell_type": "code",
      "execution_count": null,
      "metadata": {
        "id": "-kP51N4Oxl17"
      },
      "outputs": [],
      "source": [
        "df[\"AMH(ng/mL)\"] = pd.to_numeric(df[\"AMH(ng/mL)\"], errors='coerce')\n",
        "df[\"II    beta-HCG(mIU/mL)\"] = pd.to_numeric(df[\"II    beta-HCG(mIU/mL)\"], errors='coerce')"
      ]
    },
    {
      "cell_type": "code",
      "execution_count": null,
      "metadata": {
        "id": "__BHQi4Nyutt"
      },
      "outputs": [],
      "source": [
        "#dealing with missing values by taking mode of that coloumn\n",
        "df['Marraige Status (Yrs)'].fillna(df['Marraige Status (Yrs)'].mode()[0],inplace=True)\n",
        "df['Fast food (Y/N)'].fillna(df['Fast food (Y/N)'].mode()[0],inplace=True)\n",
        "df['II    beta-HCG(mIU/mL)'].fillna(df['II    beta-HCG(mIU/mL)'].mode()[0],inplace=True)\n",
        "df['AMH(ng/mL)'].fillna(df['AMH(ng/mL)'].mode()[0],inplace=True)"
      ]
    },
    {
      "cell_type": "code",
      "execution_count": null,
      "metadata": {
        "colab": {
          "base_uri": "https://localhost:8080/",
          "height": 557
        },
        "id": "1SjjctOgzHxl",
        "outputId": "eea90def-e818-44ad-b307-0d95f96fca16"
      },
      "outputs": [
        {
          "data": {
            "text/html": [
              "\n",
              "  <div id=\"df-27c6df28-299c-4bd8-8c4a-e8df3a351927\">\n",
              "    <div class=\"colab-df-container\">\n",
              "      <div>\n",
              "<style scoped>\n",
              "    .dataframe tbody tr th:only-of-type {\n",
              "        vertical-align: middle;\n",
              "    }\n",
              "\n",
              "    .dataframe tbody tr th {\n",
              "        vertical-align: top;\n",
              "    }\n",
              "\n",
              "    .dataframe thead th {\n",
              "        text-align: right;\n",
              "    }\n",
              "</style>\n",
              "<table border=\"1\" class=\"dataframe\">\n",
              "  <thead>\n",
              "    <tr style=\"text-align: right;\">\n",
              "      <th></th>\n",
              "      <th>Sl. No</th>\n",
              "      <th>Patient File No.</th>\n",
              "      <th>PCOS (Y/N)</th>\n",
              "      <th>Age (yrs)</th>\n",
              "      <th>Weight (Kg)</th>\n",
              "      <th>Height(Cm)</th>\n",
              "      <th>BMI</th>\n",
              "      <th>Blood Group</th>\n",
              "      <th>Pulse rate(bpm)</th>\n",
              "      <th>RR (breaths/min)</th>\n",
              "      <th>Hb(g/dl)</th>\n",
              "      <th>Cycle(R/I)</th>\n",
              "      <th>Cycle length(days)</th>\n",
              "      <th>Marraige Status (Yrs)</th>\n",
              "      <th>Pregnant(Y/N)</th>\n",
              "      <th>No. of aborptions</th>\n",
              "      <th>I   beta-HCG(mIU/mL)</th>\n",
              "      <th>II    beta-HCG(mIU/mL)</th>\n",
              "      <th>FSH(mIU/mL)</th>\n",
              "      <th>LH(mIU/mL)</th>\n",
              "      <th>FSH/LH</th>\n",
              "      <th>Hip(inch)</th>\n",
              "      <th>Waist(inch)</th>\n",
              "      <th>Waist:Hip Ratio</th>\n",
              "      <th>TSH (mIU/L)</th>\n",
              "      <th>AMH(ng/mL)</th>\n",
              "      <th>PRL(ng/mL)</th>\n",
              "      <th>Vit D3 (ng/mL)</th>\n",
              "      <th>PRG(ng/mL)</th>\n",
              "      <th>RBS(mg/dl)</th>\n",
              "      <th>Weight gain(Y/N)</th>\n",
              "      <th>hair growth(Y/N)</th>\n",
              "      <th>Skin darkening (Y/N)</th>\n",
              "      <th>Hair loss(Y/N)</th>\n",
              "      <th>Pimples(Y/N)</th>\n",
              "      <th>Fast food (Y/N)</th>\n",
              "      <th>Reg.Exercise(Y/N)</th>\n",
              "      <th>BP _Systolic (mmHg)</th>\n",
              "      <th>BP _Diastolic (mmHg)</th>\n",
              "      <th>Follicle No. (L)</th>\n",
              "      <th>Follicle No. (R)</th>\n",
              "      <th>Avg. F size (L) (mm)</th>\n",
              "      <th>Avg. F size (R) (mm)</th>\n",
              "      <th>Endometrium (mm)</th>\n",
              "      <th>Unnamed: 44</th>\n",
              "    </tr>\n",
              "  </thead>\n",
              "  <tbody>\n",
              "    <tr>\n",
              "      <th>0</th>\n",
              "      <td>1.0</td>\n",
              "      <td>1.0</td>\n",
              "      <td>0.0</td>\n",
              "      <td>28.0</td>\n",
              "      <td>44.6</td>\n",
              "      <td>152.000</td>\n",
              "      <td>19.300000</td>\n",
              "      <td>15.0</td>\n",
              "      <td>78.0</td>\n",
              "      <td>22.0</td>\n",
              "      <td>10.48</td>\n",
              "      <td>2.0</td>\n",
              "      <td>5.0</td>\n",
              "      <td>7.0</td>\n",
              "      <td>0.0</td>\n",
              "      <td>0.0</td>\n",
              "      <td>1.99</td>\n",
              "      <td>1.99</td>\n",
              "      <td>7.95</td>\n",
              "      <td>3.68</td>\n",
              "      <td>2.160326</td>\n",
              "      <td>36.0</td>\n",
              "      <td>30.0</td>\n",
              "      <td>0.833333</td>\n",
              "      <td>0.68</td>\n",
              "      <td>2.07</td>\n",
              "      <td>45.16</td>\n",
              "      <td>17.1</td>\n",
              "      <td>0.57</td>\n",
              "      <td>92.0</td>\n",
              "      <td>0.0</td>\n",
              "      <td>0.0</td>\n",
              "      <td>0.0</td>\n",
              "      <td>0.0</td>\n",
              "      <td>0.0</td>\n",
              "      <td>1.0</td>\n",
              "      <td>0.0</td>\n",
              "      <td>110.0</td>\n",
              "      <td>80.0</td>\n",
              "      <td>3.0</td>\n",
              "      <td>3.0</td>\n",
              "      <td>18.0</td>\n",
              "      <td>18.0</td>\n",
              "      <td>8.5</td>\n",
              "      <td>NaN</td>\n",
              "    </tr>\n",
              "    <tr>\n",
              "      <th>1</th>\n",
              "      <td>2.0</td>\n",
              "      <td>2.0</td>\n",
              "      <td>0.0</td>\n",
              "      <td>36.0</td>\n",
              "      <td>65.0</td>\n",
              "      <td>161.500</td>\n",
              "      <td>24.921163</td>\n",
              "      <td>15.0</td>\n",
              "      <td>74.0</td>\n",
              "      <td>20.0</td>\n",
              "      <td>11.70</td>\n",
              "      <td>2.0</td>\n",
              "      <td>5.0</td>\n",
              "      <td>11.0</td>\n",
              "      <td>1.0</td>\n",
              "      <td>0.0</td>\n",
              "      <td>60.80</td>\n",
              "      <td>1.99</td>\n",
              "      <td>6.73</td>\n",
              "      <td>1.09</td>\n",
              "      <td>6.174312</td>\n",
              "      <td>38.0</td>\n",
              "      <td>32.0</td>\n",
              "      <td>0.842105</td>\n",
              "      <td>3.16</td>\n",
              "      <td>1.53</td>\n",
              "      <td>20.09</td>\n",
              "      <td>61.3</td>\n",
              "      <td>0.97</td>\n",
              "      <td>92.0</td>\n",
              "      <td>0.0</td>\n",
              "      <td>0.0</td>\n",
              "      <td>0.0</td>\n",
              "      <td>0.0</td>\n",
              "      <td>0.0</td>\n",
              "      <td>0.0</td>\n",
              "      <td>0.0</td>\n",
              "      <td>120.0</td>\n",
              "      <td>70.0</td>\n",
              "      <td>3.0</td>\n",
              "      <td>5.0</td>\n",
              "      <td>15.0</td>\n",
              "      <td>14.0</td>\n",
              "      <td>3.7</td>\n",
              "      <td>NaN</td>\n",
              "    </tr>\n",
              "    <tr>\n",
              "      <th>2</th>\n",
              "      <td>3.0</td>\n",
              "      <td>3.0</td>\n",
              "      <td>1.0</td>\n",
              "      <td>33.0</td>\n",
              "      <td>68.8</td>\n",
              "      <td>165.000</td>\n",
              "      <td>25.270891</td>\n",
              "      <td>11.0</td>\n",
              "      <td>72.0</td>\n",
              "      <td>18.0</td>\n",
              "      <td>11.80</td>\n",
              "      <td>2.0</td>\n",
              "      <td>5.0</td>\n",
              "      <td>10.0</td>\n",
              "      <td>1.0</td>\n",
              "      <td>0.0</td>\n",
              "      <td>494.08</td>\n",
              "      <td>494.08</td>\n",
              "      <td>5.54</td>\n",
              "      <td>0.88</td>\n",
              "      <td>6.295455</td>\n",
              "      <td>40.0</td>\n",
              "      <td>36.0</td>\n",
              "      <td>0.900000</td>\n",
              "      <td>2.54</td>\n",
              "      <td>6.63</td>\n",
              "      <td>10.52</td>\n",
              "      <td>49.7</td>\n",
              "      <td>0.36</td>\n",
              "      <td>84.0</td>\n",
              "      <td>0.0</td>\n",
              "      <td>0.0</td>\n",
              "      <td>0.0</td>\n",
              "      <td>1.0</td>\n",
              "      <td>1.0</td>\n",
              "      <td>1.0</td>\n",
              "      <td>0.0</td>\n",
              "      <td>120.0</td>\n",
              "      <td>80.0</td>\n",
              "      <td>13.0</td>\n",
              "      <td>15.0</td>\n",
              "      <td>18.0</td>\n",
              "      <td>20.0</td>\n",
              "      <td>10.0</td>\n",
              "      <td>NaN</td>\n",
              "    </tr>\n",
              "    <tr>\n",
              "      <th>3</th>\n",
              "      <td>4.0</td>\n",
              "      <td>4.0</td>\n",
              "      <td>0.0</td>\n",
              "      <td>37.0</td>\n",
              "      <td>65.0</td>\n",
              "      <td>148.000</td>\n",
              "      <td>29.674945</td>\n",
              "      <td>13.0</td>\n",
              "      <td>72.0</td>\n",
              "      <td>20.0</td>\n",
              "      <td>12.00</td>\n",
              "      <td>2.0</td>\n",
              "      <td>5.0</td>\n",
              "      <td>4.0</td>\n",
              "      <td>0.0</td>\n",
              "      <td>0.0</td>\n",
              "      <td>1.99</td>\n",
              "      <td>1.99</td>\n",
              "      <td>8.06</td>\n",
              "      <td>2.36</td>\n",
              "      <td>3.415254</td>\n",
              "      <td>42.0</td>\n",
              "      <td>36.0</td>\n",
              "      <td>0.857143</td>\n",
              "      <td>16.41</td>\n",
              "      <td>1.22</td>\n",
              "      <td>36.90</td>\n",
              "      <td>33.4</td>\n",
              "      <td>0.36</td>\n",
              "      <td>76.0</td>\n",
              "      <td>0.0</td>\n",
              "      <td>0.0</td>\n",
              "      <td>0.0</td>\n",
              "      <td>0.0</td>\n",
              "      <td>0.0</td>\n",
              "      <td>0.0</td>\n",
              "      <td>0.0</td>\n",
              "      <td>120.0</td>\n",
              "      <td>70.0</td>\n",
              "      <td>2.0</td>\n",
              "      <td>2.0</td>\n",
              "      <td>15.0</td>\n",
              "      <td>14.0</td>\n",
              "      <td>7.5</td>\n",
              "      <td>NaN</td>\n",
              "    </tr>\n",
              "    <tr>\n",
              "      <th>4</th>\n",
              "      <td>5.0</td>\n",
              "      <td>5.0</td>\n",
              "      <td>0.0</td>\n",
              "      <td>25.0</td>\n",
              "      <td>52.0</td>\n",
              "      <td>161.000</td>\n",
              "      <td>20.060954</td>\n",
              "      <td>11.0</td>\n",
              "      <td>72.0</td>\n",
              "      <td>18.0</td>\n",
              "      <td>10.00</td>\n",
              "      <td>2.0</td>\n",
              "      <td>5.0</td>\n",
              "      <td>1.0</td>\n",
              "      <td>1.0</td>\n",
              "      <td>0.0</td>\n",
              "      <td>801.45</td>\n",
              "      <td>801.45</td>\n",
              "      <td>3.98</td>\n",
              "      <td>0.90</td>\n",
              "      <td>4.422222</td>\n",
              "      <td>37.0</td>\n",
              "      <td>30.0</td>\n",
              "      <td>0.810811</td>\n",
              "      <td>3.57</td>\n",
              "      <td>2.26</td>\n",
              "      <td>30.09</td>\n",
              "      <td>43.8</td>\n",
              "      <td>0.38</td>\n",
              "      <td>84.0</td>\n",
              "      <td>0.0</td>\n",
              "      <td>0.0</td>\n",
              "      <td>0.0</td>\n",
              "      <td>1.0</td>\n",
              "      <td>0.0</td>\n",
              "      <td>0.0</td>\n",
              "      <td>0.0</td>\n",
              "      <td>120.0</td>\n",
              "      <td>80.0</td>\n",
              "      <td>3.0</td>\n",
              "      <td>4.0</td>\n",
              "      <td>16.0</td>\n",
              "      <td>14.0</td>\n",
              "      <td>7.0</td>\n",
              "      <td>NaN</td>\n",
              "    </tr>\n",
              "    <tr>\n",
              "      <th>...</th>\n",
              "      <td>...</td>\n",
              "      <td>...</td>\n",
              "      <td>...</td>\n",
              "      <td>...</td>\n",
              "      <td>...</td>\n",
              "      <td>...</td>\n",
              "      <td>...</td>\n",
              "      <td>...</td>\n",
              "      <td>...</td>\n",
              "      <td>...</td>\n",
              "      <td>...</td>\n",
              "      <td>...</td>\n",
              "      <td>...</td>\n",
              "      <td>...</td>\n",
              "      <td>...</td>\n",
              "      <td>...</td>\n",
              "      <td>...</td>\n",
              "      <td>...</td>\n",
              "      <td>...</td>\n",
              "      <td>...</td>\n",
              "      <td>...</td>\n",
              "      <td>...</td>\n",
              "      <td>...</td>\n",
              "      <td>...</td>\n",
              "      <td>...</td>\n",
              "      <td>...</td>\n",
              "      <td>...</td>\n",
              "      <td>...</td>\n",
              "      <td>...</td>\n",
              "      <td>...</td>\n",
              "      <td>...</td>\n",
              "      <td>...</td>\n",
              "      <td>...</td>\n",
              "      <td>...</td>\n",
              "      <td>...</td>\n",
              "      <td>...</td>\n",
              "      <td>...</td>\n",
              "      <td>...</td>\n",
              "      <td>...</td>\n",
              "      <td>...</td>\n",
              "      <td>...</td>\n",
              "      <td>...</td>\n",
              "      <td>...</td>\n",
              "      <td>...</td>\n",
              "      <td>...</td>\n",
              "    </tr>\n",
              "    <tr>\n",
              "      <th>536</th>\n",
              "      <td>537.0</td>\n",
              "      <td>537.0</td>\n",
              "      <td>0.0</td>\n",
              "      <td>35.0</td>\n",
              "      <td>50.0</td>\n",
              "      <td>164.592</td>\n",
              "      <td>18.500000</td>\n",
              "      <td>17.0</td>\n",
              "      <td>72.0</td>\n",
              "      <td>16.0</td>\n",
              "      <td>11.00</td>\n",
              "      <td>2.0</td>\n",
              "      <td>5.0</td>\n",
              "      <td>8.0</td>\n",
              "      <td>0.0</td>\n",
              "      <td>1.0</td>\n",
              "      <td>1.99</td>\n",
              "      <td>1.99</td>\n",
              "      <td>10.06</td>\n",
              "      <td>1.81</td>\n",
              "      <td>5.558011</td>\n",
              "      <td>28.0</td>\n",
              "      <td>26.0</td>\n",
              "      <td>0.928571</td>\n",
              "      <td>1.11</td>\n",
              "      <td>1.70</td>\n",
              "      <td>5.30</td>\n",
              "      <td>36.6</td>\n",
              "      <td>0.25</td>\n",
              "      <td>92.0</td>\n",
              "      <td>0.0</td>\n",
              "      <td>0.0</td>\n",
              "      <td>0.0</td>\n",
              "      <td>0.0</td>\n",
              "      <td>0.0</td>\n",
              "      <td>0.0</td>\n",
              "      <td>0.0</td>\n",
              "      <td>110.0</td>\n",
              "      <td>70.0</td>\n",
              "      <td>1.0</td>\n",
              "      <td>0.0</td>\n",
              "      <td>17.5</td>\n",
              "      <td>10.0</td>\n",
              "      <td>6.7</td>\n",
              "      <td>NaN</td>\n",
              "    </tr>\n",
              "    <tr>\n",
              "      <th>537</th>\n",
              "      <td>538.0</td>\n",
              "      <td>538.0</td>\n",
              "      <td>0.0</td>\n",
              "      <td>30.0</td>\n",
              "      <td>63.2</td>\n",
              "      <td>158.000</td>\n",
              "      <td>25.300000</td>\n",
              "      <td>15.0</td>\n",
              "      <td>72.0</td>\n",
              "      <td>18.0</td>\n",
              "      <td>10.80</td>\n",
              "      <td>2.0</td>\n",
              "      <td>5.0</td>\n",
              "      <td>4.0</td>\n",
              "      <td>1.0</td>\n",
              "      <td>1.0</td>\n",
              "      <td>80.13</td>\n",
              "      <td>1.99</td>\n",
              "      <td>5.07</td>\n",
              "      <td>2.84</td>\n",
              "      <td>1.785211</td>\n",
              "      <td>34.0</td>\n",
              "      <td>32.0</td>\n",
              "      <td>0.941176</td>\n",
              "      <td>2.05</td>\n",
              "      <td>5.60</td>\n",
              "      <td>21.09</td>\n",
              "      <td>23.0</td>\n",
              "      <td>0.25</td>\n",
              "      <td>108.0</td>\n",
              "      <td>1.0</td>\n",
              "      <td>0.0</td>\n",
              "      <td>0.0</td>\n",
              "      <td>0.0</td>\n",
              "      <td>0.0</td>\n",
              "      <td>0.0</td>\n",
              "      <td>0.0</td>\n",
              "      <td>110.0</td>\n",
              "      <td>70.0</td>\n",
              "      <td>9.0</td>\n",
              "      <td>7.0</td>\n",
              "      <td>19.0</td>\n",
              "      <td>18.0</td>\n",
              "      <td>8.2</td>\n",
              "      <td>NaN</td>\n",
              "    </tr>\n",
              "    <tr>\n",
              "      <th>538</th>\n",
              "      <td>539.0</td>\n",
              "      <td>539.0</td>\n",
              "      <td>0.0</td>\n",
              "      <td>36.0</td>\n",
              "      <td>54.0</td>\n",
              "      <td>152.000</td>\n",
              "      <td>23.400000</td>\n",
              "      <td>13.0</td>\n",
              "      <td>74.0</td>\n",
              "      <td>20.0</td>\n",
              "      <td>10.80</td>\n",
              "      <td>2.0</td>\n",
              "      <td>6.0</td>\n",
              "      <td>8.0</td>\n",
              "      <td>0.0</td>\n",
              "      <td>0.0</td>\n",
              "      <td>1.99</td>\n",
              "      <td>1.99</td>\n",
              "      <td>11.96</td>\n",
              "      <td>2.78</td>\n",
              "      <td>4.302158</td>\n",
              "      <td>30.0</td>\n",
              "      <td>28.0</td>\n",
              "      <td>0.933333</td>\n",
              "      <td>2.87</td>\n",
              "      <td>3.70</td>\n",
              "      <td>96.41</td>\n",
              "      <td>22.5</td>\n",
              "      <td>0.25</td>\n",
              "      <td>92.0</td>\n",
              "      <td>0.0</td>\n",
              "      <td>0.0</td>\n",
              "      <td>0.0</td>\n",
              "      <td>0.0</td>\n",
              "      <td>0.0</td>\n",
              "      <td>0.0</td>\n",
              "      <td>0.0</td>\n",
              "      <td>110.0</td>\n",
              "      <td>80.0</td>\n",
              "      <td>1.0</td>\n",
              "      <td>0.0</td>\n",
              "      <td>18.0</td>\n",
              "      <td>9.0</td>\n",
              "      <td>7.3</td>\n",
              "      <td>NaN</td>\n",
              "    </tr>\n",
              "    <tr>\n",
              "      <th>539</th>\n",
              "      <td>540.0</td>\n",
              "      <td>540.0</td>\n",
              "      <td>0.0</td>\n",
              "      <td>27.0</td>\n",
              "      <td>50.0</td>\n",
              "      <td>150.000</td>\n",
              "      <td>22.200000</td>\n",
              "      <td>15.0</td>\n",
              "      <td>74.0</td>\n",
              "      <td>20.0</td>\n",
              "      <td>12.00</td>\n",
              "      <td>4.0</td>\n",
              "      <td>2.0</td>\n",
              "      <td>2.0</td>\n",
              "      <td>0.0</td>\n",
              "      <td>0.0</td>\n",
              "      <td>292.92</td>\n",
              "      <td>1.99</td>\n",
              "      <td>4.40</td>\n",
              "      <td>4.33</td>\n",
              "      <td>1.016166</td>\n",
              "      <td>28.0</td>\n",
              "      <td>26.0</td>\n",
              "      <td>0.928571</td>\n",
              "      <td>2.50</td>\n",
              "      <td>5.20</td>\n",
              "      <td>38.89</td>\n",
              "      <td>22.4</td>\n",
              "      <td>0.25</td>\n",
              "      <td>115.0</td>\n",
              "      <td>0.0</td>\n",
              "      <td>0.0</td>\n",
              "      <td>0.0</td>\n",
              "      <td>0.0</td>\n",
              "      <td>1.0</td>\n",
              "      <td>0.0</td>\n",
              "      <td>0.0</td>\n",
              "      <td>110.0</td>\n",
              "      <td>70.0</td>\n",
              "      <td>7.0</td>\n",
              "      <td>6.0</td>\n",
              "      <td>18.0</td>\n",
              "      <td>16.0</td>\n",
              "      <td>11.5</td>\n",
              "      <td>NaN</td>\n",
              "    </tr>\n",
              "    <tr>\n",
              "      <th>540</th>\n",
              "      <td>541.0</td>\n",
              "      <td>541.0</td>\n",
              "      <td>1.0</td>\n",
              "      <td>23.0</td>\n",
              "      <td>82.0</td>\n",
              "      <td>165.000</td>\n",
              "      <td>30.100000</td>\n",
              "      <td>13.0</td>\n",
              "      <td>80.0</td>\n",
              "      <td>20.0</td>\n",
              "      <td>10.20</td>\n",
              "      <td>4.0</td>\n",
              "      <td>7.0</td>\n",
              "      <td>2.0</td>\n",
              "      <td>0.0</td>\n",
              "      <td>0.0</td>\n",
              "      <td>1.99</td>\n",
              "      <td>1.99</td>\n",
              "      <td>3.99</td>\n",
              "      <td>4.30</td>\n",
              "      <td>0.927907</td>\n",
              "      <td>48.0</td>\n",
              "      <td>46.0</td>\n",
              "      <td>0.958333</td>\n",
              "      <td>1.66</td>\n",
              "      <td>20.00</td>\n",
              "      <td>20.74</td>\n",
              "      <td>17.4</td>\n",
              "      <td>0.37</td>\n",
              "      <td>108.0</td>\n",
              "      <td>1.0</td>\n",
              "      <td>1.0</td>\n",
              "      <td>1.0</td>\n",
              "      <td>1.0</td>\n",
              "      <td>1.0</td>\n",
              "      <td>1.0</td>\n",
              "      <td>0.0</td>\n",
              "      <td>120.0</td>\n",
              "      <td>70.0</td>\n",
              "      <td>9.0</td>\n",
              "      <td>10.0</td>\n",
              "      <td>19.0</td>\n",
              "      <td>18.0</td>\n",
              "      <td>6.9</td>\n",
              "      <td>NaN</td>\n",
              "    </tr>\n",
              "  </tbody>\n",
              "</table>\n",
              "<p>541 rows × 45 columns</p>\n",
              "</div>\n",
              "      <button class=\"colab-df-convert\" onclick=\"convertToInteractive('df-27c6df28-299c-4bd8-8c4a-e8df3a351927')\"\n",
              "              title=\"Convert this dataframe to an interactive table.\"\n",
              "              style=\"display:none;\">\n",
              "        \n",
              "  <svg xmlns=\"http://www.w3.org/2000/svg\" height=\"24px\"viewBox=\"0 0 24 24\"\n",
              "       width=\"24px\">\n",
              "    <path d=\"M0 0h24v24H0V0z\" fill=\"none\"/>\n",
              "    <path d=\"M18.56 5.44l.94 2.06.94-2.06 2.06-.94-2.06-.94-.94-2.06-.94 2.06-2.06.94zm-11 1L8.5 8.5l.94-2.06 2.06-.94-2.06-.94L8.5 2.5l-.94 2.06-2.06.94zm10 10l.94 2.06.94-2.06 2.06-.94-2.06-.94-.94-2.06-.94 2.06-2.06.94z\"/><path d=\"M17.41 7.96l-1.37-1.37c-.4-.4-.92-.59-1.43-.59-.52 0-1.04.2-1.43.59L10.3 9.45l-7.72 7.72c-.78.78-.78 2.05 0 2.83L4 21.41c.39.39.9.59 1.41.59.51 0 1.02-.2 1.41-.59l7.78-7.78 2.81-2.81c.8-.78.8-2.07 0-2.86zM5.41 20L4 18.59l7.72-7.72 1.47 1.35L5.41 20z\"/>\n",
              "  </svg>\n",
              "      </button>\n",
              "      \n",
              "  <style>\n",
              "    .colab-df-container {\n",
              "      display:flex;\n",
              "      flex-wrap:wrap;\n",
              "      gap: 12px;\n",
              "    }\n",
              "\n",
              "    .colab-df-convert {\n",
              "      background-color: #E8F0FE;\n",
              "      border: none;\n",
              "      border-radius: 50%;\n",
              "      cursor: pointer;\n",
              "      display: none;\n",
              "      fill: #1967D2;\n",
              "      height: 32px;\n",
              "      padding: 0 0 0 0;\n",
              "      width: 32px;\n",
              "    }\n",
              "\n",
              "    .colab-df-convert:hover {\n",
              "      background-color: #E2EBFA;\n",
              "      box-shadow: 0px 1px 2px rgba(60, 64, 67, 0.3), 0px 1px 3px 1px rgba(60, 64, 67, 0.15);\n",
              "      fill: #174EA6;\n",
              "    }\n",
              "\n",
              "    [theme=dark] .colab-df-convert {\n",
              "      background-color: #3B4455;\n",
              "      fill: #D2E3FC;\n",
              "    }\n",
              "\n",
              "    [theme=dark] .colab-df-convert:hover {\n",
              "      background-color: #434B5C;\n",
              "      box-shadow: 0px 1px 3px 1px rgba(0, 0, 0, 0.15);\n",
              "      filter: drop-shadow(0px 1px 2px rgba(0, 0, 0, 0.3));\n",
              "      fill: #FFFFFF;\n",
              "    }\n",
              "  </style>\n",
              "\n",
              "      <script>\n",
              "        const buttonEl =\n",
              "          document.querySelector('#df-27c6df28-299c-4bd8-8c4a-e8df3a351927 button.colab-df-convert');\n",
              "        buttonEl.style.display =\n",
              "          google.colab.kernel.accessAllowed ? 'block' : 'none';\n",
              "\n",
              "        async function convertToInteractive(key) {\n",
              "          const element = document.querySelector('#df-27c6df28-299c-4bd8-8c4a-e8df3a351927');\n",
              "          const dataTable =\n",
              "            await google.colab.kernel.invokeFunction('convertToInteractive',\n",
              "                                                     [key], {});\n",
              "          if (!dataTable) return;\n",
              "\n",
              "          const docLinkHtml = 'Like what you see? Visit the ' +\n",
              "            '<a target=\"_blank\" href=https://colab.research.google.com/notebooks/data_table.ipynb>data table notebook</a>'\n",
              "            + ' to learn more about interactive tables.';\n",
              "          element.innerHTML = '';\n",
              "          dataTable['output_type'] = 'display_data';\n",
              "          await google.colab.output.renderOutput(dataTable, element);\n",
              "          const docLink = document.createElement('div');\n",
              "          docLink.innerHTML = docLinkHtml;\n",
              "          element.appendChild(docLink);\n",
              "        }\n",
              "      </script>\n",
              "    </div>\n",
              "  </div>\n",
              "  "
            ],
            "text/plain": [
              "     Sl. No  Patient File No.  ...  Endometrium (mm)  Unnamed: 44\n",
              "0       1.0               1.0  ...               8.5          NaN\n",
              "1       2.0               2.0  ...               3.7          NaN\n",
              "2       3.0               3.0  ...              10.0          NaN\n",
              "3       4.0               4.0  ...               7.5          NaN\n",
              "4       5.0               5.0  ...               7.0          NaN\n",
              "..      ...               ...  ...               ...          ...\n",
              "536   537.0             537.0  ...               6.7          NaN\n",
              "537   538.0             538.0  ...               8.2          NaN\n",
              "538   539.0             539.0  ...               7.3          NaN\n",
              "539   540.0             540.0  ...              11.5          NaN\n",
              "540   541.0             541.0  ...               6.9          NaN\n",
              "\n",
              "[541 rows x 45 columns]"
            ]
          },
          "execution_count": 451,
          "metadata": {},
          "output_type": "execute_result"
        }
      ],
      "source": [
        "df"
      ]
    },
    {
      "cell_type": "code",
      "execution_count": null,
      "metadata": {
        "colab": {
          "base_uri": "https://localhost:8080/"
        },
        "id": "RmePAwc5zNxV",
        "outputId": "6dd3042a-e355-4445-8fa8-bda8eb2a0dd7"
      },
      "outputs": [
        {
          "name": "stdout",
          "output_type": "stream",
          "text": [
            "<class 'pandas.core.frame.DataFrame'>\n",
            "RangeIndex: 541 entries, 0 to 540\n",
            "Data columns (total 45 columns):\n",
            " #   Column                  Non-Null Count  Dtype  \n",
            "---  ------                  --------------  -----  \n",
            " 0   Sl. No                  541 non-null    float64\n",
            " 1   Patient File No.        541 non-null    float64\n",
            " 2   PCOS (Y/N)              541 non-null    float64\n",
            " 3    Age (yrs)              541 non-null    float64\n",
            " 4   Weight (Kg)             541 non-null    float64\n",
            " 5   Height(Cm)              541 non-null    float64\n",
            " 6   BMI                     541 non-null    float64\n",
            " 7   Blood Group             541 non-null    float64\n",
            " 8   Pulse rate(bpm)         541 non-null    float64\n",
            " 9   RR (breaths/min)        541 non-null    float64\n",
            " 10  Hb(g/dl)                541 non-null    float64\n",
            " 11  Cycle(R/I)              541 non-null    float64\n",
            " 12  Cycle length(days)      541 non-null    float64\n",
            " 13  Marraige Status (Yrs)   541 non-null    float64\n",
            " 14  Pregnant(Y/N)           541 non-null    float64\n",
            " 15  No. of aborptions       541 non-null    float64\n",
            " 16    I   beta-HCG(mIU/mL)  541 non-null    float64\n",
            " 17  II    beta-HCG(mIU/mL)  541 non-null    float64\n",
            " 18  FSH(mIU/mL)             541 non-null    float64\n",
            " 19  LH(mIU/mL)              541 non-null    float64\n",
            " 20  FSH/LH                  541 non-null    float64\n",
            " 21  Hip(inch)               541 non-null    float64\n",
            " 22  Waist(inch)             541 non-null    float64\n",
            " 23  Waist:Hip Ratio         541 non-null    float64\n",
            " 24  TSH (mIU/L)             541 non-null    float64\n",
            " 25  AMH(ng/mL)              541 non-null    float64\n",
            " 26  PRL(ng/mL)              541 non-null    float64\n",
            " 27  Vit D3 (ng/mL)          541 non-null    float64\n",
            " 28  PRG(ng/mL)              541 non-null    float64\n",
            " 29  RBS(mg/dl)              541 non-null    float64\n",
            " 30  Weight gain(Y/N)        541 non-null    float64\n",
            " 31  hair growth(Y/N)        541 non-null    float64\n",
            " 32  Skin darkening (Y/N)    541 non-null    float64\n",
            " 33  Hair loss(Y/N)          541 non-null    float64\n",
            " 34  Pimples(Y/N)            541 non-null    float64\n",
            " 35  Fast food (Y/N)         541 non-null    float64\n",
            " 36  Reg.Exercise(Y/N)       541 non-null    float64\n",
            " 37  BP _Systolic (mmHg)     541 non-null    float64\n",
            " 38  BP _Diastolic (mmHg)    541 non-null    float64\n",
            " 39  Follicle No. (L)        541 non-null    float64\n",
            " 40  Follicle No. (R)        541 non-null    float64\n",
            " 41  Avg. F size (L) (mm)    541 non-null    float64\n",
            " 42  Avg. F size (R) (mm)    541 non-null    float64\n",
            " 43  Endometrium (mm)        541 non-null    float64\n",
            " 44  Unnamed: 44             2 non-null      object \n",
            "dtypes: float64(44), object(1)\n",
            "memory usage: 190.3+ KB\n"
          ]
        }
      ],
      "source": [
        "df.info()"
      ]
    },
    {
      "cell_type": "markdown",
      "metadata": {
        "id": "qtYmBGFp1qhU"
      },
      "source": [
        "lets start with data visualization"
      ]
    },
    {
      "cell_type": "code",
      "execution_count": null,
      "metadata": {
        "colab": {
          "base_uri": "https://localhost:8080/",
          "height": 357
        },
        "id": "5bFgU9gbzODi",
        "outputId": "18c436f3-b5b4-45ef-c984-0aea5f66d07b"
      },
      "outputs": [
        {
          "name": "stderr",
          "output_type": "stream",
          "text": [
            "/usr/local/lib/python3.7/dist-packages/seaborn/_decorators.py:43: FutureWarning: Pass the following variable as a keyword arg: x. From version 0.12, the only valid positional argument will be `data`, and passing other arguments without an explicit keyword will result in an error or misinterpretation.\n",
            "  FutureWarning\n"
          ]
        },
        {
          "data": {
            "text/plain": [
              "<matplotlib.axes._subplots.AxesSubplot at 0x7fe58165da10>"
            ]
          },
          "execution_count": 453,
          "metadata": {},
          "output_type": "execute_result"
        },
        {
          "data": {
            "image/png": "[encoded data removed]",
            "text/plain": [
              "<Figure size 432x288 with 1 Axes>"
            ]
          },
          "metadata": {},
          "output_type": "display_data"
        }
      ],
      "source": [
        "#distribution of pcos\n",
        "sns.set()\n",
        "sns.countplot(df['PCOS (Y/N)'])"
      ]
    },
    {
      "cell_type": "code",
      "execution_count": null,
      "metadata": {
        "id": "ZEmmQHFJ5477"
      },
      "outputs": [],
      "source": [
        "#grouping the data\n",
        "gypcos = df.groupby('PCOS (Y/N)').mean()"
      ]
    },
    {
      "cell_type": "code",
      "execution_count": null,
      "metadata": {
        "colab": {
          "base_uri": "https://localhost:8080/",
          "height": 302
        },
        "id": "AwRBsyXGCyRv",
        "outputId": "4b4c450e-8354-4e51-f14a-357c3581279e"
      },
      "outputs": [
        {
          "data": {
            "text/plain": [
              "<matplotlib.axes._subplots.AxesSubplot at 0x7fe56fc5e790>"
            ]
          },
          "execution_count": 455,
          "metadata": {},
          "output_type": "execute_result"
        },
        {
          "data": {
            "image/png": "[encoded data removed]",
            "text/plain": [
              "<Figure size 432x288 with 1 Axes>"
            ]
          },
          "metadata": {},
          "output_type": "display_data"
        }
      ],
      "source": [
        "sns.barplot(data=df,x=\"PCOS (Y/N)\",y=\"AMH(ng/mL)\")"
      ]
    },
    {
      "cell_type": "code",
      "execution_count": null,
      "metadata": {
        "colab": {
          "base_uri": "https://localhost:8080/",
          "height": 295
        },
        "id": "oKojFiTBL_po",
        "outputId": "6171fd90-5b94-4487-a267-aeaae34f576d"
      },
      "outputs": [
        {
          "data": {
            "image/png": "[encoded data removed]",
            "text/plain": [
              "<Figure size 432x288 with 1 Axes>"
            ]
          },
          "metadata": {},
          "output_type": "display_data"
        }
      ],
      "source": [
        "sns.set_theme(style=\"ticks\", palette=\"pastel\")\n",
        "sns.boxplot(y=\"PRL(ng/mL)\", x=\"PCOS (Y/N)\",\n",
        "            hue=\"PCOS (Y/N)\", palette=[\"m\", \"g\"],\n",
        "            data=df)\n",
        "sns.despine(offset=10, trim=True)"
      ]
    },
    {
      "cell_type": "code",
      "execution_count": null,
      "metadata": {
        "colab": {
          "base_uri": "https://localhost:8080/",
          "height": 357
        },
        "id": "TpcHamj-2JhL",
        "outputId": "553da503-25bc-474e-d9d9-5d7e2c13ffc5"
      },
      "outputs": [
        {
          "name": "stderr",
          "output_type": "stream",
          "text": [
            "/usr/local/lib/python3.7/dist-packages/seaborn/distributions.py:2619: FutureWarning: `distplot` is a deprecated function and will be removed in a future version. Please adapt your code to use either `displot` (a figure-level function with similar flexibility) or `histplot` (an axes-level function for histograms).\n",
            "  warnings.warn(msg, FutureWarning)\n"
          ]
        },
        {
          "data": {
            "text/plain": [
              "<matplotlib.axes._subplots.AxesSubplot at 0x7fe5895469d0>"
            ]
          },
          "execution_count": 457,
          "metadata": {},
          "output_type": "execute_result"
        },
        {
          "data": {
            "image/png": "[encoded data removed]",
            "text/plain": [
              "<Figure size 432x288 with 1 Axes>"
            ]
          },
          "metadata": {},
          "output_type": "display_data"
        }
      ],
      "source": [
        "sns.distplot(df['AMH(ng/mL)'])"
      ]
    },
    {
      "cell_type": "code",
      "execution_count": null,
      "metadata": {
        "colab": {
          "base_uri": "https://localhost:8080/",
          "height": 302
        },
        "id": "MpLXevEBGwVC",
        "outputId": "88344339-8371-4c19-b32c-63c5fbc55b5c"
      },
      "outputs": [
        {
          "data": {
            "text/plain": [
              "<matplotlib.axes._subplots.AxesSubplot at 0x7fe56f8e7590>"
            ]
          },
          "execution_count": 458,
          "metadata": {},
          "output_type": "execute_result"
        },
        {
          "data": {
            "image/png": "[encoded data removed]",
            "text/plain": [
              "<Figure size 432x288 with 1 Axes>"
            ]
          },
          "metadata": {},
          "output_type": "display_data"
        }
      ],
      "source": [
        "sns.boxplot(data=df, y='AMH(ng/mL)',x='PCOS (Y/N)')"
      ]
    },
    {
      "cell_type": "code",
      "execution_count": null,
      "metadata": {
        "colab": {
          "base_uri": "https://localhost:8080/",
          "height": 357
        },
        "id": "OgpaiBL3m0UQ",
        "outputId": "747360f4-6004-493f-8d27-1c9c4d02f7ee"
      },
      "outputs": [
        {
          "name": "stderr",
          "output_type": "stream",
          "text": [
            "/usr/local/lib/python3.7/dist-packages/seaborn/distributions.py:2619: FutureWarning: `distplot` is a deprecated function and will be removed in a future version. Please adapt your code to use either `displot` (a figure-level function with similar flexibility) or `histplot` (an axes-level function for histograms).\n",
            "  warnings.warn(msg, FutureWarning)\n"
          ]
        },
        {
          "data": {
            "text/plain": [
              "<matplotlib.axes._subplots.AxesSubplot at 0x7fe56f869650>"
            ]
          },
          "execution_count": 459,
          "metadata": {},
          "output_type": "execute_result"
        },
        {
          "data": {
            "image/png": "[encoded data removed]",
            "text/plain": [
              "<Figure size 432x288 with 1 Axes>"
            ]
          },
          "metadata": {},
          "output_type": "display_data"
        }
      ],
      "source": [
        "sns.distplot(df['PRL(ng/mL)'])"
      ]
    },
    {
      "cell_type": "code",
      "execution_count": null,
      "metadata": {
        "colab": {
          "base_uri": "https://localhost:8080/",
          "height": 302
        },
        "id": "-0aT0IE4Fman",
        "outputId": "4d23e74b-245c-4ece-bb89-a335e06faae3"
      },
      "outputs": [
        {
          "data": {
            "text/plain": [
              "<matplotlib.axes._subplots.AxesSubplot at 0x7fe56f8a5290>"
            ]
          },
          "execution_count": 460,
          "metadata": {},
          "output_type": "execute_result"
        },
        {
          "data": {
            "image/png": "[encoded data removed]",
            "text/plain": [
              "<Figure size 432x288 with 1 Axes>"
            ]
          },
          "metadata": {},
          "output_type": "display_data"
        }
      ],
      "source": [
        "sns.boxplot(data=df, x='PCOS (Y/N)',y='PRL(ng/mL)')"
      ]
    },
    {
      "cell_type": "code",
      "execution_count": null,
      "metadata": {
        "colab": {
          "base_uri": "https://localhost:8080/",
          "height": 357
        },
        "id": "vmv2tPlSpoxD",
        "outputId": "859cb2ef-6050-4bd2-817b-c528a864a8ef"
      },
      "outputs": [
        {
          "name": "stderr",
          "output_type": "stream",
          "text": [
            "/usr/local/lib/python3.7/dist-packages/seaborn/distributions.py:2619: FutureWarning: `distplot` is a deprecated function and will be removed in a future version. Please adapt your code to use either `displot` (a figure-level function with similar flexibility) or `histplot` (an axes-level function for histograms).\n",
            "  warnings.warn(msg, FutureWarning)\n"
          ]
        },
        {
          "data": {
            "text/plain": [
              "<matplotlib.axes._subplots.AxesSubplot at 0x7fe56f73fd90>"
            ]
          },
          "execution_count": 461,
          "metadata": {},
          "output_type": "execute_result"
        },
        {
          "data": {
            "image/png": "[encoded data removed]",
            "text/plain": [
              "<Figure size 432x288 with 1 Axes>"
            ]
          },
          "metadata": {},
          "output_type": "display_data"
        }
      ],
      "source": [
        "sns.distplot(df['FSH/LH'])"
      ]
    },
    {
      "cell_type": "code",
      "execution_count": null,
      "metadata": {
        "colab": {
          "base_uri": "https://localhost:8080/",
          "height": 302
        },
        "id": "bNhc2NAZ2Qgf",
        "outputId": "2d1b30b7-e563-42af-8ec0-b3723d426934"
      },
      "outputs": [
        {
          "data": {
            "text/plain": [
              "<matplotlib.axes._subplots.AxesSubplot at 0x7fe56f5c7410>"
            ]
          },
          "execution_count": 462,
          "metadata": {},
          "output_type": "execute_result"
        },
        {
          "data": {
            "image/png": "[encoded data removed]",
            "text/plain": [
              "<Figure size 432x288 with 1 Axes>"
            ]
          },
          "metadata": {},
          "output_type": "display_data"
        }
      ],
      "source": [
        "sns.kdeplot(df['Vit D3 (ng/mL)'])"
      ]
    },
    {
      "cell_type": "code",
      "execution_count": null,
      "metadata": {
        "colab": {
          "base_uri": "https://localhost:8080/",
          "height": 357
        },
        "id": "r-9Rf-072Qrp",
        "outputId": "f356dfd7-1d71-4145-85d6-bf3ba655215b"
      },
      "outputs": [
        {
          "name": "stderr",
          "output_type": "stream",
          "text": [
            "/usr/local/lib/python3.7/dist-packages/seaborn/_decorators.py:43: FutureWarning: Pass the following variable as a keyword arg: x. From version 0.12, the only valid positional argument will be `data`, and passing other arguments without an explicit keyword will result in an error or misinterpretation.\n",
            "  FutureWarning\n"
          ]
        },
        {
          "data": {
            "text/plain": [
              "<matplotlib.axes._subplots.AxesSubplot at 0x7fe56f5bcf50>"
            ]
          },
          "execution_count": 463,
          "metadata": {},
          "output_type": "execute_result"
        },
        {
          "data": {
            "image/png": "[encoded data removed]",
            "text/plain": [
              "<Figure size 432x288 with 1 Axes>"
            ]
          },
          "metadata": {},
          "output_type": "display_data"
        }
      ],
      "source": [
        "sns.countplot(df['Fast food (Y/N)'])"
      ]
    },
    {
      "cell_type": "code",
      "execution_count": null,
      "metadata": {
        "colab": {
          "base_uri": "https://localhost:8080/",
          "height": 302
        },
        "id": "UkWQ9T843zh0",
        "outputId": "4f183bd0-3aea-4e5f-c41d-b385bc8deaf2"
      },
      "outputs": [
        {
          "data": {
            "text/plain": [
              "<matplotlib.axes._subplots.AxesSubplot at 0x7fe56f579910>"
            ]
          },
          "execution_count": 464,
          "metadata": {},
          "output_type": "execute_result"
        },
        {
          "data": {
            "image/png": "[encoded data removed]",
            "text/plain": [
              "<Figure size 432x288 with 1 Axes>"
            ]
          },
          "metadata": {},
          "output_type": "display_data"
        }
      ],
      "source": [
        "sns.kdeplot(df['BMI'])"
      ]
    },
    {
      "cell_type": "code",
      "execution_count": null,
      "metadata": {
        "colab": {
          "base_uri": "https://localhost:8080/",
          "height": 357
        },
        "id": "UQQOu8353zpS",
        "outputId": "9f3ccf84-ef59-4ecb-9817-0a41cbd755d4"
      },
      "outputs": [
        {
          "name": "stderr",
          "output_type": "stream",
          "text": [
            "/usr/local/lib/python3.7/dist-packages/seaborn/distributions.py:2619: FutureWarning: `distplot` is a deprecated function and will be removed in a future version. Please adapt your code to use either `displot` (a figure-level function with similar flexibility) or `histplot` (an axes-level function for histograms).\n",
            "  warnings.warn(msg, FutureWarning)\n"
          ]
        },
        {
          "data": {
            "text/plain": [
              "<matplotlib.axes._subplots.AxesSubplot at 0x7fe56f487190>"
            ]
          },
          "execution_count": 465,
          "metadata": {},
          "output_type": "execute_result"
        },
        {
          "data": {
            "image/png": "[encoded data removed]",
            "text/plain": [
              "<Figure size 432x288 with 1 Axes>"
            ]
          },
          "metadata": {},
          "output_type": "display_data"
        }
      ],
      "source": [
        "sns.distplot(df['Endometrium (mm)'])"
      ]
    },
    {
      "cell_type": "code",
      "execution_count": null,
      "metadata": {
        "colab": {
          "base_uri": "https://localhost:8080/",
          "height": 357
        },
        "id": "Op2U4ZNA3zvz",
        "outputId": "f3084703-b5ef-41b3-9ee5-ad414292fcbb"
      },
      "outputs": [
        {
          "name": "stderr",
          "output_type": "stream",
          "text": [
            "/usr/local/lib/python3.7/dist-packages/seaborn/distributions.py:2619: FutureWarning: `distplot` is a deprecated function and will be removed in a future version. Please adapt your code to use either `displot` (a figure-level function with similar flexibility) or `histplot` (an axes-level function for histograms).\n",
            "  warnings.warn(msg, FutureWarning)\n"
          ]
        },
        {
          "data": {
            "text/plain": [
              "<matplotlib.axes._subplots.AxesSubplot at 0x7fe56f4eb750>"
            ]
          },
          "execution_count": 466,
          "metadata": {},
          "output_type": "execute_result"
        },
        {
          "data": {
            "image/png": "[encoded data removed]",
            "text/plain": [
              "<Figure size 432x288 with 1 Axes>"
            ]
          },
          "metadata": {},
          "output_type": "display_data"
        }
      ],
      "source": [
        "sns.distplot(df[' Age (yrs)'])"
      ]
    },
    {
      "cell_type": "code",
      "execution_count": null,
      "metadata": {
        "colab": {
          "base_uri": "https://localhost:8080/",
          "height": 304
        },
        "id": "GVqXFl9YlpZW",
        "outputId": "4361e4b9-0d9f-47ec-af04-d3a0b51e4ae5"
      },
      "outputs": [
        {
          "data": {
            "text/plain": [
              "<matplotlib.axes._subplots.AxesSubplot at 0x7fe56fdb7a50>"
            ]
          },
          "execution_count": 467,
          "metadata": {},
          "output_type": "execute_result"
        },
        {
          "data": {
            "image/png": "[encoded data removed]",
            "text/plain": [
              "<Figure size 432x288 with 1 Axes>"
            ]
          },
          "metadata": {},
          "output_type": "display_data"
        }
      ],
      "source": [
        "sns.scatterplot(data=df, x=\"Avg. F size (L) (mm)\",y=\"Avg. F size (R) (mm)\")"
      ]
    },
    {
      "cell_type": "code",
      "execution_count": null,
      "metadata": {
        "colab": {
          "base_uri": "https://localhost:8080/",
          "height": 357
        },
        "id": "lEbQjeJB3z1B",
        "outputId": "48965eef-ae27-4369-f3b2-ea7bc485fac1"
      },
      "outputs": [
        {
          "name": "stderr",
          "output_type": "stream",
          "text": [
            "/usr/local/lib/python3.7/dist-packages/seaborn/_decorators.py:43: FutureWarning: Pass the following variable as a keyword arg: x. From version 0.12, the only valid positional argument will be `data`, and passing other arguments without an explicit keyword will result in an error or misinterpretation.\n",
            "  FutureWarning\n"
          ]
        },
        {
          "data": {
            "text/plain": [
              "<matplotlib.axes._subplots.AxesSubplot at 0x7fe56f31edd0>"
            ]
          },
          "execution_count": 468,
          "metadata": {},
          "output_type": "execute_result"
        },
        {
          "data": {
            "image/png": "[encoded data removed]",
            "text/plain": [
              "<Figure size 432x288 with 1 Axes>"
            ]
          },
          "metadata": {},
          "output_type": "display_data"
        }
      ],
      "source": [
        "sns.countplot(df['Hair loss(Y/N)'])"
      ]
    },
    {
      "cell_type": "code",
      "execution_count": null,
      "metadata": {
        "colab": {
          "base_uri": "https://localhost:8080/",
          "height": 357
        },
        "id": "MfhfT_JQ3z4f",
        "outputId": "9815dc0e-cee9-4f9d-b856-6e088b24c32c"
      },
      "outputs": [
        {
          "name": "stderr",
          "output_type": "stream",
          "text": [
            "/usr/local/lib/python3.7/dist-packages/seaborn/distributions.py:2619: FutureWarning: `distplot` is a deprecated function and will be removed in a future version. Please adapt your code to use either `displot` (a figure-level function with similar flexibility) or `histplot` (an axes-level function for histograms).\n",
            "  warnings.warn(msg, FutureWarning)\n"
          ]
        },
        {
          "data": {
            "text/plain": [
              "<matplotlib.axes._subplots.AxesSubplot at 0x7fe56fb8c7d0>"
            ]
          },
          "execution_count": 469,
          "metadata": {},
          "output_type": "execute_result"
        },
        {
          "data": {
            "image/png": "[encoded data removed]",
            "text/plain": [
              "<Figure size 432x288 with 1 Axes>"
            ]
          },
          "metadata": {},
          "output_type": "display_data"
        }
      ],
      "source": [
        "sns.distplot(df['Cycle length(days)'])"
      ]
    },
    {
      "cell_type": "code",
      "execution_count": null,
      "metadata": {
        "colab": {
          "base_uri": "https://localhost:8080/",
          "height": 260
        },
        "id": "wBqAyoqC-mBp",
        "outputId": "85d755fc-c372-4587-f3be-7ccfa1862d48"
      },
      "outputs": [
        {
          "data": {
            "text/html": [
              "\n",
              "  <div id=\"df-2c3f3adf-1d4f-4ea7-9265-5f2a5e730cef\">\n",
              "    <div class=\"colab-df-container\">\n",
              "      <div>\n",
              "<style scoped>\n",
              "    .dataframe tbody tr th:only-of-type {\n",
              "        vertical-align: middle;\n",
              "    }\n",
              "\n",
              "    .dataframe tbody tr th {\n",
              "        vertical-align: top;\n",
              "    }\n",
              "\n",
              "    .dataframe thead th {\n",
              "        text-align: right;\n",
              "    }\n",
              "</style>\n",
              "<table border=\"1\" class=\"dataframe\">\n",
              "  <thead>\n",
              "    <tr style=\"text-align: right;\">\n",
              "      <th></th>\n",
              "      <th>Sl. No</th>\n",
              "      <th>Patient File No.</th>\n",
              "      <th>Age (yrs)</th>\n",
              "      <th>Weight (Kg)</th>\n",
              "      <th>Height(Cm)</th>\n",
              "      <th>BMI</th>\n",
              "      <th>Blood Group</th>\n",
              "      <th>Pulse rate(bpm)</th>\n",
              "      <th>RR (breaths/min)</th>\n",
              "      <th>Hb(g/dl)</th>\n",
              "      <th>Cycle(R/I)</th>\n",
              "      <th>Cycle length(days)</th>\n",
              "      <th>Marraige Status (Yrs)</th>\n",
              "      <th>Pregnant(Y/N)</th>\n",
              "      <th>No. of aborptions</th>\n",
              "      <th>I   beta-HCG(mIU/mL)</th>\n",
              "      <th>II    beta-HCG(mIU/mL)</th>\n",
              "      <th>FSH(mIU/mL)</th>\n",
              "      <th>LH(mIU/mL)</th>\n",
              "      <th>FSH/LH</th>\n",
              "      <th>Hip(inch)</th>\n",
              "      <th>Waist(inch)</th>\n",
              "      <th>Waist:Hip Ratio</th>\n",
              "      <th>TSH (mIU/L)</th>\n",
              "      <th>AMH(ng/mL)</th>\n",
              "      <th>PRL(ng/mL)</th>\n",
              "      <th>Vit D3 (ng/mL)</th>\n",
              "      <th>PRG(ng/mL)</th>\n",
              "      <th>RBS(mg/dl)</th>\n",
              "      <th>Weight gain(Y/N)</th>\n",
              "      <th>hair growth(Y/N)</th>\n",
              "      <th>Skin darkening (Y/N)</th>\n",
              "      <th>Hair loss(Y/N)</th>\n",
              "      <th>Pimples(Y/N)</th>\n",
              "      <th>Fast food (Y/N)</th>\n",
              "      <th>Reg.Exercise(Y/N)</th>\n",
              "      <th>BP _Systolic (mmHg)</th>\n",
              "      <th>BP _Diastolic (mmHg)</th>\n",
              "      <th>Follicle No. (L)</th>\n",
              "      <th>Follicle No. (R)</th>\n",
              "      <th>Avg. F size (L) (mm)</th>\n",
              "      <th>Avg. F size (R) (mm)</th>\n",
              "      <th>Endometrium (mm)</th>\n",
              "    </tr>\n",
              "    <tr>\n",
              "      <th>PCOS (Y/N)</th>\n",
              "      <th></th>\n",
              "      <th></th>\n",
              "      <th></th>\n",
              "      <th></th>\n",
              "      <th></th>\n",
              "      <th></th>\n",
              "      <th></th>\n",
              "      <th></th>\n",
              "      <th></th>\n",
              "      <th></th>\n",
              "      <th></th>\n",
              "      <th></th>\n",
              "      <th></th>\n",
              "      <th></th>\n",
              "      <th></th>\n",
              "      <th></th>\n",
              "      <th></th>\n",
              "      <th></th>\n",
              "      <th></th>\n",
              "      <th></th>\n",
              "      <th></th>\n",
              "      <th></th>\n",
              "      <th></th>\n",
              "      <th></th>\n",
              "      <th></th>\n",
              "      <th></th>\n",
              "      <th></th>\n",
              "      <th></th>\n",
              "      <th></th>\n",
              "      <th></th>\n",
              "      <th></th>\n",
              "      <th></th>\n",
              "      <th></th>\n",
              "      <th></th>\n",
              "      <th></th>\n",
              "      <th></th>\n",
              "      <th></th>\n",
              "      <th></th>\n",
              "      <th></th>\n",
              "      <th></th>\n",
              "      <th></th>\n",
              "      <th></th>\n",
              "      <th></th>\n",
              "    </tr>\n",
              "  </thead>\n",
              "  <tbody>\n",
              "    <tr>\n",
              "      <th>0.0</th>\n",
              "      <td>264.357143</td>\n",
              "      <td>264.357143</td>\n",
              "      <td>32.065934</td>\n",
              "      <td>58.008791</td>\n",
              "      <td>156.197934</td>\n",
              "      <td>23.747397</td>\n",
              "      <td>13.755495</td>\n",
              "      <td>72.964286</td>\n",
              "      <td>19.200549</td>\n",
              "      <td>11.107390</td>\n",
              "      <td>2.307692</td>\n",
              "      <td>5.126374</td>\n",
              "      <td>8.057692</td>\n",
              "      <td>0.390110</td>\n",
              "      <td>0.315934</td>\n",
              "      <td>728.982437</td>\n",
              "      <td>223.975137</td>\n",
              "      <td>19.185956</td>\n",
              "      <td>2.612676</td>\n",
              "      <td>7.680132</td>\n",
              "      <td>37.543956</td>\n",
              "      <td>33.428571</td>\n",
              "      <td>0.891495</td>\n",
              "      <td>3.007810</td>\n",
              "      <td>4.531766</td>\n",
              "      <td>24.267857</td>\n",
              "      <td>29.295005</td>\n",
              "      <td>0.727261</td>\n",
              "      <td>99.203297</td>\n",
              "      <td>0.228022</td>\n",
              "      <td>0.129121</td>\n",
              "      <td>0.153846</td>\n",
              "      <td>0.392857</td>\n",
              "      <td>0.390110</td>\n",
              "      <td>0.384615</td>\n",
              "      <td>0.228022</td>\n",
              "      <td>114.620879</td>\n",
              "      <td>76.780220</td>\n",
              "      <td>4.351648</td>\n",
              "      <td>4.637363</td>\n",
              "      <td>14.687637</td>\n",
              "      <td>15.225824</td>\n",
              "      <td>8.315027</td>\n",
              "    </tr>\n",
              "    <tr>\n",
              "      <th>1.0</th>\n",
              "      <td>284.661017</td>\n",
              "      <td>284.661017</td>\n",
              "      <td>30.124294</td>\n",
              "      <td>62.985876</td>\n",
              "      <td>157.074847</td>\n",
              "      <td>25.470919</td>\n",
              "      <td>13.898305</td>\n",
              "      <td>73.830508</td>\n",
              "      <td>19.333333</td>\n",
              "      <td>11.268305</td>\n",
              "      <td>3.079096</td>\n",
              "      <td>4.559322</td>\n",
              "      <td>6.885311</td>\n",
              "      <td>0.361582</td>\n",
              "      <td>0.231638</td>\n",
              "      <td>532.042537</td>\n",
              "      <td>267.554232</td>\n",
              "      <td>5.174593</td>\n",
              "      <td>14.402328</td>\n",
              "      <td>5.310427</td>\n",
              "      <td>38.915254</td>\n",
              "      <td>34.689266</td>\n",
              "      <td>0.892717</td>\n",
              "      <td>2.926723</td>\n",
              "      <td>7.844633</td>\n",
              "      <td>24.431808</td>\n",
              "      <td>92.322633</td>\n",
              "      <td>0.371740</td>\n",
              "      <td>101.136723</td>\n",
              "      <td>0.683616</td>\n",
              "      <td>0.570621</td>\n",
              "      <td>0.621469</td>\n",
              "      <td>0.576271</td>\n",
              "      <td>0.694915</td>\n",
              "      <td>0.785311</td>\n",
              "      <td>0.288136</td>\n",
              "      <td>114.745763</td>\n",
              "      <td>77.231638</td>\n",
              "      <td>9.785311</td>\n",
              "      <td>10.762712</td>\n",
              "      <td>15.697740</td>\n",
              "      <td>15.916215</td>\n",
              "      <td>8.806780</td>\n",
              "    </tr>\n",
              "  </tbody>\n",
              "</table>\n",
              "</div>\n",
              "      <button class=\"colab-df-convert\" onclick=\"convertToInteractive('df-2c3f3adf-1d4f-4ea7-9265-5f2a5e730cef')\"\n",
              "              title=\"Convert this dataframe to an interactive table.\"\n",
              "              style=\"display:none;\">\n",
              "        \n",
              "  <svg xmlns=\"http://www.w3.org/2000/svg\" height=\"24px\"viewBox=\"0 0 24 24\"\n",
              "       width=\"24px\">\n",
              "    <path d=\"M0 0h24v24H0V0z\" fill=\"none\"/>\n",
              "    <path d=\"M18.56 5.44l.94 2.06.94-2.06 2.06-.94-2.06-.94-.94-2.06-.94 2.06-2.06.94zm-11 1L8.5 8.5l.94-2.06 2.06-.94-2.06-.94L8.5 2.5l-.94 2.06-2.06.94zm10 10l.94 2.06.94-2.06 2.06-.94-2.06-.94-.94-2.06-.94 2.06-2.06.94z\"/><path d=\"M17.41 7.96l-1.37-1.37c-.4-.4-.92-.59-1.43-.59-.52 0-1.04.2-1.43.59L10.3 9.45l-7.72 7.72c-.78.78-.78 2.05 0 2.83L4 21.41c.39.39.9.59 1.41.59.51 0 1.02-.2 1.41-.59l7.78-7.78 2.81-2.81c.8-.78.8-2.07 0-2.86zM5.41 20L4 18.59l7.72-7.72 1.47 1.35L5.41 20z\"/>\n",
              "  </svg>\n",
              "      </button>\n",
              "      \n",
              "  <style>\n",
              "    .colab-df-container {\n",
              "      display:flex;\n",
              "      flex-wrap:wrap;\n",
              "      gap: 12px;\n",
              "    }\n",
              "\n",
              "    .colab-df-convert {\n",
              "      background-color: #E8F0FE;\n",
              "      border: none;\n",
              "      border-radius: 50%;\n",
              "      cursor: pointer;\n",
              "      display: none;\n",
              "      fill: #1967D2;\n",
              "      height: 32px;\n",
              "      padding: 0 0 0 0;\n",
              "      width: 32px;\n",
              "    }\n",
              "\n",
              "    .colab-df-convert:hover {\n",
              "      background-color: #E2EBFA;\n",
              "      box-shadow: 0px 1px 2px rgba(60, 64, 67, 0.3), 0px 1px 3px 1px rgba(60, 64, 67, 0.15);\n",
              "      fill: #174EA6;\n",
              "    }\n",
              "\n",
              "    [theme=dark] .colab-df-convert {\n",
              "      background-color: #3B4455;\n",
              "      fill: #D2E3FC;\n",
              "    }\n",
              "\n",
              "    [theme=dark] .colab-df-convert:hover {\n",
              "      background-color: #434B5C;\n",
              "      box-shadow: 0px 1px 3px 1px rgba(0, 0, 0, 0.15);\n",
              "      filter: drop-shadow(0px 1px 2px rgba(0, 0, 0, 0.3));\n",
              "      fill: #FFFFFF;\n",
              "    }\n",
              "  </style>\n",
              "\n",
              "      <script>\n",
              "        const buttonEl =\n",
              "          document.querySelector('#df-2c3f3adf-1d4f-4ea7-9265-5f2a5e730cef button.colab-df-convert');\n",
              "        buttonEl.style.display =\n",
              "          google.colab.kernel.accessAllowed ? 'block' : 'none';\n",
              "\n",
              "        async function convertToInteractive(key) {\n",
              "          const element = document.querySelector('#df-2c3f3adf-1d4f-4ea7-9265-5f2a5e730cef');\n",
              "          const dataTable =\n",
              "            await google.colab.kernel.invokeFunction('convertToInteractive',\n",
              "                                                     [key], {});\n",
              "          if (!dataTable) return;\n",
              "\n",
              "          const docLinkHtml = 'Like what you see? Visit the ' +\n",
              "            '<a target=\"_blank\" href=https://colab.research.google.com/notebooks/data_table.ipynb>data table notebook</a>'\n",
              "            + ' to learn more about interactive tables.';\n",
              "          element.innerHTML = '';\n",
              "          dataTable['output_type'] = 'display_data';\n",
              "          await google.colab.output.renderOutput(dataTable, element);\n",
              "          const docLink = document.createElement('div');\n",
              "          docLink.innerHTML = docLinkHtml;\n",
              "          element.appendChild(docLink);\n",
              "        }\n",
              "      </script>\n",
              "    </div>\n",
              "  </div>\n",
              "  "
            ],
            "text/plain": [
              "                Sl. No  ...  Endometrium (mm)\n",
              "PCOS (Y/N)              ...                  \n",
              "0.0         264.357143  ...          8.315027\n",
              "1.0         284.661017  ...          8.806780\n",
              "\n",
              "[2 rows x 43 columns]"
            ]
          },
          "execution_count": 470,
          "metadata": {},
          "output_type": "execute_result"
        }
      ],
      "source": [
        "# grouping the data based on the target variable\n",
        "df.groupby('PCOS (Y/N)').mean()"
      ]
    },
    {
      "cell_type": "code",
      "execution_count": null,
      "metadata": {
        "id": "3lhgMud63z-V"
      },
      "outputs": [],
      "source": [
        "#splitting\n",
        "X=df.drop([\"PCOS (Y/N)\",\"Sl. No\",\"Patient File No.\",\"Unnamed: 44\"],axis = 1)\n",
        "Y=df[\"PCOS (Y/N)\"]"
      ]
    },
    {
      "cell_type": "code",
      "execution_count": null,
      "metadata": {
        "colab": {
          "base_uri": "https://localhost:8080/"
        },
        "id": "L3-yuvaKgydn",
        "outputId": "bd7fda43-63ec-4aa0-f5f3-211355b7529d"
      },
      "outputs": [
        {
          "data": {
            "text/plain": [
              "(array([0, 1, 2, 3, 4, 5, 6, 7, 8, 9]),\n",
              " <a list of 10 Text major ticklabel objects>)"
            ]
          },
          "execution_count": 472,
          "metadata": {},
          "output_type": "execute_result"
        }
      ],
      "source": [
        "# first ten features\n",
        "df_dia = Y\n",
        "df = X\n",
        "df_n_2 = (df - df.mean()) / (df.std())              # standardization\n",
        "df = pd.concat([Y,df_n_2.iloc[:,0:10]],axis=1)\n",
        "df = pd.melt(df,id_vars=\"PCOS (Y/N)\",\n",
        "                    var_name=\"features\",\n",
        "                    value_name='value')\n",
        "plt.figure(figsize=(10,10))\n",
        "sns.violinplot(x=\"features\", y=\"value\", hue=\"PCOS (Y/N)\", data=df,split=True, inner=\"quart\")\n",
        "plt.xticks(rotation=90)"
      ]
    },
    {
      "cell_type": "code",
      "execution_count": null,
      "metadata": {
        "id": "DcWMPrvuhA4C"
      },
      "outputs": [],
      "source": [
        "df = pd.concat([Y,df_n_2.iloc[:,10:20]],axis=1)\n",
        "df = pd.melt(df,id_vars=\"PCOS (Y/N)\",\n",
        "                    var_name=\"features\",\n",
        "                    value_name='value')\n",
        "plt.figure(figsize=(10,10))\n",
        "sns.violinplot(x=\"features\", y=\"value\", hue=\"PCOS (Y/N)\", data=df,split=True, inner=\"quart\")\n",
        "plt.xticks(rotation=90)"
      ]
    },
    {
      "cell_type": "code",
      "execution_count": null,
      "metadata": {
        "id": "_SdHEWbchlPs"
      },
      "outputs": [],
      "source": [
        "df = pd.concat([Y,df_n_2.iloc[:,20:44]],axis=1)\n",
        "df = pd.melt(df,id_vars=\"PCOS (Y/N)\",\n",
        "                    var_name=\"features\",\n",
        "                    value_name='value')\n",
        "plt.figure(figsize=(20,20))\n",
        "sns.violinplot(x=\"features\", y=\"value\", hue=\"PCOS (Y/N)\", data=df,split=True, inner=\"quart\")\n",
        "plt.xticks(rotation=90)"
      ]
    },
    {
      "cell_type": "code",
      "execution_count": null,
      "metadata": {
        "id": "mHgTqVUjixOd"
      },
      "outputs": [],
      "source": [
        "plt.figure(figsize=(20,10))\n",
        "sns.boxplot(x=\"features\", y=\"value\", hue=\"PCOS (Y/N)\", data=df)\n",
        "plt.xticks(rotation=90)"
      ]
    },
    {
      "cell_type": "code",
      "execution_count": null,
      "metadata": {
        "id": "qLNtzSpt-8XG"
      },
      "outputs": [],
      "source": [
        "print (X), print (Y)"
      ]
    },
    {
      "cell_type": "code",
      "execution_count": null,
      "metadata": {
        "id": "uo_lyZt-_GmL"
      },
      "outputs": [],
      "source": [
        "#train_test_split\n",
        "\n",
        "X_train, X_test, Y_train, Y_test=train_test_split(X,Y, test_size=0.10, stratify=Y, random_state=3000)"
      ]
    },
    {
      "cell_type": "code",
      "execution_count": null,
      "metadata": {
        "id": "SYW2gnNT_Grx"
      },
      "outputs": [],
      "source": [
        "print(X.shape, X_train.shape, X_test.shape)"
      ]
    },
    {
      "cell_type": "code",
      "execution_count": null,
      "metadata": {
        "id": "aZwOL43C90ke"
      },
      "outputs": [],
      "source": [
        "X.var()"
      ]
    },
    {
      "cell_type": "code",
      "execution_count": null,
      "metadata": {
        "id": "pc953RNv3z6T"
      },
      "outputs": [],
      "source": [
        "#creating correlation map\n",
        "correlation=X_train.corr()\n",
        "#heatmap\n",
        "plt.figure(figsize=(20,20))\n",
        "sns.heatmap(correlation,cmap=\"YlGnBu\", square=True, annot=True, annot_kws={'size':7}, fmt='.2f');"
      ]
    },
    {
      "cell_type": "code",
      "execution_count": null,
      "metadata": {
        "id": "yd3NyaGuhqCu"
      },
      "outputs": [],
      "source": [
        "X_train.corr()"
      ]
    },
    {
      "cell_type": "code",
      "execution_count": null,
      "metadata": {
        "id": "Tj_sN2wnfByv"
      },
      "outputs": [],
      "source": [
        "# with the following function we can select highly correlated features\n",
        "# it will remove the first feature feature that is correlated with anything other feature\n",
        "\n",
        "def correlation ( dataset,threshold):\n",
        "    col_corr = set()\n",
        "    corr_matrix = dataset.corr()\n",
        "    for i in range(len(corr_matrix.columns)):\n",
        "      for j in range(i):\n",
        "        if abs(corr_matrix.iloc[i,j])> threshold:\n",
        "          colname = corr_matrix.columns[i]\n",
        "          col_corr.add(colname)\n",
        "    return col_corr"
      ]
    },
    {
      "cell_type": "code",
      "execution_count": null,
      "metadata": {
        "id": "4RkIVKJ6TUmq"
      },
      "outputs": [],
      "source": [
        "corr_features = correlation(X_train,0.8)\n",
        "len (set(corr_features))"
      ]
    },
    {
      "cell_type": "code",
      "execution_count": null,
      "metadata": {
        "id": "DeCXprzoTnAO"
      },
      "outputs": [],
      "source": [
        "corr_features"
      ]
    },
    {
      "cell_type": "code",
      "execution_count": null,
      "metadata": {
        "colab": {
          "background_save": true
        },
        "id": "1ycOzXHjVMHa",
        "outputId": "20ea7cb9-bcda-4a77-e1ee-e3e6beded824"
      },
      "outputs": [
        {
          "name": "stderr",
          "output_type": "stream",
          "text": [
            "/usr/local/lib/python3.7/dist-packages/ipykernel_launcher.py:1: UserWarning: Pandas doesn't allow columns to be created via a new attribute name - see https://pandas.pydata.org/pandas-docs/stable/indexing.html#attribute-access\n",
            "  \"\"\"Entry point for launching an IPython kernel.\n",
            "/usr/local/lib/python3.7/dist-packages/ipykernel_launcher.py:2: UserWarning: Pandas doesn't allow columns to be created via a new attribute name - see https://pandas.pydata.org/pandas-docs/stable/indexing.html#attribute-access\n",
            "  \n"
          ]
        }
      ],
      "source": [
        "X_train.ft=X_train.drop(corr_features, axis=1)\n",
        "X_test.ft=X_test.drop(corr_features, axis=1)"
      ]
    },
    {
      "cell_type": "code",
      "execution_count": null,
      "metadata": {
        "colab": {
          "background_save": true
        },
        "id": "BswvDUwQxUf8",
        "outputId": "6a81aef3-aaf3-4451-d5a7-015b4a89b991"
      },
      "outputs": [
        {
          "data": {
            "text/plain": [
              "<bound method DataFrame.info of       Age (yrs)  Weight (Kg)  ...  Avg. F size (R) (mm)  Endometrium (mm)\n",
              "133        28.0         70.0  ...                  18.0              12.0\n",
              "73         26.0         70.0  ...                   6.0               9.8\n",
              "222        27.0         65.0  ...                  15.0               8.0\n",
              "233        31.0         50.0  ...                  15.0               9.0\n",
              "334        30.0         62.0  ...                  11.0              11.0\n",
              "..          ...          ...  ...                   ...               ...\n",
              "445        26.0         72.0  ...                  20.0               6.0\n",
              "153        29.0         52.0  ...                  19.0               8.0\n",
              "381        35.0         60.0  ...                  15.0               6.5\n",
              "302        26.0         64.0  ...                  14.0               9.5\n",
              "12         25.0         74.0  ...                  21.0               8.0\n",
              "\n",
              "[486 rows x 41 columns]>"
            ]
          },
          "execution_count": null,
          "metadata": {},
          "output_type": "execute_result"
        }
      ],
      "source": [
        "X_train.info"
      ]
    },
    {
      "cell_type": "markdown",
      "source": [
        "Chi-square test for categorical values"
      ],
      "metadata": {
        "id": "5LHwoaflfkx1"
      }
    },
    {
      "cell_type": "code",
      "source": [
        "df=sns.read_excel('/content/pcos main data.xlsx',sheet_name='Full_new')"
      ],
      "metadata": {
        "colab": {
          "base_uri": "https://localhost:8080/",
          "height": 165
        },
        "id": "N446s_53fva_",
        "outputId": "f08113ee-aaca-47dd-bc41-9023e6f51010"
      },
      "execution_count": null,
      "outputs": [
        {
          "output_type": "error",
          "ename": "NameError",
          "evalue": "ignored",
          "traceback": [
            "\u001b[0;31m---------------------------------------------------------------------------\u001b[0m",
            "\u001b[0;31mNameError\u001b[0m                                 Traceback (most recent call last)",
            "\u001b[0;32m<ipython-input-1-620541b7ec01>\u001b[0m in \u001b[0;36m<module>\u001b[0;34m()\u001b[0m\n\u001b[0;32m----> 1\u001b[0;31m \u001b[0mdf\u001b[0m\u001b[0;34m=\u001b[0m\u001b[0msns\u001b[0m\u001b[0;34m.\u001b[0m\u001b[0mread_excel\u001b[0m\u001b[0;34m(\u001b[0m\u001b[0;34m'/content/pcos main data.xlsx'\u001b[0m\u001b[0;34m,\u001b[0m\u001b[0msheet_name\u001b[0m\u001b[0;34m=\u001b[0m\u001b[0;34m'Full_new'\u001b[0m\u001b[0;34m)\u001b[0m\u001b[0;34m\u001b[0m\u001b[0;34m\u001b[0m\u001b[0m\n\u001b[0m",
            "\u001b[0;31mNameError\u001b[0m: name 'sns' is not defined"
          ]
        }
      ]
    },
    {
      "cell_type": "markdown",
      "metadata": {
        "id": "8tGy_OlPYJm-"
      },
      "source": [
        "CATBooster Classifier"
      ]
    },
    {
      "cell_type": "code",
      "execution_count": null,
      "metadata": {
        "colab": {
          "background_save": true
        },
        "id": "askmNiKfYSm8",
        "outputId": "1a9f6fab-80b2-401a-a990-7d9447aaf915"
      },
      "outputs": [
        {
          "data": {
            "text/html": [
              "\n",
              "  <div id=\"df-fc2927b3-b5b4-4b7b-aee1-468581095ca6\">\n",
              "    <div class=\"colab-df-container\">\n",
              "      <div>\n",
              "<style scoped>\n",
              "    .dataframe tbody tr th:only-of-type {\n",
              "        vertical-align: middle;\n",
              "    }\n",
              "\n",
              "    .dataframe tbody tr th {\n",
              "        vertical-align: top;\n",
              "    }\n",
              "\n",
              "    .dataframe thead th {\n",
              "        text-align: right;\n",
              "    }\n",
              "</style>\n",
              "<table border=\"1\" class=\"dataframe\">\n",
              "  <thead>\n",
              "    <tr style=\"text-align: right;\">\n",
              "      <th></th>\n",
              "      <th>Age (yrs)</th>\n",
              "      <th>Weight (Kg)</th>\n",
              "      <th>Height(Cm)</th>\n",
              "      <th>Blood Group</th>\n",
              "      <th>Pulse rate(bpm)</th>\n",
              "      <th>RR (breaths/min)</th>\n",
              "      <th>Hb(g/dl)</th>\n",
              "      <th>Cycle(R/I)</th>\n",
              "      <th>Cycle length(days)</th>\n",
              "      <th>Marraige Status (Yrs)</th>\n",
              "      <th>Pregnant(Y/N)</th>\n",
              "      <th>No. of aborptions</th>\n",
              "      <th>I   beta-HCG(mIU/mL)</th>\n",
              "      <th>II    beta-HCG(mIU/mL)</th>\n",
              "      <th>FSH(mIU/mL)</th>\n",
              "      <th>LH(mIU/mL)</th>\n",
              "      <th>Hip(inch)</th>\n",
              "      <th>Waist:Hip Ratio</th>\n",
              "      <th>TSH (mIU/L)</th>\n",
              "      <th>AMH(ng/mL)</th>\n",
              "      <th>PRL(ng/mL)</th>\n",
              "      <th>Vit D3 (ng/mL)</th>\n",
              "      <th>PRG(ng/mL)</th>\n",
              "      <th>RBS(mg/dl)</th>\n",
              "      <th>Weight gain(Y/N)</th>\n",
              "      <th>hair growth(Y/N)</th>\n",
              "      <th>Skin darkening (Y/N)</th>\n",
              "      <th>Hair loss(Y/N)</th>\n",
              "      <th>Pimples(Y/N)</th>\n",
              "      <th>Fast food (Y/N)</th>\n",
              "      <th>Reg.Exercise(Y/N)</th>\n",
              "      <th>BP _Systolic (mmHg)</th>\n",
              "      <th>BP _Diastolic (mmHg)</th>\n",
              "      <th>Follicle No. (L)</th>\n",
              "      <th>Follicle No. (R)</th>\n",
              "      <th>Avg. F size (L) (mm)</th>\n",
              "      <th>Avg. F size (R) (mm)</th>\n",
              "      <th>Endometrium (mm)</th>\n",
              "    </tr>\n",
              "  </thead>\n",
              "  <tbody>\n",
              "    <tr>\n",
              "      <th>133</th>\n",
              "      <td>28.0</td>\n",
              "      <td>70.0</td>\n",
              "      <td>157.0</td>\n",
              "      <td>15.0</td>\n",
              "      <td>70.0</td>\n",
              "      <td>18.0</td>\n",
              "      <td>11.0</td>\n",
              "      <td>2.0</td>\n",
              "      <td>5.0</td>\n",
              "      <td>5.0</td>\n",
              "      <td>0.0</td>\n",
              "      <td>1.0</td>\n",
              "      <td>342.16</td>\n",
              "      <td>1.99</td>\n",
              "      <td>3.41</td>\n",
              "      <td>3.58</td>\n",
              "      <td>42.0</td>\n",
              "      <td>0.857143</td>\n",
              "      <td>1.13</td>\n",
              "      <td>19.00</td>\n",
              "      <td>21.70</td>\n",
              "      <td>18.80</td>\n",
              "      <td>0.56</td>\n",
              "      <td>120.0</td>\n",
              "      <td>1.0</td>\n",
              "      <td>1.0</td>\n",
              "      <td>1.0</td>\n",
              "      <td>0.0</td>\n",
              "      <td>0.0</td>\n",
              "      <td>1.0</td>\n",
              "      <td>1.0</td>\n",
              "      <td>110.0</td>\n",
              "      <td>80.0</td>\n",
              "      <td>12.0</td>\n",
              "      <td>9.0</td>\n",
              "      <td>19.0</td>\n",
              "      <td>18.0</td>\n",
              "      <td>12.0</td>\n",
              "    </tr>\n",
              "    <tr>\n",
              "      <th>73</th>\n",
              "      <td>26.0</td>\n",
              "      <td>70.0</td>\n",
              "      <td>163.0</td>\n",
              "      <td>15.0</td>\n",
              "      <td>72.0</td>\n",
              "      <td>18.0</td>\n",
              "      <td>10.5</td>\n",
              "      <td>2.0</td>\n",
              "      <td>5.0</td>\n",
              "      <td>3.0</td>\n",
              "      <td>0.0</td>\n",
              "      <td>2.0</td>\n",
              "      <td>1.99</td>\n",
              "      <td>1.99</td>\n",
              "      <td>7.31</td>\n",
              "      <td>6.68</td>\n",
              "      <td>45.0</td>\n",
              "      <td>0.888889</td>\n",
              "      <td>2.95</td>\n",
              "      <td>0.35</td>\n",
              "      <td>22.88</td>\n",
              "      <td>14.36</td>\n",
              "      <td>0.27</td>\n",
              "      <td>92.0</td>\n",
              "      <td>1.0</td>\n",
              "      <td>0.0</td>\n",
              "      <td>0.0</td>\n",
              "      <td>0.0</td>\n",
              "      <td>0.0</td>\n",
              "      <td>0.0</td>\n",
              "      <td>0.0</td>\n",
              "      <td>110.0</td>\n",
              "      <td>80.0</td>\n",
              "      <td>3.0</td>\n",
              "      <td>4.0</td>\n",
              "      <td>10.5</td>\n",
              "      <td>6.0</td>\n",
              "      <td>9.8</td>\n",
              "    </tr>\n",
              "    <tr>\n",
              "      <th>222</th>\n",
              "      <td>27.0</td>\n",
              "      <td>65.0</td>\n",
              "      <td>158.0</td>\n",
              "      <td>17.0</td>\n",
              "      <td>78.0</td>\n",
              "      <td>20.0</td>\n",
              "      <td>11.1</td>\n",
              "      <td>2.0</td>\n",
              "      <td>5.0</td>\n",
              "      <td>5.0</td>\n",
              "      <td>1.0</td>\n",
              "      <td>0.0</td>\n",
              "      <td>148.52</td>\n",
              "      <td>148.52</td>\n",
              "      <td>4.96</td>\n",
              "      <td>1.75</td>\n",
              "      <td>35.0</td>\n",
              "      <td>0.914286</td>\n",
              "      <td>2.20</td>\n",
              "      <td>1.10</td>\n",
              "      <td>12.11</td>\n",
              "      <td>25.70</td>\n",
              "      <td>0.35</td>\n",
              "      <td>93.0</td>\n",
              "      <td>1.0</td>\n",
              "      <td>1.0</td>\n",
              "      <td>1.0</td>\n",
              "      <td>0.0</td>\n",
              "      <td>1.0</td>\n",
              "      <td>1.0</td>\n",
              "      <td>0.0</td>\n",
              "      <td>120.0</td>\n",
              "      <td>70.0</td>\n",
              "      <td>14.0</td>\n",
              "      <td>10.0</td>\n",
              "      <td>16.0</td>\n",
              "      <td>15.0</td>\n",
              "      <td>8.0</td>\n",
              "    </tr>\n",
              "    <tr>\n",
              "      <th>233</th>\n",
              "      <td>31.0</td>\n",
              "      <td>50.0</td>\n",
              "      <td>152.0</td>\n",
              "      <td>15.0</td>\n",
              "      <td>72.0</td>\n",
              "      <td>18.0</td>\n",
              "      <td>10.0</td>\n",
              "      <td>2.0</td>\n",
              "      <td>6.0</td>\n",
              "      <td>4.5</td>\n",
              "      <td>0.0</td>\n",
              "      <td>1.0</td>\n",
              "      <td>392.73</td>\n",
              "      <td>1.99</td>\n",
              "      <td>5.37</td>\n",
              "      <td>8.15</td>\n",
              "      <td>34.0</td>\n",
              "      <td>0.882353</td>\n",
              "      <td>25.91</td>\n",
              "      <td>16.80</td>\n",
              "      <td>14.41</td>\n",
              "      <td>23.91</td>\n",
              "      <td>0.25</td>\n",
              "      <td>92.0</td>\n",
              "      <td>0.0</td>\n",
              "      <td>0.0</td>\n",
              "      <td>0.0</td>\n",
              "      <td>0.0</td>\n",
              "      <td>1.0</td>\n",
              "      <td>1.0</td>\n",
              "      <td>1.0</td>\n",
              "      <td>120.0</td>\n",
              "      <td>80.0</td>\n",
              "      <td>7.0</td>\n",
              "      <td>5.0</td>\n",
              "      <td>17.0</td>\n",
              "      <td>15.0</td>\n",
              "      <td>9.0</td>\n",
              "    </tr>\n",
              "    <tr>\n",
              "      <th>334</th>\n",
              "      <td>30.0</td>\n",
              "      <td>62.0</td>\n",
              "      <td>152.0</td>\n",
              "      <td>15.0</td>\n",
              "      <td>74.0</td>\n",
              "      <td>18.0</td>\n",
              "      <td>11.5</td>\n",
              "      <td>2.0</td>\n",
              "      <td>5.0</td>\n",
              "      <td>6.0</td>\n",
              "      <td>1.0</td>\n",
              "      <td>0.0</td>\n",
              "      <td>296.31</td>\n",
              "      <td>296.31</td>\n",
              "      <td>0.21</td>\n",
              "      <td>0.92</td>\n",
              "      <td>38.0</td>\n",
              "      <td>0.921053</td>\n",
              "      <td>1.75</td>\n",
              "      <td>2.17</td>\n",
              "      <td>12.11</td>\n",
              "      <td>22.90</td>\n",
              "      <td>0.42</td>\n",
              "      <td>77.0</td>\n",
              "      <td>1.0</td>\n",
              "      <td>0.0</td>\n",
              "      <td>0.0</td>\n",
              "      <td>1.0</td>\n",
              "      <td>1.0</td>\n",
              "      <td>1.0</td>\n",
              "      <td>0.0</td>\n",
              "      <td>120.0</td>\n",
              "      <td>80.0</td>\n",
              "      <td>6.0</td>\n",
              "      <td>7.0</td>\n",
              "      <td>15.0</td>\n",
              "      <td>11.0</td>\n",
              "      <td>11.0</td>\n",
              "    </tr>\n",
              "  </tbody>\n",
              "</table>\n",
              "</div>\n",
              "      <button class=\"colab-df-convert\" onclick=\"convertToInteractive('df-fc2927b3-b5b4-4b7b-aee1-468581095ca6')\"\n",
              "              title=\"Convert this dataframe to an interactive table.\"\n",
              "              style=\"display:none;\">\n",
              "        \n",
              "  <svg xmlns=\"http://www.w3.org/2000/svg\" height=\"24px\"viewBox=\"0 0 24 24\"\n",
              "       width=\"24px\">\n",
              "    <path d=\"M0 0h24v24H0V0z\" fill=\"none\"/>\n",
              "    <path d=\"M18.56 5.44l.94 2.06.94-2.06 2.06-.94-2.06-.94-.94-2.06-.94 2.06-2.06.94zm-11 1L8.5 8.5l.94-2.06 2.06-.94-2.06-.94L8.5 2.5l-.94 2.06-2.06.94zm10 10l.94 2.06.94-2.06 2.06-.94-2.06-.94-.94-2.06-.94 2.06-2.06.94z\"/><path d=\"M17.41 7.96l-1.37-1.37c-.4-.4-.92-.59-1.43-.59-.52 0-1.04.2-1.43.59L10.3 9.45l-7.72 7.72c-.78.78-.78 2.05 0 2.83L4 21.41c.39.39.9.59 1.41.59.51 0 1.02-.2 1.41-.59l7.78-7.78 2.81-2.81c.8-.78.8-2.07 0-2.86zM5.41 20L4 18.59l7.72-7.72 1.47 1.35L5.41 20z\"/>\n",
              "  </svg>\n",
              "      </button>\n",
              "      \n",
              "  <style>\n",
              "    .colab-df-container {\n",
              "      display:flex;\n",
              "      flex-wrap:wrap;\n",
              "      gap: 12px;\n",
              "    }\n",
              "\n",
              "    .colab-df-convert {\n",
              "      background-color: #E8F0FE;\n",
              "      border: none;\n",
              "      border-radius: 50%;\n",
              "      cursor: pointer;\n",
              "      display: none;\n",
              "      fill: #1967D2;\n",
              "      height: 32px;\n",
              "      padding: 0 0 0 0;\n",
              "      width: 32px;\n",
              "    }\n",
              "\n",
              "    .colab-df-convert:hover {\n",
              "      background-color: #E2EBFA;\n",
              "      box-shadow: 0px 1px 2px rgba(60, 64, 67, 0.3), 0px 1px 3px 1px rgba(60, 64, 67, 0.15);\n",
              "      fill: #174EA6;\n",
              "    }\n",
              "\n",
              "    [theme=dark] .colab-df-convert {\n",
              "      background-color: #3B4455;\n",
              "      fill: #D2E3FC;\n",
              "    }\n",
              "\n",
              "    [theme=dark] .colab-df-convert:hover {\n",
              "      background-color: #434B5C;\n",
              "      box-shadow: 0px 1px 3px 1px rgba(0, 0, 0, 0.15);\n",
              "      filter: drop-shadow(0px 1px 2px rgba(0, 0, 0, 0.3));\n",
              "      fill: #FFFFFF;\n",
              "    }\n",
              "  </style>\n",
              "\n",
              "      <script>\n",
              "        const buttonEl =\n",
              "          document.querySelector('#df-fc2927b3-b5b4-4b7b-aee1-468581095ca6 button.colab-df-convert');\n",
              "        buttonEl.style.display =\n",
              "          google.colab.kernel.accessAllowed ? 'block' : 'none';\n",
              "\n",
              "        async function convertToInteractive(key) {\n",
              "          const element = document.querySelector('#df-fc2927b3-b5b4-4b7b-aee1-468581095ca6');\n",
              "          const dataTable =\n",
              "            await google.colab.kernel.invokeFunction('convertToInteractive',\n",
              "                                                     [key], {});\n",
              "          if (!dataTable) return;\n",
              "\n",
              "          const docLinkHtml = 'Like what you see? Visit the ' +\n",
              "            '<a target=\"_blank\" href=https://colab.research.google.com/notebooks/data_table.ipynb>data table notebook</a>'\n",
              "            + ' to learn more about interactive tables.';\n",
              "          element.innerHTML = '';\n",
              "          dataTable['output_type'] = 'display_data';\n",
              "          await google.colab.output.renderOutput(dataTable, element);\n",
              "          const docLink = document.createElement('div');\n",
              "          docLink.innerHTML = docLinkHtml;\n",
              "          element.appendChild(docLink);\n",
              "        }\n",
              "      </script>\n",
              "    </div>\n",
              "  </div>\n",
              "  "
            ],
            "text/plain": [
              "      Age (yrs)  Weight (Kg)  ...  Avg. F size (R) (mm)  Endometrium (mm)\n",
              "133        28.0         70.0  ...                  18.0              12.0\n",
              "73         26.0         70.0  ...                   6.0               9.8\n",
              "222        27.0         65.0  ...                  15.0               8.0\n",
              "233        31.0         50.0  ...                  15.0               9.0\n",
              "334        30.0         62.0  ...                  11.0              11.0\n",
              "\n",
              "[5 rows x 38 columns]"
            ]
          },
          "execution_count": null,
          "metadata": {},
          "output_type": "execute_result"
        }
      ],
      "source": [
        "X_train.ft.head()"
      ]
    },
    {
      "cell_type": "code",
      "execution_count": null,
      "metadata": {
        "colab": {
          "background_save": true
        },
        "id": "VKJVbLK2YSgj"
      },
      "outputs": [],
      "source": [
        "features = list(X_train.ft.columns)"
      ]
    },
    {
      "cell_type": "code",
      "execution_count": null,
      "metadata": {
        "colab": {
          "background_save": true
        },
        "id": "2W74ZTPCYSCh"
      },
      "outputs": [],
      "source": [
        "model_cb = CatBoostClassifier(task_type='GPU',iterations=20,random_state=2021,eval_metric=\"F1\")"
      ]
    },
    {
      "cell_type": "code",
      "execution_count": null,
      "metadata": {
        "colab": {
          "background_save": true,
          "referenced_widgets": [
            "9af55682bfa04029ab3aaf8dbce1d226"
          ]
        },
        "id": "IwGF25FsYRv0",
        "outputId": "44c8cd4f-2ca6-429e-b654-d22e63f6d0d0"
      },
      "outputs": [
        {
          "data": {
            "application/vnd.jupyter.widget-view+json": {
              "model_id": "9af55682bfa04029ab3aaf8dbce1d226",
              "version_major": 2,
              "version_minor": 0
            },
            "text/plain": [
              "MetricVisualizer(layout=Layout(align_self='stretch', height='500px'))"
            ]
          },
          "metadata": {},
          "output_type": "display_data"
        },
        {
          "name": "stdout",
          "output_type": "stream",
          "text": [
            "Learning rate set to 0.382414\n",
            "0:\tlearn: 0.7915194\ttest: 0.6666667\tbest: 0.6666667 (0)\ttotal: 32.4ms\tremaining: 616ms\n",
            "1:\tlearn: 0.8766234\ttest: 0.8823529\tbest: 0.8823529 (1)\ttotal: 58.6ms\tremaining: 527ms\n",
            "2:\tlearn: 0.8910891\ttest: 0.8823529\tbest: 0.8823529 (1)\ttotal: 88.1ms\tremaining: 499ms\n",
            "3:\tlearn: 0.9144737\ttest: 0.8484848\tbest: 0.8823529 (1)\ttotal: 103ms\tremaining: 413ms\n",
            "4:\tlearn: 0.9078947\ttest: 0.9090909\tbest: 0.9090909 (4)\ttotal: 115ms\tremaining: 346ms\n",
            "5:\tlearn: 0.9389068\ttest: 0.8333333\tbest: 0.9090909 (4)\ttotal: 131ms\tremaining: 306ms\n",
            "6:\tlearn: 0.9350649\ttest: 0.8571429\tbest: 0.9090909 (4)\ttotal: 163ms\tremaining: 302ms\n",
            "7:\tlearn: 0.9679487\ttest: 0.8571429\tbest: 0.9090909 (4)\ttotal: 197ms\tremaining: 296ms\n",
            "8:\tlearn: 0.9710611\ttest: 0.8333333\tbest: 0.9090909 (4)\ttotal: 209ms\tremaining: 256ms\n",
            "9:\tlearn: 0.9774920\ttest: 0.8333333\tbest: 0.9090909 (4)\ttotal: 268ms\tremaining: 268ms\n",
            "10:\tlearn: 0.9807692\ttest: 0.8333333\tbest: 0.9090909 (4)\ttotal: 290ms\tremaining: 237ms\n",
            "11:\tlearn: 0.9872611\ttest: 0.8571429\tbest: 0.9090909 (4)\ttotal: 309ms\tremaining: 206ms\n",
            "12:\tlearn: 0.9936709\ttest: 0.8888889\tbest: 0.9090909 (4)\ttotal: 319ms\tremaining: 172ms\n",
            "13:\tlearn: 0.9904762\ttest: 0.8888889\tbest: 0.9090909 (4)\ttotal: 334ms\tremaining: 143ms\n",
            "14:\tlearn: 0.9968454\ttest: 0.8888889\tbest: 0.9090909 (4)\ttotal: 350ms\tremaining: 117ms\n",
            "15:\tlearn: 1.0000000\ttest: 0.8888889\tbest: 0.9090909 (4)\ttotal: 371ms\tremaining: 92.9ms\n",
            "16:\tlearn: 1.0000000\ttest: 0.8888889\tbest: 0.9090909 (4)\ttotal: 395ms\tremaining: 69.7ms\n",
            "17:\tlearn: 1.0000000\ttest: 0.8888889\tbest: 0.9090909 (4)\ttotal: 416ms\tremaining: 46.2ms\n",
            "18:\tlearn: 1.0000000\ttest: 0.8888889\tbest: 0.9090909 (4)\ttotal: 428ms\tremaining: 22.5ms\n",
            "19:\tlearn: 1.0000000\ttest: 0.8888889\tbest: 0.9090909 (4)\ttotal: 456ms\tremaining: 0us\n",
            "bestTest = 0.9090909091\n",
            "bestIteration = 4\n",
            "Shrink model to first 5 iterations.\n"
          ]
        },
        {
          "data": {
            "text/plain": [
              "<catboost.core.CatBoostClassifier at 0x7fe56c4648d0>"
            ]
          },
          "execution_count": null,
          "metadata": {},
          "output_type": "execute_result"
        }
      ],
      "source": [
        "model_cb.fit(X_train.ft, Y_train, plot=True,eval_set=(X_test.ft,Y_test))"
      ]
    },
    {
      "cell_type": "code",
      "execution_count": null,
      "metadata": {
        "colab": {
          "background_save": true
        },
        "id": "j7dP3xElcDAE",
        "outputId": "96de8618-76b6-40f3-e2b8-e3aafb5adbd4"
      },
      "outputs": [
        {
          "name": "stdout",
          "output_type": "stream",
          "text": [
            "Accuracy of Training Data: 0.9423868312757202\n"
          ]
        }
      ],
      "source": [
        "#Accuracy Score of training data for Cat Boost\n",
        "\n",
        "X_train_prediction=model_cb.predict(X_train.ft)\n",
        "Training_data_Accuracy=accuracy_score(X_train_prediction, Y_train)\n",
        "print('Accuracy of Training Data:',Training_data_Accuracy)"
      ]
    },
    {
      "cell_type": "code",
      "execution_count": null,
      "metadata": {
        "colab": {
          "background_save": true
        },
        "id": "oxuO8RSDMDAO",
        "outputId": "0f5b374e-dbf7-412f-ce09-184ab5255ee5"
      },
      "outputs": [
        {
          "name": "stdout",
          "output_type": "stream",
          "text": [
            "Accuracy of Testing Data: 0.9454545454545454\n"
          ]
        }
      ],
      "source": [
        "#Accuracy Score of testing data for Cat Boosat\n",
        "\n",
        "X_test_prediction=model_cb.predict(X_test.ft)\n",
        "Testing_data_Accuracy=accuracy_score(X_test_prediction, Y_test)\n",
        "print('Accuracy of Testing Data:',Testing_data_Accuracy)"
      ]
    },
    {
      "cell_type": "markdown",
      "metadata": {
        "id": "6LjJQXdBH3qt"
      },
      "source": [
        "Logistic Regression"
      ]
    },
    {
      "cell_type": "code",
      "execution_count": null,
      "metadata": {
        "colab": {
          "background_save": true
        },
        "id": "xYWj3SXj_Gtf"
      },
      "outputs": [],
      "source": [
        "#model training Logistic Regression\n",
        "\n",
        "model1=LogisticRegression()"
      ]
    },
    {
      "cell_type": "code",
      "execution_count": null,
      "metadata": {
        "id": "Gy4tG47R_GxN"
      },
      "outputs": [],
      "source": [
        "#Training\n",
        "model1.fit(X_train.ft, Y_train)"
      ]
    },
    {
      "cell_type": "code",
      "execution_count": null,
      "metadata": {
        "id": "Sbif7DVpDmwd"
      },
      "outputs": [],
      "source": [
        "#rfe=RFE(model1)\n",
        "#rfe=rfe.fit_transform(X_train.ft, Y_train)"
      ]
    },
    {
      "cell_type": "markdown",
      "metadata": {
        "id": "XRZSs6aNBWPw"
      },
      "source": [
        "Model Evaluation"
      ]
    },
    {
      "cell_type": "code",
      "execution_count": null,
      "metadata": {
        "id": "SO0jyZ-e_Gzt"
      },
      "outputs": [],
      "source": [
        "#Accuracy Score of training data for logistic regression\n",
        "\n",
        "X_train_prediction=model1.predict(X_train.ft)\n",
        "Training_data_Accuracy=accuracy_score(X_train_prediction, Y_train)\n",
        "print('Accuracy of Training Data:',Training_data_Accuracy)"
      ]
    },
    {
      "cell_type": "code",
      "execution_count": null,
      "metadata": {
        "id": "Zpjz2hDw_G2V"
      },
      "outputs": [],
      "source": [
        "#Accuracy Score of testing data for logistic regression\n",
        "\n",
        "X_test_prediction=model1.predict(X_test.ft)\n",
        "Testing_data_Accuracy=accuracy_score(X_test_prediction, Y_test)\n",
        "print('Accuracy of Testing Data:',Testing_data_Accuracy)"
      ]
    },
    {
      "cell_type": "code",
      "execution_count": null,
      "metadata": {
        "id": "ZiAjVCU1v0RE"
      },
      "outputs": [],
      "source": [
        "#Precision Score of training data for logistic regression\n",
        "\n",
        "X_train_prediction=model1.predict(X_train.ft)\n",
        "Training_data_Precision1a=precision_score(X_train_prediction, Y_train)\n",
        "print('Precision of Training Data:',Training_data_Precision1a)"
      ]
    },
    {
      "cell_type": "code",
      "execution_count": null,
      "metadata": {
        "id": "s6KID61twinn"
      },
      "outputs": [],
      "source": [
        "#Precision Score of testing data for logistic regression\n",
        "\n",
        "X_test_prediction=model1.predict(X_test.ft)\n",
        "Testing_data_Precision1b=precision_score(X_test_prediction, Y_test)\n",
        "print('Precision of Testing Data:',Testing_data_Precision1b)"
      ]
    },
    {
      "cell_type": "markdown",
      "metadata": {
        "id": "iteE_xIDD5U8"
      },
      "source": [
        "New code"
      ]
    },
    {
      "cell_type": "code",
      "execution_count": null,
      "metadata": {
        "id": "f3qx_CKTD_iY"
      },
      "outputs": [],
      "source": [
        "#Recall_Score of training data for logistic regression\n",
        "\n",
        "X_train_prediction=model1.predict(X_train.ft)\n",
        "Training_data_recall=recall_score(X_train_prediction, Y_train)\n",
        "print('Recall(sensitivity) of Training Data:',Training_data_recall)"
      ]
    },
    {
      "cell_type": "code",
      "execution_count": null,
      "metadata": {
        "id": "qkmH7-L6EJgU"
      },
      "outputs": [],
      "source": [
        "#Recall_Score of testing data for logistic regression\n",
        "\n",
        "X_test_prediction=model1.predict(X_test.ft)\n",
        "Testing_data_recall=recall_score(X_test_prediction, Y_test)\n",
        "print('Recall(sensitivity) of Testing Data:',Testing_data_recall)"
      ]
    },
    {
      "cell_type": "code",
      "execution_count": null,
      "metadata": {
        "id": "8zarweS1EUBi"
      },
      "outputs": [],
      "source": [
        "#F1_Score of training data for logistic regression\n",
        "\n",
        "X_train_prediction=model1.predict(X_train.ft)\n",
        "Training_data_F1=f1_score(X_train_prediction, Y_train)\n",
        "print('F1_score of Training Data:',Training_data_F1)"
      ]
    },
    {
      "cell_type": "code",
      "execution_count": null,
      "metadata": {
        "id": "ysBSbnmkET9f"
      },
      "outputs": [],
      "source": [
        "#F1_Score of testing data for logistic regression\n",
        "\n",
        "X_test_prediction=model1.predict(X_test.ft)\n",
        "Testing_data_F1=f1_score(X_test_prediction, Y_test)\n",
        "print('F1_score of Testing Data:',Testing_data_F1)"
      ]
    },
    {
      "cell_type": "code",
      "execution_count": null,
      "metadata": {
        "id": "AsbEZCD0EiVU"
      },
      "outputs": [],
      "source": [
        "plt.subplots(figsize=(15,10))\n",
        "cf_matrix1 = confusion_matrix(Y_test,X_test_prediction )\n",
        "sns.heatmap(cf_matrix1/np.sum(cf_matrix1), annot = True, annot_kws = {'size':15}, cmap = 'tab20c_r')"
      ]
    },
    {
      "cell_type": "markdown",
      "metadata": {
        "id": "BMt8-_GQHwjk"
      },
      "source": [
        "# KNeighbours classifier"
      ]
    },
    {
      "cell_type": "code",
      "execution_count": null,
      "metadata": {
        "id": "gKe2P2GqGeBX"
      },
      "outputs": [],
      "source": [
        "#model training KNeighbours\n",
        "\n",
        "model2=KNeighborsClassifier()"
      ]
    },
    {
      "cell_type": "code",
      "execution_count": null,
      "metadata": {
        "id": "KHB1z6bbHN1o"
      },
      "outputs": [],
      "source": [
        "#Training\n",
        "model2.fit(X_train.ft, Y_train)"
      ]
    },
    {
      "cell_type": "code",
      "execution_count": null,
      "metadata": {
        "id": "9fyUJCK3HfO5"
      },
      "outputs": [],
      "source": [
        "#Accuracy Score of training data for kneighbours\n",
        "\n",
        "X_train_prediction=model2.predict(X_train.ft)\n",
        "Training_data_Accuracy=accuracy_score(X_train_prediction, Y_train)\n",
        "print('Accuracy of Training Data:',Training_data_Accuracy)"
      ]
    },
    {
      "cell_type": "code",
      "execution_count": null,
      "metadata": {
        "id": "4w_nQ4NjHfC9"
      },
      "outputs": [],
      "source": [
        "#Accuracy Score of testing data for kneighbours\n",
        "\n",
        "X_test_prediction=model2.predict(X_test.ft)\n",
        "Testing_data_Accuracy=accuracy_score(X_test_prediction, Y_test)\n",
        "print('Accuracy of Testing Data:',Testing_data_Accuracy)"
      ]
    },
    {
      "cell_type": "code",
      "execution_count": null,
      "metadata": {
        "id": "KLhgyHzExKA2"
      },
      "outputs": [],
      "source": [
        "#Precision Score of training data for KNeighbours Classifier\n",
        "\n",
        "X_train_prediction=model2.predict(X_train.ft)\n",
        "Training_data_Precision2a=precision_score(X_train_prediction, Y_train)\n",
        "print('Precision of Training Data:',Training_data_Precision2a)"
      ]
    },
    {
      "cell_type": "code",
      "execution_count": null,
      "metadata": {
        "id": "xAoBGmt4xgE0"
      },
      "outputs": [],
      "source": [
        "#Precision Score of testing data for KNeighbours Classifier\n",
        "\n",
        "X_test_prediction=model2.predict(X_test.ft)\n",
        "Testing_data_Precision2b=precision_score(X_test_prediction, Y_test)\n",
        "print('Precision of Testing Data:',Testing_data_Precision2b)"
      ]
    },
    {
      "cell_type": "markdown",
      "metadata": {
        "id": "WK3iSn5HFPHj"
      },
      "source": [
        "New code"
      ]
    },
    {
      "cell_type": "code",
      "execution_count": null,
      "metadata": {
        "id": "mlBYtWraEv4K"
      },
      "outputs": [],
      "source": [
        "#Recall_Score of training data for KNeighbours Classifier\n",
        "\n",
        "X_train_prediction=model2.predict(X_train.ft)\n",
        "Training_data_recall=recall_score(X_train_prediction, Y_train)\n",
        "print('Recall(sensitivity) of Training Data:',Training_data_recall)"
      ]
    },
    {
      "cell_type": "code",
      "execution_count": null,
      "metadata": {
        "id": "evBxPkS4EyDp"
      },
      "outputs": [],
      "source": [
        "#Recall_Score of testing data for KNeighbours Classifier\n",
        "\n",
        "X_test_prediction=model2.predict(X_test.ft)\n",
        "Testing_data_recall=recall_score(X_test_prediction, Y_test)\n",
        "print('Recall(sensitivity) of Testing Data:',Testing_data_recall)"
      ]
    },
    {
      "cell_type": "code",
      "execution_count": null,
      "metadata": {
        "id": "Ag_uxZ2CE4WG"
      },
      "outputs": [],
      "source": [
        "#F1_Score of training data for KNeighbours Classifier\n",
        "\n",
        "X_train_prediction=model2.predict(X_train.ft)\n",
        "Training_data_F1=f1_score(X_train_prediction, Y_train)\n",
        "print('F1_score of Training Data:',Training_data_F1)"
      ]
    },
    {
      "cell_type": "code",
      "execution_count": null,
      "metadata": {
        "id": "VRvwYlIxE75S"
      },
      "outputs": [],
      "source": [
        "#F1_Score of testing data for KNeighbours Classifier\n",
        "\n",
        "X_test_prediction=model2.predict(X_test.ft)\n",
        "Testing_data_F1=f1_score(X_test_prediction, Y_test)\n",
        "print('F1_score of Testing Data:',Testing_data_F1)"
      ]
    },
    {
      "cell_type": "code",
      "execution_count": null,
      "metadata": {
        "id": "sEpk_racFDCL"
      },
      "outputs": [],
      "source": [
        "plt.subplots(figsize=(15,10))\n",
        "cf_matrix2 = confusion_matrix(Y_test,X_test_prediction )\n",
        "sns.heatmap(cf_matrix2/np.sum(cf_matrix2), annot = True, annot_kws = {'size':15}, cmap = 'plasma_r')"
      ]
    },
    {
      "cell_type": "markdown",
      "metadata": {
        "id": "dJvrIEJBH82E"
      },
      "source": [
        "# *Decision* Tree"
      ]
    },
    {
      "cell_type": "code",
      "execution_count": null,
      "metadata": {
        "id": "cb50W6wJHe2i"
      },
      "outputs": [],
      "source": [
        "model3= DecisionTreeClassifier()"
      ]
    },
    {
      "cell_type": "code",
      "execution_count": null,
      "metadata": {
        "id": "E-ipFiQ7IWjp"
      },
      "outputs": [],
      "source": [
        "#Training\n",
        "model3.fit(X_train.ft, Y_train)"
      ]
    },
    {
      "cell_type": "code",
      "execution_count": null,
      "metadata": {
        "id": "Qnpoj2r_IWft"
      },
      "outputs": [],
      "source": [
        "#Accuracy Score of training data for Decision Tree\n",
        "\n",
        "X_train_prediction=model3.predict(X_train.ft)\n",
        "Training_data_Accuracy=accuracy_score(X_train_prediction, Y_train)\n",
        "print('Accuracy of Training Data:',Training_data_Accuracy)"
      ]
    },
    {
      "cell_type": "code",
      "execution_count": null,
      "metadata": {
        "id": "xVboF-wMIWdr"
      },
      "outputs": [],
      "source": [
        "#Accuracy Score of testing data for Decision Tree\n",
        "\n",
        "X_test_prediction=model3.predict(X_test.ft)\n",
        "Testing_data_Accuracy=accuracy_score(X_test_prediction, Y_test)\n",
        "print('Accuracy of Testing Data:',Testing_data_Accuracy)"
      ]
    },
    {
      "cell_type": "code",
      "execution_count": null,
      "metadata": {
        "id": "BtkmLBN4yuJ3"
      },
      "outputs": [],
      "source": [
        "#Precision Score of training data for Decision Tree\n",
        "\n",
        "X_train_prediction=model3.predict(X_train.ft)\n",
        "Training_data_Precision3a=precision_score(X_train_prediction, Y_train)\n",
        "print('Precision of Training Data:',Training_data_Precision3a)"
      ]
    },
    {
      "cell_type": "code",
      "execution_count": null,
      "metadata": {
        "id": "vOCOcEXNyt1H"
      },
      "outputs": [],
      "source": [
        "#Precision Score of testing data for Decision Tree\n",
        "\n",
        "X_test_prediction=model3.predict(X_test.ft)\n",
        "Testing_data_Precision3b=precision_score(X_test_prediction, Y_test)\n",
        "print('Precision of Testing Data:',Testing_data_Precision3b)"
      ]
    },
    {
      "cell_type": "markdown",
      "metadata": {
        "id": "8AUsud9PFZs3"
      },
      "source": [
        "New code"
      ]
    },
    {
      "cell_type": "code",
      "execution_count": null,
      "metadata": {
        "id": "-7V8uR2KFWvi"
      },
      "outputs": [],
      "source": [
        "#Recall_Score of training data for Decision Tree\n",
        "\n",
        "X_train_prediction=model3.predict(X_train.ft)\n",
        "Training_data_recall=recall_score(X_train_prediction, Y_train)\n",
        "print('Recall(sensitivity) of Training Data:',Training_data_recall)"
      ]
    },
    {
      "cell_type": "code",
      "execution_count": null,
      "metadata": {
        "id": "i1931R9PFe1q"
      },
      "outputs": [],
      "source": [
        "#Recall_Score of testing data for Decision Tree\n",
        "\n",
        "X_test_prediction=model3.predict(X_test.ft)\n",
        "Testing_data_recall=recall_score(X_test_prediction, Y_test)\n",
        "print('Recall(sensitivity) of Testing Data:',Testing_data_recall)"
      ]
    },
    {
      "cell_type": "code",
      "execution_count": null,
      "metadata": {
        "id": "2rDEjPD-FoGm"
      },
      "outputs": [],
      "source": [
        "#F1_Score of training data for Decision Tree\n",
        "\n",
        "X_train_prediction=model3.predict(X_train.ft)\n",
        "Training_data_F1=f1_score(X_train_prediction, Y_train)\n",
        "print('F1_score of Training Data:',Training_data_F1)"
      ]
    },
    {
      "cell_type": "code",
      "execution_count": null,
      "metadata": {
        "id": "aQef8j92Fq-H"
      },
      "outputs": [],
      "source": [
        "#F1_Score of testing data for Decision Tree\n",
        "\n",
        "X_test_prediction=model3.predict(X_test.ft)\n",
        "Testing_data_F1=f1_score(X_test_prediction, Y_test)\n",
        "print('F1_score of Testing Data:',Testing_data_F1)"
      ]
    },
    {
      "cell_type": "code",
      "execution_count": null,
      "metadata": {
        "id": "6M0JvJ4SFv5i"
      },
      "outputs": [],
      "source": [
        "plt.subplots(figsize=(15,10))\n",
        "cf_matrix3 = confusion_matrix(Y_test,X_test_prediction )\n",
        "sns.heatmap(cf_matrix3/np.sum(cf_matrix3), annot = True, annot_kws = {'size':15}, cmap = 'OrRd')"
      ]
    },
    {
      "cell_type": "markdown",
      "metadata": {
        "id": "F8qP4eAKIstJ"
      },
      "source": [
        "# Support vector machine classifier"
      ]
    },
    {
      "cell_type": "code",
      "execution_count": null,
      "metadata": {
        "id": "xonfCZw0IWan"
      },
      "outputs": [],
      "source": [
        "model4= svm.SVC()"
      ]
    },
    {
      "cell_type": "code",
      "execution_count": null,
      "metadata": {
        "id": "9FEJ7HOgIWYn"
      },
      "outputs": [],
      "source": [
        "#Training\n",
        "model4.fit(X_train.ft, Y_train)"
      ]
    },
    {
      "cell_type": "code",
      "execution_count": null,
      "metadata": {
        "id": "EDuOJoaCIWVt"
      },
      "outputs": [],
      "source": [
        "#Accuracy Score of training data for svm\n",
        "\n",
        "X_train_prediction=model4.predict(X_train.ft)\n",
        "Training_data_Accuracy=accuracy_score(X_train_prediction, Y_train)\n",
        "print('Accuracy of Training Data:',Training_data_Accuracy)"
      ]
    },
    {
      "cell_type": "code",
      "execution_count": null,
      "metadata": {
        "id": "9LUzxH9SIWT7"
      },
      "outputs": [],
      "source": [
        "#Accuracy Score of testing data for svm\n",
        "\n",
        "X_test_prediction=model4.predict(X_test.ft)\n",
        "Testing_data_Accuracy=accuracy_score(X_test_prediction, Y_test)\n",
        "print('Accuracy of Testing Data:',Testing_data_Accuracy)"
      ]
    },
    {
      "cell_type": "code",
      "execution_count": null,
      "metadata": {
        "id": "BXg-Lw4B1i1Z"
      },
      "outputs": [],
      "source": [
        "#Precision Score of training data for svm\n",
        "\n",
        "X_train_prediction=model4.predict(X_train.ft)\n",
        "Training_data_Precision4a=precision_score(X_train_prediction, Y_train)\n",
        "print('Precision of Training Data:',Training_data_Precision4a)"
      ]
    },
    {
      "cell_type": "code",
      "execution_count": null,
      "metadata": {
        "id": "5XSCRIzm1ioU"
      },
      "outputs": [],
      "source": [
        "#Precision Score of testing data for svm\n",
        "\n",
        "X_test_prediction=model4.predict(X_test.ft)\n",
        "Testing_data_Precision4b=precision_score(X_test_prediction, Y_test)\n",
        "print('Precision of Testing Data:',Testing_data_Precision4b)"
      ]
    },
    {
      "cell_type": "markdown",
      "metadata": {
        "id": "EETqJqUJF6lc"
      },
      "source": [
        "New code"
      ]
    },
    {
      "cell_type": "code",
      "execution_count": null,
      "metadata": {
        "id": "3HIqOeDzF8zL"
      },
      "outputs": [],
      "source": [
        "#Recall_Score of training data for svm\n",
        "\n",
        "X_train_prediction=model4.predict(X_train.ft)\n",
        "Training_data_recall=recall_score(X_train_prediction, Y_train)\n",
        "print('Recall(sensitivity) of Training Data:',Training_data_recall)"
      ]
    },
    {
      "cell_type": "code",
      "execution_count": null,
      "metadata": {
        "id": "5Cl9VqLLF-vT"
      },
      "outputs": [],
      "source": [
        "#Recall_Score of testing data for svm\n",
        "\n",
        "X_test_prediction=model4.predict(X_test.ft)\n",
        "Testing_data_recall=recall_score(X_test_prediction, Y_test)\n",
        "print('Recall(sensitivity) of Testing Data:',Testing_data_recall)\n"
      ]
    },
    {
      "cell_type": "code",
      "execution_count": null,
      "metadata": {
        "id": "G2SyDpARGBuf"
      },
      "outputs": [],
      "source": [
        "#F1_Score of training data for svm\n",
        "\n",
        "X_train_prediction=model4.predict(X_train.ft)\n",
        "Training_data_F1=f1_score(X_train_prediction, Y_train)\n",
        "print('F1_score of Training Data:',Training_data_F1)"
      ]
    },
    {
      "cell_type": "code",
      "execution_count": null,
      "metadata": {
        "id": "qgJ_dJjjGLsm"
      },
      "outputs": [],
      "source": [
        "#F1_Score of testing data for svm\n",
        "\n",
        "X_test_prediction=model4.predict(X_test.ft)\n",
        "Testing_data_F1=f1_score(X_test_prediction, Y_test)\n",
        "print('F1_score of Testing Data:',Testing_data_F1)"
      ]
    },
    {
      "cell_type": "code",
      "execution_count": null,
      "metadata": {
        "id": "Gx-TpEONGPqX"
      },
      "outputs": [],
      "source": [
        "plt.subplots(figsize=(15,10))\n",
        "cf_matrix4 = confusion_matrix(Y_test,X_test_prediction )\n",
        "sns.heatmap(cf_matrix4/np.sum(cf_matrix4), annot = True, annot_kws = {'size':15}, cmap = 'cividis_r')"
      ]
    },
    {
      "cell_type": "markdown",
      "metadata": {
        "id": "iKR6yiejKW88"
      },
      "source": [
        "# Random Forest classifier"
      ]
    },
    {
      "cell_type": "code",
      "execution_count": null,
      "metadata": {
        "id": "xE_nePpFIWR3"
      },
      "outputs": [],
      "source": [
        "model5=RandomForestClassifier()"
      ]
    },
    {
      "cell_type": "code",
      "execution_count": null,
      "metadata": {
        "id": "qDqdkWXiIWP2"
      },
      "outputs": [],
      "source": [
        "#Training\n",
        "model5.fit(X_train.ft, Y_train)"
      ]
    },
    {
      "cell_type": "code",
      "execution_count": null,
      "metadata": {
        "id": "Y87f0fyVIWNU"
      },
      "outputs": [],
      "source": [
        "#Accuracy Score of training data for random forest\n",
        "\n",
        "X_train_prediction=model5.predict(X_train.ft)\n",
        "Training_data_Accuracy=accuracy_score(X_train_prediction, Y_train)\n",
        "print('Accuracy of Training Data:',Training_data_Accuracy)"
      ]
    },
    {
      "cell_type": "code",
      "execution_count": null,
      "metadata": {
        "id": "_SMUf1zYIWJs"
      },
      "outputs": [],
      "source": [
        "#Accuracy Score of testing data for random forest\n",
        "\n",
        "X_test_prediction=model5.predict(X_test.ft)\n",
        "Testing_data_Accuracy=accuracy_score(X_test_prediction, Y_test)\n",
        "print('Accuracy of Testing Data:',Testing_data_Accuracy)"
      ]
    },
    {
      "cell_type": "code",
      "execution_count": null,
      "metadata": {
        "id": "31mJkIul19hv"
      },
      "outputs": [],
      "source": [
        "#Precision Score of training data for RFC\n",
        "\n",
        "X_train_prediction=model5.predict(X_train.ft)\n",
        "Training_data_Precision5a=precision_score(X_train_prediction, Y_train)\n",
        "print('Precision of Training Data:',Training_data_Precision5a)"
      ]
    },
    {
      "cell_type": "code",
      "execution_count": null,
      "metadata": {
        "id": "sL42Iwmd185q"
      },
      "outputs": [],
      "source": [
        "#Precision Score of testing data for RFC\n",
        "\n",
        "X_test_prediction=model5.predict(X_test.ft)\n",
        "Testing_data_Precision5b=precision_score(X_test_prediction, Y_test)\n",
        "print('Precision of Testing Data:',Testing_data_Precision5b)"
      ]
    },
    {
      "cell_type": "code",
      "execution_count": null,
      "metadata": {
        "id": "FItM_4khGcF9"
      },
      "outputs": [],
      "source": [
        "#Recall_Score of training data for RFC\n",
        "\n",
        "X_train_prediction=model5.predict(X_train.ft)\n",
        "Training_data_recall=recall_score(X_train_prediction, Y_train)\n",
        "print('Recall(sensitivity) of Training Data:',Training_data_recall)"
      ]
    },
    {
      "cell_type": "code",
      "execution_count": null,
      "metadata": {
        "id": "9xY4jaZGGgu9"
      },
      "outputs": [],
      "source": [
        "#Recall_Score of testing data for RFC\n",
        "\n",
        "X_test_prediction=model5.predict(X_test.ft)\n",
        "Testing_data_recall=recall_score(X_test_prediction, Y_test)\n",
        "print('Recall(sensitivity) of Testing Data:',Testing_data_recall)"
      ]
    },
    {
      "cell_type": "code",
      "execution_count": null,
      "metadata": {
        "id": "GyltxmoPGjHw"
      },
      "outputs": [],
      "source": [
        "#F1_Score of training data for RFC\n",
        "\n",
        "X_train_prediction=model5.predict(X_train.ft)\n",
        "Training_data_F1=f1_score(X_train_prediction, Y_train)\n",
        "print('F1_score of Training Data:',Training_data_F1)"
      ]
    },
    {
      "cell_type": "code",
      "execution_count": null,
      "metadata": {
        "id": "PpTNG5jdGi0J"
      },
      "outputs": [],
      "source": [
        "#F1_Score of testing data for RFC\n",
        "\n",
        "X_test_prediction=model5.predict(X_test.ft)\n",
        "Testing_data_F1=f1_score(X_test_prediction, Y_test)\n",
        "print('F1_score of Testing Data:',Testing_data_F1)"
      ]
    },
    {
      "cell_type": "code",
      "execution_count": null,
      "metadata": {
        "id": "7_sVtes5a6IF"
      },
      "outputs": [],
      "source": [
        "select = RFE(RandomForestClassifier(n_estimators=100,random_state=42),n_features_to_select=15)\n",
        "select.fit(X_train.ft,Y_train)\n",
        "X_train_selected = select.transform(X_train.ft)\n",
        "\n",
        "print(\"X_train.shape: {}\".format(X_train.ft.shape))\n",
        "print(\"X_train_selected.shape: {}\".format(X_train_selected.shape))"
      ]
    },
    {
      "cell_type": "code",
      "execution_count": null,
      "metadata": {
        "id": "JMe3XfglqdLB"
      },
      "outputs": [],
      "source": [
        "mask = select.get_support()\n",
        "plt.matshow(mask.reshape(1,-1),cmap='gray_r')\n",
        "plt.xlabel(\"Sample index\")\n",
        "plt.yticks(())\n",
        "plt.show()"
      ]
    },
    {
      "cell_type": "code",
      "execution_count": null,
      "metadata": {
        "id": "y0vtbxoxyUkB"
      },
      "outputs": [],
      "source": [
        "X_test_selected = select.transform(X_test.ft)\n",
        "\n",
        "model5.fit(X_train.ft,Y_train)\n",
        "print(\"Accuracy Score with all features: {:,.3f}\".format(model5.score(X_test.ft,Y_test)))\n",
        "\n",
        "model5.fit(X_train_selected,Y_train)\n",
        "print(\"Accuracy Score with Selected features: {:,.3f}\".format(model5.score(X_test_selected,Y_test)))"
      ]
    },
    {
      "cell_type": "code",
      "execution_count": null,
      "metadata": {
        "id": "TKGFAG5cGr2U"
      },
      "outputs": [],
      "source": [
        "plt.subplots(figsize=(15,10))\n",
        "cf_matrix5 = confusion_matrix(Y_test,X_test_prediction )\n",
        "sns.heatmap(cf_matrix5/np.sum(cf_matrix5), annot = True, annot_kws = {'size':15}, cmap = 'gist_heat_r')"
      ]
    },
    {
      "cell_type": "markdown",
      "metadata": {
        "id": "pg0SPCzbhSlj"
      },
      "source": [
        "# Naive Bayes"
      ]
    },
    {
      "cell_type": "code",
      "execution_count": null,
      "metadata": {
        "id": "6SGPW1DphR4_"
      },
      "outputs": [],
      "source": [
        "model6 = BernoulliNB()\n"
      ]
    },
    {
      "cell_type": "code",
      "execution_count": null,
      "metadata": {
        "id": "f9ERuHNbjQfr"
      },
      "outputs": [],
      "source": [
        "model6.fit(X_train.ft, Y_train)"
      ]
    },
    {
      "cell_type": "code",
      "execution_count": null,
      "metadata": {
        "id": "7o2iARJVh63J"
      },
      "outputs": [],
      "source": [
        "#Accuracy Score of training data for Naive bayes\n",
        "\n",
        "X_train_prediction=model6.predict(X_train.ft)\n",
        "Training_data_Accuracy=accuracy_score(X_train_prediction, Y_train)\n",
        "print('Accuracy of Training Data:',Training_data_Accuracy)"
      ]
    },
    {
      "cell_type": "code",
      "execution_count": null,
      "metadata": {
        "id": "DJ_OESd2iGTk"
      },
      "outputs": [],
      "source": [
        "#Accuracy Score of testing data for Naive bayes\n",
        "\n",
        "X_test_prediction=model6.predict(X_test.ft)\n",
        "Testing_data_Accuracy=accuracy_score(X_test_prediction, Y_test)\n",
        "print('Accuracy of Testing Data:',Testing_data_Accuracy)"
      ]
    },
    {
      "cell_type": "code",
      "execution_count": null,
      "metadata": {
        "id": "20HJ1noikAQO"
      },
      "outputs": [],
      "source": [
        "X_train_prediction=model6.predict(X_train.ft)\n",
        "Training_data_Precision6a=precision_score(X_train_prediction, Y_train)\n",
        "print('Precision of Training Data:',Training_data_Precision6a)"
      ]
    },
    {
      "cell_type": "code",
      "execution_count": null,
      "metadata": {
        "id": "3kP1cUmUkJ42"
      },
      "outputs": [],
      "source": [
        "X_test_prediction=model6.predict(X_test.ft)\n",
        "Testing_data_Precision6b=precision_score(X_test_prediction, Y_test)\n",
        "print('Precision of Testing Data:',Testing_data_Precision6b)"
      ]
    },
    {
      "cell_type": "code",
      "execution_count": null,
      "metadata": {
        "id": "W_IqRRL2G1m_"
      },
      "outputs": [],
      "source": [
        "#Recall_Score of training data for NB\n",
        "\n",
        "X_train_prediction=model6.predict(X_train.ft)\n",
        "Training_data_recall=recall_score(X_train_prediction, Y_train)\n",
        "print('Recall(sensitivity) of Training Data:',Training_data_recall)"
      ]
    },
    {
      "cell_type": "code",
      "execution_count": null,
      "metadata": {
        "id": "MZTxZcXLG1Js"
      },
      "outputs": [],
      "source": [
        "#Recall_Score of testing data for NB\n",
        "\n",
        "X_test_prediction=model6.predict(X_test.ft)\n",
        "Testing_data_recall=recall_score(X_test_prediction, Y_test)\n",
        "print('Recall(sensitivity) of Testing Data:',Testing_data_recall)"
      ]
    },
    {
      "cell_type": "code",
      "execution_count": null,
      "metadata": {
        "id": "vRQJLxUyG07J"
      },
      "outputs": [],
      "source": [
        "#F1_Score of training data for NB\n",
        "\n",
        "X_train_prediction=model6.predict(X_train.ft)\n",
        "Training_data_F1=f1_score(X_train_prediction, Y_train)\n",
        "print('F1_score of Training Data:',Training_data_F1)"
      ]
    },
    {
      "cell_type": "code",
      "execution_count": null,
      "metadata": {
        "id": "HjQMUf_CG0vj"
      },
      "outputs": [],
      "source": [
        "#F1_Score of testing data for NB\n",
        "\n",
        "X_test_prediction=model6.predict(X_test.ft)\n",
        "Testing_data_F1=f1_score(X_test_prediction, Y_test)\n",
        "print('F1_score of Testing Data:',Testing_data_F1)"
      ]
    },
    {
      "cell_type": "code",
      "execution_count": null,
      "metadata": {
        "id": "oOaZTseIG0hE"
      },
      "outputs": [],
      "source": [
        "#confusion matrix\n",
        "plt.subplots(figsize=(15,10))\n",
        "cf_matrix6 = confusion_matrix(Y_test,X_test_prediction )\n",
        "sns.heatmap(cf_matrix6/np.sum(cf_matrix6), annot = True, annot_kws = {'size':15}, cmap = 'YlOrRd_r')"
      ]
    },
    {
      "cell_type": "markdown",
      "metadata": {
        "id": "4W-a43CCCd4c"
      },
      "source": [
        "Building Predictive System"
      ]
    },
    {
      "cell_type": "code",
      "execution_count": null,
      "metadata": {
        "id": "ee7P8UYsEQGg"
      },
      "outputs": [],
      "source": [
        "input_data=(33,52,152,22.5,11,72,18,11,2,5,8,0,1,1.99,1.99,5.84,4.54,38,32,0.842,3.74,1,33.68,31.55,0.25,92,0,1,1,1,1,1,0,110,70,6,9,13,13,6,)\n",
        "#change input to numpy array\n",
        "input_data_as_numpy_array=np.asarray(input_data)\n",
        "#reshape array\n",
        "input_data_reshaped=input_data_as_numpy_array.reshape(1,-1)\n",
        "prediction=model_cb.predict(input_data_reshaped)\n",
        "print(prediction)\n",
        "\n",
        "if(prediction[0]==0):\n",
        "  print('you do not have PCOS')\n",
        "else:\n",
        "    print('seek medical help, you have PCOS')"
      ]
    }
  ],
  "metadata": {
    "accelerator": "GPU",
    "colab": {
      "provenance": [],
      "include_colab_link": true
    },
    "kernelspec": {
      "display_name": "Python 3",
      "name": "python3"
    },
    "language_info": {
      "name": "python"
    }
  },
  "nbformat": 4,
  "nbformat_minor": 0
}